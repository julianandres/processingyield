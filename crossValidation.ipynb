{
 "cells": [
  {
   "cell_type": "markdown",
   "metadata": {},
   "source": [
    "<b>1</b> OBTENCIÓN DE DATOS"
   ]
  },
  {
   "cell_type": "code",
   "execution_count": 1,
   "metadata": {},
   "outputs": [
    {
     "name": "stdout",
     "output_type": "stream",
     "text": [
      "1172\n",
      "key  ndvi len  1172\n",
      "key  volImage len  1172\n",
      "key  areaImage len  1172\n",
      "key  hImage len  1172\n",
      "key  dataIafNdvi len  1172\n",
      "key  maxRed len  1172\n",
      "key  minRed len  1172\n",
      "key  maxBlue len  1172\n",
      "key  meanRed len  1172\n",
      "key  minBlue len  1172\n",
      "key  maxGreen len  1172\n",
      "key  meanBlue len  1172\n",
      "key  minGreen len  1172\n",
      "key  meanGreen len  1172\n",
      "key  varianceRed len  1172\n",
      "key  maxHistGrVal len  1172\n",
      "key  maxHistValue len  1172\n",
      "key  varianceBlue len  1172\n",
      "key  maxHistBluVal len  1172\n",
      "key  varianceGreen len  1172\n",
      "key  criMean len  1172\n",
      "key  criMax len  1172\n",
      "key  criMin len  1172\n",
      "key  cgreenviMean len  1172\n",
      "key  cgreenviMax len  1172\n",
      "key  cgreenviMin len  1172\n",
      "key  cnirviMean len  1172\n",
      "key  cnirviMax len  1172\n",
      "key  cnirviMin len  1172\n",
      "key  gndviMean len  1172\n",
      "key  gndviMax len  1172\n",
      "key  gndviMin len  1172\n",
      "key  mcariOneMean len  1172\n",
      "key  mcariOneMax len  1172\n",
      "key  mcariOneMin len  1172\n",
      "key  mtviOneMean len  1172\n",
      "key  mtviOneMax len  1172\n",
      "key  mtviOneMin len  1172\n",
      "key  ngrdiMean len  1172\n",
      "key  ngrdiMax len  1172\n",
      "key  ngrdiMin len  1172\n",
      "key  ndviMean len  1172\n",
      "key  ndviMax len  1172\n",
      "key  ndviMin len  1172\n",
      "key  rviMean len  1172\n",
      "key  rviMax len  1172\n",
      "key  rviMin len  1172\n",
      "key  nrviMean len  1172\n",
      "key  nrviMax len  1172\n",
      "key  nrviMin len  1172\n",
      "key  tviMean len  1172\n",
      "key  tviMax len  1172\n",
      "key  tviMin len  1172\n",
      "key  saviMean len  1172\n",
      "key  saviMax len  1172\n",
      "key  saviMin len  1172\n"
     ]
    }
   ],
   "source": [
    "import definirCorrelacionVariables\n",
    "from matplotlib import pyplot\n",
    "from sklearn.metrics import r2_score\n",
    "from scipy.optimize import curve_fit\n",
    "import seaborn as sns\n",
    "import pandas as pd\n",
    "import numpy as np\n",
    "import pylab as pl\n",
    "\n",
    "data= definirCorrelacionVariables.getDataFromDataBase()"
   ]
  },
  {
   "cell_type": "markdown",
   "metadata": {},
   "source": [
    "<b>2</b> pre PROCESAMIENTO DE DATA"
   ]
  },
  {
   "cell_type": "code",
   "execution_count": 2,
   "metadata": {},
   "outputs": [
    {
     "name": "stdout",
     "output_type": "stream",
     "text": [
      "103\n"
     ]
    }
   ],
   "source": [
    "dataframe,datos,dictGeneral = definirCorrelacionVariables.generarMatrizDatos(data,True)"
   ]
  },
  {
   "cell_type": "markdown",
   "metadata": {},
   "source": [
    "3. OBTENCIÓN DE CORRELACIÓN MÚLTIPLE"
   ]
  },
  {
   "cell_type": "markdown",
   "metadata": {},
   "source": [
    "GRAFICAS ENTRE VARIABLES"
   ]
  },
  {
   "cell_type": "code",
   "execution_count": 3,
   "metadata": {},
   "outputs": [
    {
     "data": {
      "image/png": "[encoded data removed]",
      "text/plain": [
       "<Figure size 432x288 with 1 Axes>"
      ]
     },
     "metadata": {
      "needs_background": "light"
     },
     "output_type": "display_data"
    }
   ],
   "source": [
    "#pyplot.scatter(datos.datosVolumen, datos.datosVolumenCalculado,c=\"red\")\n",
    "#pyplot.scatter(datos.datosArea, datos.datosAreaCalculada,c=\"red\")\n",
    "#pyplot.scatter(datos.datosNdvi, datos.datosVolumenCalculado,c=\"blue\")\n",
    "#pyplot.scatter(datos.datosAltura, datos.datosNdvi,c=\"green\")\n",
    "pyplot.scatter(dataframe[\"volImage\"],dataframe[\"yields\"],c=\"black\")\n",
    "pyplot.xlabel(\"volImage\")\n",
    "pyplot.ylabel(\"yields\")\n",
    "\n",
    "pyplot.show()"
   ]
  },
  {
   "cell_type": "markdown",
   "metadata": {},
   "source": [
    "SE CALCULA LA VARIABLE EL IAF\n",
    "$Ac = \\pi*r*g $\n",
    "\n",
    "$g = \\sqrt(h^2 + r^2) $\n",
    "\n",
    "Se tiene que $r = Di/2$\n",
    "\n",
    "$Ac = \\pi*r*\\sqrt(h^2 + r^2)$\n",
    "\n",
    "$Ac = \\pi*\\frac{Di}{4}*\\sqrt(4*h^2 + Di^2)$\n",
    "\n",
    "Diametro\n",
    "\n",
    "$diameter = 2*\\sqrt(\\frac{area}{\\pi})$"
   ]
  },
  {
   "cell_type": "code",
   "execution_count": 4,
   "metadata": {},
   "outputs": [],
   "source": [
    "\n",
    "import math\n",
    "areaLateral = []\n",
    "volumeFromDiameter = []\n",
    "diametros=[]\n",
    "for index,x in enumerate(datos.datosArea):\n",
    "    diametro = 2*math.sqrt(x/math.pi)\n",
    "    diametros.append(diametro)\n",
    "    altura= datos.datosAlturaCalculada[index]/100\n",
    "    valueAreaLateral=diametro*math.sqrt((diametro*diametro)+4*(altura*altura))\n",
    "    valueVolume = math.pi*diametro*diametro*altura*(1/6)\n",
    "    volumeFromDiameter.append(valueVolume)\n",
    "    areaLateral.append(valueAreaLateral)\n"
   ]
  },
  {
   "cell_type": "markdown",
   "metadata": {},
   "source": [
    "<b style=\"color:orange;\">LAI CALCULATED FROM EQUATION BASED ON VOLUME and AREA</b>\n",
    "\n",
    "Se calcula el IAF usando Volumen Imagen y Yield\n",
    "\n",
    "$IAF =  0.0134 + 2.7791 Vc$\n",
    "\n",
    "Se calcula IAF usando Area Lateral y Yield\n",
    "\n",
    "$IAF =  -0.5786 + 0.7896 Alat $\n"
   ]
  },
  {
   "cell_type": "code",
   "execution_count": 5,
   "metadata": {},
   "outputs": [
    {
     "name": "stdout",
     "output_type": "stream",
     "text": [
      "              yields  volImage  maxRed  maxBlue  varianceBlue  criMax  \\\n",
      "yields          1.00      0.76    0.46     0.41          0.49    0.51   \n",
      "volImage        0.76      1.00    0.33     0.23          0.52    0.43   \n",
      "maxRed          0.46      0.33    1.00     0.71          0.51    0.92   \n",
      "maxBlue         0.41      0.23    0.71     1.00          0.45    0.52   \n",
      "varianceBlue    0.49      0.52    0.51     0.45          1.00    0.50   \n",
      "criMax          0.51      0.43    0.92     0.52          0.50    1.00   \n",
      "maxGreen        0.47      0.37    0.93     0.62          0.59    0.90   \n",
      "\n",
      "              maxGreen  \n",
      "yields            0.47  \n",
      "volImage          0.37  \n",
      "maxRed            0.93  \n",
      "maxBlue           0.62  \n",
      "varianceBlue      0.59  \n",
      "criMax            0.90  \n",
      "maxGreen          1.00  \n",
      "             yields  mtviOneMean  ndviMean  laiLatArea  saviMax  tviMax  \\\n",
      "yields         1.00         0.07      0.36        0.77     0.32    0.32   \n",
      "mtviOneMean    0.07         1.00      0.66       -0.25     0.12    0.11   \n",
      "ndviMean       0.36         0.66      1.00       -0.01     0.03    0.03   \n",
      "laiLatArea     0.77        -0.25     -0.01        1.00     0.32    0.33   \n",
      "saviMax        0.32         0.12      0.03        0.32     1.00    1.00   \n",
      "tviMax         0.32         0.11      0.03        0.33     1.00    1.00   \n",
      "ndviMax        0.60         0.26      0.47        0.44     0.76    0.76   \n",
      "\n",
      "             ndviMax  \n",
      "yields          0.60  \n",
      "mtviOneMean     0.26  \n",
      "ndviMean        0.47  \n",
      "laiLatArea      0.44  \n",
      "saviMax         0.76  \n",
      "tviMax          0.76  \n",
      "ndviMax         1.00  \n"
     ]
    }
   ],
   "source": [
    "\n",
    "IAF_from_volume = definirCorrelacionVariables.objective(datos.datosVolumenImagen, 2.7791,0.0134)\n",
    "IAF_from_area = definirCorrelacionVariables.objective(areaLateral, 0.7896,-0.5786)\n",
    "d = {\"latArea\":areaLateral, \"IAF_VOL\":IAF_from_volume, \"laiLatArea\":IAF_from_area}\n",
    "dictGeneral.update(d)\n",
    "dframeFinal = pd.DataFrame(data=dictGeneral)\n",
    "pd.options.display.float_format = '{:,.2f}'.format\n",
    "dataFrameCorrs=dframeFinal.loc[:,[\"yields\",\"volImage\",\"maxRed\",\"maxBlue\",\"varianceBlue\",\"criMax\",\"maxGreen\"]]\n",
    "dfCors= dataFrameCorrs.corr(method=\"pearson\")\n",
    "dfCors.round(decimals=3)\n",
    "print(dfCors)\n",
    "dfCors.to_latex(\"CorrelationsTabVariablesYieldPredict1.tex\")\n",
    "dataFrameCorrs=dframeFinal.loc[:,[\"yields\",\"mtviOneMean\",'ndviMean','laiLatArea','saviMax','tviMax','ndviMax']]\n",
    "dfCors= dataFrameCorrs.corr(method=\"pearson\")\n",
    "dfCors.round(decimals=3)\n",
    "print(dfCors)\n",
    "dfCors.to_latex(\"CorrelationsTabVariablesYieldPredict2.tex\")"
   ]
  },
  {
   "cell_type": "markdown",
   "metadata": {},
   "source": [
    "<h1> USO DE CROSS VAL SCORE </h1>\n",
    "\n",
    "<b style=\"color:red;\">LINEAR REGRESSION SIMPLE VS MULTIPLE</b>\n",
    "\n",
    "\n"
   ]
  },
  {
   "cell_type": "markdown",
   "metadata": {},
   "source": [
    "Non Standard Scaler"
   ]
  },
  {
   "cell_type": "markdown",
   "metadata": {},
   "source": [
    "REGRESSION MODELS"
   ]
  },
  {
   "cell_type": "code",
   "execution_count": 6,
   "metadata": {},
   "outputs": [
    {
     "name": "stdout",
     "output_type": "stream",
     "text": [
      "Linear Regression Simple [0.68226567 0.58475797 0.30322008 0.54257341]\n",
      "0.5282042842263209\n",
      "Linear Regression Multiple [0.70675782 0.59128678 0.42330182 0.38342397]\n",
      "0.5261925977026363\n",
      "PLSRegression Regression Simple [0.68226567 0.58475797 0.30322008 0.54257341]\n",
      "0.528204284226321\n",
      "PLSRegression Regression Multiple [0.79223153 0.69562722 0.48876317 0.74497823]\n",
      "0.6804000384566546\n",
      "SVR Linear Simple [0.69945514 0.58941621 0.34854857 0.54126057]\n",
      "0.5446701192230544\n",
      "-15118.322498729183\n",
      "SVR Linear Multiple [0.77109128 0.69258181 0.41725301 0.65523135]"
     ]
    },
    {
     "name": "stderr",
     "output_type": "stream",
     "text": [
      "c:\\Users\\Julian Bolanos\\AppData\\Local\\Programs\\Python\\Python37\\lib\\site-packages\\sklearn\\cross_decomposition\\_pls.py:236: FutureWarning: As of version 0.24, n_components(2) should be in [1, n_features].n_components=1 will be used instead. In version 1.1 (renaming of 0.26), an error will be raised.\n",
      "  FutureWarning,\n",
      "c:\\Users\\Julian Bolanos\\AppData\\Local\\Programs\\Python\\Python37\\lib\\site-packages\\sklearn\\cross_decomposition\\_pls.py:236: FutureWarning: As of version 0.24, n_components(2) should be in [1, n_features].n_components=1 will be used instead. In version 1.1 (renaming of 0.26), an error will be raised.\n",
      "  FutureWarning,\n",
      "c:\\Users\\Julian Bolanos\\AppData\\Local\\Programs\\Python\\Python37\\lib\\site-packages\\sklearn\\cross_decomposition\\_pls.py:236: FutureWarning: As of version 0.24, n_components(2) should be in [1, n_features].n_components=1 will be used instead. In version 1.1 (renaming of 0.26), an error will be raised.\n",
      "  FutureWarning,\n",
      "c:\\Users\\Julian Bolanos\\AppData\\Local\\Programs\\Python\\Python37\\lib\\site-packages\\sklearn\\cross_decomposition\\_pls.py:236: FutureWarning: As of version 0.24, n_components(2) should be in [1, n_features].n_components=1 will be used instead. In version 1.1 (renaming of 0.26), an error will be raised.\n",
      "  FutureWarning,\n"
     ]
    },
    {
     "name": "stdout",
     "output_type": "stream",
     "text": [
      " 0.6340393623146006\n",
      "0.6340393623146006\n",
      "-17598.93046828811\n",
      "Simple Regressor Random forest  \n",
      "0.3284543064785447\n",
      "-9116.854323718679\n",
      "Multi Regressor Random Forest \n",
      "0.5546120392369951\n",
      "-15394.278802779292\n",
      "Decision Tree Simple Regressor\n",
      "0.08511106468770693\n",
      "Decision Tree Multi Regressor \n",
      "0.047239442586825886\n",
      "SGD Simple Regressor Squared Error\n",
      "0.25113014923708754\n",
      "-6970.579900245014\n",
      "SGD Multi Regressor Squared Error\n",
      "0.4215491740143592\n",
      "-11700.873862720671\n",
      "Lasso Simple Regressor \n",
      "0.528272649624141\n",
      "Lasso Multi Regressor \n",
      "0.6254059257805695\n",
      "BaggingRegressor Simple Regressor \n",
      "0.3120801399653558\n",
      "BaggingRegressor Multi Regressor \n",
      "0.5273916782288196\n",
      "AdaBoostRegressor Single Regressor \n",
      "0.3181068995218495\n",
      "AdaBoostRegressor Multi Regressor \n",
      "0.5137461627534704\n",
      "ExtraTreesRegressor Multi Regressor \n",
      "0.5217147924198438\n",
      "SVR RBF Simple [0.49709592 0.60214719 0.29374538 0.33751607]\n",
      "0.432626136634873\n",
      "-12008.335365184175\n",
      "SVR RBF Multiple [0.74033896 0.45126562 0.44991141 0.52644958]\n",
      "0.5419913932859619\n",
      "-15043.969525850034\n"
     ]
    }
   ],
   "source": [
    "from sklearn.ensemble import RandomForestRegressor\n",
    "from sklearn import ensemble\n",
    "from sklearn import tree\n",
    "from sklearn.model_selection import cross_val_score\n",
    "from sklearn.preprocessing import MinMaxScaler, StandardScaler,MaxAbsScaler, Normalizer\n",
    "from sklearn.linear_model import LinearRegression\n",
    "from sklearn.svm import SVR\n",
    "from sklearn import linear_model\n",
    "from sklearn.isotonic import IsotonicRegression\n",
    "from sklearn.cross_decomposition import PLSRegression\n",
    "\n",
    "cantCv=4\n",
    "scoreDef = \"r2\" \n",
    "#scoreDef=\"accuracy\"\n",
    "#scoreDef = \"explained_variance\"\n",
    "#scoreDef=\"neg_root_mean_squared_error\"\n",
    "dfsX=dframeFinal.loc[:,[\"volImage\"]]\n",
    "dframeFinal.head()\n",
    "X_volumenNoScaled= dfsX.values\n",
    "y_multiple = dframeFinal.yields.values\n",
    "\n",
    "sc_X = MaxAbsScaler()\n",
    "sc_y = MaxAbsScaler()\n",
    "Xvolume = sc_X.fit_transform(X_volumenNoScaled)\n",
    "yieldNoScaled=dframeFinal.yields.values.reshape(-1, 1)\n",
    "y = sc_y.fit_transform(yieldNoScaled)\n",
    "#y=y+1\n",
    "#print(y)\n",
    "dfsX=dframeFinal.loc[:,[\"volImage\",\"maxRed\",\"maxBlue\",\"varianceBlue\",\"criMax\",\"maxGreen\",\"mtviOneMean\",'ndviMean','laiLatArea','saviMax','tviMax','ndviMax']]\n",
    "X_multipleNoScaled= dfsX.values\n",
    "sc_XMulti = MaxAbsScaler()\n",
    "Xmulti = sc_XMulti.fit_transform(X_multipleNoScaled)\n",
    "\n",
    "scores = cross_val_score(LinearRegression(),X_volumenNoScaled ,yieldNoScaled , scoring=scoreDef, cv=cantCv)\n",
    "print( \"Linear Regression Simple\",scores)\n",
    "print(np.mean(scores))\n",
    "\n",
    "scores = cross_val_score(LinearRegression(),X_multipleNoScaled ,yieldNoScaled , scoring=scoreDef, cv=cantCv)\n",
    "print( \"Linear Regression Multiple\",scores)\n",
    "print(np.mean(scores))\n",
    "\n",
    "scores = cross_val_score(PLSRegression(n_components=2),X_volumenNoScaled ,yieldNoScaled , scoring=scoreDef, cv=cantCv)\n",
    "print( \"PLSRegression Regression Simple\",scores)\n",
    "print(np.mean(scores))\n",
    "\n",
    "scores = cross_val_score(PLSRegression(n_components=2),X_multipleNoScaled ,yieldNoScaled , scoring=scoreDef, cv=cantCv)\n",
    "print( \"PLSRegression Regression Multiple\",scores)\n",
    "print(np.mean(scores))\n",
    "\n",
    "scores = cross_val_score(SVR(kernel=\"linear\"),Xvolume ,y.ravel() , scoring=scoreDef, cv=cantCv)\n",
    "print( \"SVR Linear Simple\",scores)\n",
    "print(np.mean(scores))\n",
    "print(np.mean(sc_y.inverse_transform(scores.reshape(-1,1)*-1)))\n",
    "scores = cross_val_score(SVR(kernel=\"linear\"),Xmulti ,y.ravel() , scoring=scoreDef, cv=cantCv)\n",
    "print( \"SVR Linear Multiple\",scores,np.mean(scores.reshape(-1,1)))\n",
    "print(np.mean(scores))\n",
    "print(np.mean(sc_y.inverse_transform(scores.reshape(-1,1)*-1)))\n",
    "\n",
    "scores = cross_val_score(RandomForestRegressor(),Xvolume ,y.ravel() , scoring=scoreDef, cv=cantCv)\n",
    "print(\"Simple Regressor Random forest  \")\n",
    "print(np.mean(scores))\n",
    "print(np.mean(sc_y.inverse_transform(scores.reshape(-1,1)*-1)))\n",
    "\n",
    "scores = cross_val_score(RandomForestRegressor(),Xmulti ,y.ravel() , scoring=scoreDef, cv=cantCv)\n",
    "print(\"Multi Regressor Random Forest \")\n",
    "print(np.mean(scores))\n",
    "print(np.mean(sc_y.inverse_transform(scores.reshape(-1,1)*-1)))\n",
    "\n",
    "scores = cross_val_score(tree.DecisionTreeRegressor(),X_volumenNoScaled ,yieldNoScaled.ravel() , scoring=scoreDef, cv=cantCv)\n",
    "print(\"Decision Tree Simple Regressor\")\n",
    "#print(scores)\n",
    "print(np.mean(scores))\n",
    "\n",
    "scores = cross_val_score(tree.DecisionTreeRegressor(),X_multipleNoScaled ,yieldNoScaled.ravel() , scoring=scoreDef, cv=cantCv)\n",
    "print(\"Decision Tree Multi Regressor \")\n",
    "#print(scores)\n",
    "print(np.mean(scores))\n",
    "\n",
    "scores = cross_val_score(linear_model.SGDRegressor(loss=\"squared_epsilon_insensitive\"),Xvolume ,y.ravel() , scoring=scoreDef, cv=cantCv)\n",
    "print(\"SGD Simple Regressor Squared Error\")\n",
    "#print(scores)\n",
    "#scores=scores-1\n",
    "print(np.mean(scores))\n",
    "\n",
    "print(np.mean(sc_y.inverse_transform(scores.reshape(-1,1)*-1)))\n",
    "\n",
    "scores = cross_val_score(linear_model.SGDRegressor(loss=\"squared_error\",penalty=\"elasticnet\",learning_rate=\"adaptive\"),Xmulti ,y.ravel() , scoring=scoreDef, cv=cantCv)\n",
    "print(\"SGD Multi Regressor Squared Error\")\n",
    "#print(scores)\n",
    "#scores=scores-1\n",
    "print(np.mean(scores))\n",
    "print(np.mean(sc_y.inverse_transform(scores.reshape(-1,1)*-1)))\n",
    "\n",
    "scores = cross_val_score(linear_model.Lasso(),X_volumenNoScaled ,yieldNoScaled.ravel() , scoring=scoreDef, cv=cantCv)\n",
    "print(\"Lasso Simple Regressor \")\n",
    "#print(scores)\n",
    "print(np.mean(scores))\n",
    "\n",
    "scores = cross_val_score(linear_model.Lasso(),X_multipleNoScaled ,yieldNoScaled.ravel() , scoring=scoreDef, cv=cantCv)\n",
    "print(\"Lasso Multi Regressor \")\n",
    "#print(scores)\n",
    "print(np.mean(scores))\n",
    "\n",
    "\n",
    "\n",
    "scores = cross_val_score(ensemble.BaggingRegressor(),X_volumenNoScaled ,yieldNoScaled.ravel() , scoring=scoreDef, cv=cantCv)\n",
    "print(\"BaggingRegressor Simple Regressor \")\n",
    "#print(scores)\n",
    "print(np.mean(scores))\n",
    "\n",
    "scores = cross_val_score(ensemble.BaggingRegressor(),X_multipleNoScaled ,yieldNoScaled.ravel() , scoring=scoreDef, cv=cantCv)\n",
    "print(\"BaggingRegressor Multi Regressor \")\n",
    "#print(scores)\n",
    "print(np.mean(scores))\n",
    "\n",
    "scores = cross_val_score(ensemble.AdaBoostRegressor(loss=\"square\"),X_volumenNoScaled ,yieldNoScaled.ravel() , scoring=scoreDef, cv=cantCv)\n",
    "print(\"AdaBoostRegressor Single Regressor \")\n",
    "#print(scores)\n",
    "print(np.mean(scores))\n",
    "\n",
    "scores = cross_val_score(ensemble.AdaBoostRegressor(loss=\"square\"),X_multipleNoScaled ,yieldNoScaled.ravel() , scoring=scoreDef, cv=cantCv)\n",
    "print(\"AdaBoostRegressor Multi Regressor \")\n",
    "#print(scores)\n",
    "print(np.mean(scores))\n",
    "\n",
    "scores = cross_val_score(ensemble.ExtraTreesRegressor(criterion=\"absolute_error\"),X_multipleNoScaled ,yieldNoScaled.ravel() , scoring=scoreDef, cv=cantCv)\n",
    "print(\"ExtraTreesRegressor Multi Regressor \")\n",
    "#print(scores)\n",
    "print(np.mean(scores))\n",
    "\n",
    "scores = cross_val_score(SVR(kernel=\"rbf\"),Xvolume ,y.ravel() , scoring=scoreDef, cv=cantCv)\n",
    "print( \"SVR RBF Simple\",scores)\n",
    "print(np.mean(scores))\n",
    "print(np.mean(sc_y.inverse_transform(scores.reshape(-1,1)*-1)))\n",
    "\n",
    "scores = cross_val_score(SVR(kernel=\"rbf\"),Xmulti ,y.ravel() , scoring=scoreDef, cv=cantCv)\n",
    "print( \"SVR RBF Multiple\",scores)\n",
    "print(np.mean(scores))\n",
    "print(np.mean(sc_y.inverse_transform(scores.reshape(-1,1)*-1)))"
   ]
  },
  {
   "cell_type": "markdown",
   "metadata": {},
   "source": []
  }
 ],
 "metadata": {
  "kernelspec": {
   "display_name": "Python 3.7.7 64-bit",
   "language": "python",
   "name": "python3"
  },
  "language_info": {
   "codemirror_mode": {
    "name": "ipython",
    "version": 3
   },
   "file_extension": ".py",
   "mimetype": "text/x-python",
   "name": "python",
   "nbconvert_exporter": "python",
   "pygments_lexer": "ipython3",
   "version": "3.7.7 (tags/v3.7.7:d7c567b08f, Mar 10 2020, 10:41:24) [MSC v.1900 64 bit (AMD64)]"
  },
  "orig_nbformat": 4,
  "vscode": {
   "interpreter": {
    "hash": "fab46d772d21f764a59cf4f13946263a2b97144f4b3a26e55c5a66f62bca7d32"
   }
  }
 },
 "nbformat": 4,
 "nbformat_minor": 2
}
