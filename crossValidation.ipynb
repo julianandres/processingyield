{
 "cells": [
  {
   "cell_type": "markdown",
   "metadata": {},
   "source": [
    "<b>1</b> OBTENCIÓN DE DATOS"
   ]
  },
  {
   "cell_type": "code",
   "execution_count": 37,
   "metadata": {},
   "outputs": [],
   "source": [
    "import definirCorrelacionVariables\n",
    "from matplotlib import pyplot\n",
    "from sklearn.metrics import r2_score\n",
    "from scipy.optimize import curve_fit\n",
    "import seaborn as sns\n",
    "import pandas as pd\n",
    "import numpy as np\n",
    "import pylab as pl\n",
    "\n",
    "data= definirCorrelacionVariables.getDataFromDataBase()"
   ]
  },
  {
   "cell_type": "markdown",
   "metadata": {},
   "source": [
    "<b>2</b> pre PROCESAMIENTO DE DATA"
   ]
  },
  {
   "cell_type": "code",
   "execution_count": 38,
   "metadata": {},
   "outputs": [
    {
     "name": "stdout",
     "output_type": "stream",
     "text": [
      "373\n"
     ]
    }
   ],
   "source": [
    "dataframe,datos,dictGeneral = definirCorrelacionVariables.generarMatrizDatos(data,True)"
   ]
  },
  {
   "cell_type": "markdown",
   "metadata": {},
   "source": [
    "3. OBTENCIÓN DE CORRELACIÓN MÚLTIPLE"
   ]
  },
  {
   "cell_type": "markdown",
   "metadata": {},
   "source": [
    "GRAFICAS ENTRE VARIABLES"
   ]
  },
  {
   "cell_type": "code",
   "execution_count": 39,
   "metadata": {},
   "outputs": [
    {
     "data": {
      "image/png": "[encoded data removed]",
      "text/plain": [
       "<Figure size 432x288 with 1 Axes>"
      ]
     },
     "metadata": {
      "needs_background": "light"
     },
     "output_type": "display_data"
    }
   ],
   "source": [
    "#pyplot.scatter(datos.datosVolumen, datos.datosVolumenCalculado,c=\"red\")\n",
    "#pyplot.scatter(datos.datosArea, datos.datosAreaCalculada,c=\"red\")\n",
    "#pyplot.scatter(datos.datosNdvi, datos.datosVolumenCalculado,c=\"blue\")\n",
    "#pyplot.scatter(datos.datosAltura, datos.datosNdvi,c=\"green\")\n",
    "pyplot.scatter(dataframe[\"volImage\"],dataframe[\"yields\"],c=\"black\")\n",
    "pyplot.xlabel(\"volImage\")\n",
    "pyplot.ylabel(\"yields\")\n",
    "\n",
    "pyplot.show()"
   ]
  },
  {
   "cell_type": "markdown",
   "metadata": {},
   "source": [
    "SE CALCULA LA VARIABLE EL IAF\n",
    "$Ac = \\pi*r*g $\n",
    "\n",
    "$g = \\sqrt(h^2 + r^2) $\n",
    "\n",
    "Se tiene que $r = Di/2$\n",
    "\n",
    "$Ac = \\pi*r*\\sqrt(h^2 + r^2)$\n",
    "\n",
    "$Ac = \\pi*\\frac{Di}{4}*\\sqrt(4*h^2 + Di^2)$\n",
    "\n",
    "Diametro\n",
    "\n",
    "$diameter = 2*\\sqrt(\\frac{area}{\\pi})$"
   ]
  },
  {
   "cell_type": "code",
   "execution_count": 40,
   "metadata": {},
   "outputs": [],
   "source": [
    "\n",
    "import math\n",
    "areaLateral = []\n",
    "volumeFromDiameter = []\n",
    "diametros=[]\n",
    "for index,x in enumerate(datos.datosArea):\n",
    "    diametro = 2*math.sqrt(x/math.pi)\n",
    "    diametros.append(diametro)\n",
    "    altura= datos.datosAlturaCalculada[index]/100\n",
    "    valueAreaLateral=diametro*math.sqrt((diametro*diametro)+4*(altura*altura))\n",
    "    valueVolume = math.pi*diametro*diametro*altura*(1/6)\n",
    "    volumeFromDiameter.append(valueVolume)\n",
    "    areaLateral.append(valueAreaLateral)\n"
   ]
  },
  {
   "cell_type": "markdown",
   "metadata": {},
   "source": [
    "<b style=\"color:orange;\">LAI CALCULATED FROM EQUATION BASED ON VOLUME and AREA</b>\n",
    "\n",
    "Se calcula el IAF usando Volumen Imagen y Yield\n",
    "\n",
    "$IAF =  0.0134 + 2.7791 Vc$\n",
    "\n",
    "Se calcula IAF usando Area Lateral y Yield\n",
    "\n",
    "$IAF =  -0.5786 + 0.7896 Alat $\n"
   ]
  },
  {
   "cell_type": "code",
   "execution_count": 41,
   "metadata": {},
   "outputs": [
    {
     "name": "stdout",
     "output_type": "stream",
     "text": [
      "             yields  volImage  criMax  laiLatArea  hImage  tviMin  ndviMax  \\\n",
      "yields         1.00      0.71    0.63        0.69    0.50   -0.39     0.55   \n",
      "volImage       0.71      1.00    0.62        0.99    0.69   -0.46     0.60   \n",
      "criMax         0.63      0.62    1.00        0.61    0.40   -0.65     0.63   \n",
      "laiLatArea     0.69      0.99    0.61        1.00    0.74   -0.45     0.58   \n",
      "hImage         0.50      0.69    0.40        0.74    1.00   -0.39     0.27   \n",
      "tviMin        -0.39     -0.46   -0.65       -0.45   -0.39    1.00    -0.30   \n",
      "ndviMax        0.55      0.60    0.63        0.58    0.27   -0.30     1.00   \n",
      "cgreenviMax    0.60      0.60    0.91        0.60    0.36   -0.55     0.67   \n",
      "\n",
      "             cgreenviMax  \n",
      "yields              0.60  \n",
      "volImage            0.60  \n",
      "criMax              0.91  \n",
      "laiLatArea          0.60  \n",
      "hImage              0.36  \n",
      "tviMin             -0.55  \n",
      "ndviMax             0.67  \n",
      "cgreenviMax         1.00  \n"
     ]
    }
   ],
   "source": [
    "\n",
    "IAF_from_volume = definirCorrelacionVariables.objective(datos.datosVolumenImagen, 2.7791,0.0134)\n",
    "IAF_from_area = definirCorrelacionVariables.objective(areaLateral, 0.7896,-0.5786)\n",
    "d = {\"latArea\":areaLateral, \"IAF_VOL\":IAF_from_volume, \"laiLatArea\":IAF_from_area}\n",
    "dictGeneral.update(d)\n",
    "dframeFinal = pd.DataFrame(data=dictGeneral)\n",
    "pd.options.display.float_format = '{:,.2f}'.format\n",
    "dataFrameCorrs=dframeFinal.loc[:,[\"yields\",\"volImage\",\"criMax\",\"laiLatArea\",\"hImage\",\"tviMin\",\"ndviMax\",\"cgreenviMax\"]]\n",
    "dfCors= dataFrameCorrs.corr(method=\"pearson\")\n",
    "dfCors.round(decimals=3)\n",
    "print(dfCors)\n",
    "dfCors.to_latex(\"CorrelationsTab.tex\")"
   ]
  },
  {
   "cell_type": "markdown",
   "metadata": {},
   "source": [
    "<h1> USO DE CROSS VAL SCORE </h1>\n",
    "\n",
    "<b style=\"color:red;\">LINEAR REGRESSION SIMPLE VS MULTIPLE</b>\n",
    "\n",
    "\n"
   ]
  },
  {
   "cell_type": "markdown",
   "metadata": {},
   "source": [
    "Non Standard Scaler"
   ]
  },
  {
   "cell_type": "markdown",
   "metadata": {},
   "source": [
    "REGRESSION MODELS"
   ]
  },
  {
   "cell_type": "code",
   "execution_count": 64,
   "metadata": {},
   "outputs": [
    {
     "name": "stdout",
     "output_type": "stream",
     "text": [
      "Linear Regression Simple [0.5592212  0.55552891 0.45958938 0.33793399]\n",
      "0.4780683693718533\n",
      "Linear Regression Multiple [0.62686969 0.69602747 0.60166878 0.3820259 ]\n",
      "0.5766479605021491\n",
      "PLSRegression Regression Simple [0.5592212  0.55552891 0.45958938 0.33793399]\n",
      "0.4780683693718534\n",
      "PLSRegression Regression Multiple [0.61116547 0.68741189 0.47818272 0.38396173]\n",
      "0.54018044881801\n",
      "SVR Linear Simple [0.55979283 0.54629375 0.44994736 0.33963099]\n",
      "0.4739162326871408\n",
      "-13154.418041818124\n",
      "SVR Linear Multiple [0.608537   0.67332593 0.4835525  0.39260221] 0.5395044085056806\n",
      "0.5395044085056806\n",
      "-14974.938681985572\n"
     ]
    },
    {
     "name": "stderr",
     "output_type": "stream",
     "text": [
      "c:\\Users\\Julian Bolanos\\AppData\\Local\\Programs\\Python\\Python37\\lib\\site-packages\\sklearn\\cross_decomposition\\_pls.py:236: FutureWarning: As of version 0.24, n_components(2) should be in [1, n_features].n_components=1 will be used instead. In version 1.1 (renaming of 0.26), an error will be raised.\n",
      "  FutureWarning,\n",
      "c:\\Users\\Julian Bolanos\\AppData\\Local\\Programs\\Python\\Python37\\lib\\site-packages\\sklearn\\cross_decomposition\\_pls.py:236: FutureWarning: As of version 0.24, n_components(2) should be in [1, n_features].n_components=1 will be used instead. In version 1.1 (renaming of 0.26), an error will be raised.\n",
      "  FutureWarning,\n",
      "c:\\Users\\Julian Bolanos\\AppData\\Local\\Programs\\Python\\Python37\\lib\\site-packages\\sklearn\\cross_decomposition\\_pls.py:236: FutureWarning: As of version 0.24, n_components(2) should be in [1, n_features].n_components=1 will be used instead. In version 1.1 (renaming of 0.26), an error will be raised.\n",
      "  FutureWarning,\n",
      "c:\\Users\\Julian Bolanos\\AppData\\Local\\Programs\\Python\\Python37\\lib\\site-packages\\sklearn\\cross_decomposition\\_pls.py:236: FutureWarning: As of version 0.24, n_components(2) should be in [1, n_features].n_components=1 will be used instead. In version 1.1 (renaming of 0.26), an error will be raised.\n",
      "  FutureWarning,\n"
     ]
    },
    {
     "name": "stdout",
     "output_type": "stream",
     "text": [
      "Simple Regressor Random forest  \n",
      "0.22906312395684525\n",
      "-6358.068963808477\n",
      "Multi Regressor Random Forest \n",
      "0.5120797953619572\n",
      "-14213.718025157317\n",
      "Decision Tree Simple Regressor\n",
      "-0.05292267783533558\n",
      "Decision Tree Multi Regressor \n",
      "0.14168661306850416\n",
      "SGD Simple Regressor Squared Error\n",
      "0.11013470779072898\n",
      "-3056.991694456561\n",
      "SGD Multi Regressor Squared Error\n",
      "0.5183490449153108\n",
      "-14387.732595128244\n",
      "Lasso Simple Regressor \n",
      "0.47808555159038857\n",
      "Lasso Multi Regressor \n",
      "0.5511737320502967\n",
      "BaggingRegressor Simple Regressor \n",
      "0.19248012120126898\n",
      "BaggingRegressor Multi Regressor \n",
      "0.466293223274056\n",
      "AdaBoostRegressor Single Regressor \n",
      "0.2789988339610514\n",
      "AdaBoostRegressor Multi Regressor \n",
      "0.4539326412129665\n",
      "ExtraTreesRegressor Multi Regressor \n",
      "0.5082614248120236\n",
      "SVR RBF Simple [0.49840474 0.55177745 0.42584624 0.31780287]\n",
      "0.4484578263399037\n",
      "-12447.773076586234\n",
      "SVR RBF Multiple [0.65023105 0.66439384 0.50298673 0.37504143]\n",
      "0.5481632632270905\n",
      "-15215.281145300158\n"
     ]
    }
   ],
   "source": [
    "from sklearn.ensemble import RandomForestRegressor\n",
    "from sklearn import ensemble\n",
    "from sklearn import tree\n",
    "from sklearn.model_selection import cross_val_score\n",
    "from sklearn.preprocessing import MinMaxScaler, StandardScaler,MaxAbsScaler, Normalizer\n",
    "from sklearn.linear_model import LinearRegression\n",
    "from sklearn.svm import SVR\n",
    "from sklearn import linear_model\n",
    "from sklearn.isotonic import IsotonicRegression\n",
    "from sklearn.cross_decomposition import PLSRegression\n",
    "\n",
    "cantCv=4\n",
    "scoreDef = \"r2\" \n",
    "#scoreDef=\"accuracy\"\n",
    "#scoreDef = \"explained_variance\"\n",
    "#scoreDef=\"neg_root_mean_squared_error\"\n",
    "dfsX=dframeFinal.loc[:,[\"volImage\"]]\n",
    "dframeFinal.head()\n",
    "X_volumenNoScaled= dfsX.values\n",
    "y_multiple = dframeFinal.yields.values\n",
    "\n",
    "sc_X = MaxAbsScaler()\n",
    "sc_y = MaxAbsScaler()\n",
    "Xvolume = sc_X.fit_transform(X_volumenNoScaled)\n",
    "yieldNoScaled=dframeFinal.yields.values.reshape(-1, 1)\n",
    "y = sc_y.fit_transform(yieldNoScaled)\n",
    "#y=y+1\n",
    "#print(y)\n",
    "dfsX=dframeFinal.loc[:,[\"volImage\",\"maxRed\",\"maxBlue\",\"varianceBlue\",\"mtviOneMean\",'ndviMean','laiLatArea','saviMax','tviMax','ndviMax']]\n",
    "X_multipleNoScaled= dfsX.values\n",
    "sc_XMulti = MaxAbsScaler()\n",
    "Xmulti = sc_XMulti.fit_transform(X_multipleNoScaled)\n",
    "\n",
    "scores = cross_val_score(LinearRegression(),X_volumenNoScaled ,yieldNoScaled , scoring=scoreDef, cv=cantCv)\n",
    "print( \"Linear Regression Simple\",scores)\n",
    "print(np.mean(scores))\n",
    "\n",
    "scores = cross_val_score(LinearRegression(),X_multipleNoScaled ,yieldNoScaled , scoring=scoreDef, cv=cantCv)\n",
    "print( \"Linear Regression Multiple\",scores)\n",
    "print(np.mean(scores))\n",
    "\n",
    "scores = cross_val_score(PLSRegression(),X_volumenNoScaled ,yieldNoScaled , scoring=scoreDef, cv=cantCv)\n",
    "print( \"PLSRegression Regression Simple\",scores)\n",
    "print(np.mean(scores))\n",
    "\n",
    "scores = cross_val_score(PLSRegression(),X_multipleNoScaled ,yieldNoScaled , scoring=scoreDef, cv=cantCv)\n",
    "print( \"PLSRegression Regression Multiple\",scores)\n",
    "print(np.mean(scores))\n",
    "\n",
    "scores = cross_val_score(SVR(kernel=\"linear\"),Xvolume ,y.ravel() , scoring=scoreDef, cv=cantCv)\n",
    "print( \"SVR Linear Simple\",scores)\n",
    "print(np.mean(scores))\n",
    "print(np.mean(sc_y.inverse_transform(scores.reshape(-1,1)*-1)))\n",
    "scores = cross_val_score(SVR(kernel=\"linear\"),Xmulti ,y.ravel() , scoring=scoreDef, cv=cantCv)\n",
    "print( \"SVR Linear Multiple\",scores,np.mean(scores.reshape(-1,1)))\n",
    "print(np.mean(scores))\n",
    "print(np.mean(sc_y.inverse_transform(scores.reshape(-1,1)*-1)))\n",
    "\n",
    "scores = cross_val_score(RandomForestRegressor(),Xvolume ,y.ravel() , scoring=scoreDef, cv=cantCv)\n",
    "print(\"Simple Regressor Random forest  \")\n",
    "print(np.mean(scores))\n",
    "print(np.mean(sc_y.inverse_transform(scores.reshape(-1,1)*-1)))\n",
    "\n",
    "scores = cross_val_score(RandomForestRegressor(),Xmulti ,y.ravel() , scoring=scoreDef, cv=cantCv)\n",
    "print(\"Multi Regressor Random Forest \")\n",
    "print(np.mean(scores))\n",
    "print(np.mean(sc_y.inverse_transform(scores.reshape(-1,1)*-1)))\n",
    "\n",
    "scores = cross_val_score(tree.DecisionTreeRegressor(),X_volumenNoScaled ,yieldNoScaled.ravel() , scoring=scoreDef, cv=cantCv)\n",
    "print(\"Decision Tree Simple Regressor\")\n",
    "#print(scores)\n",
    "print(np.mean(scores))\n",
    "\n",
    "scores = cross_val_score(tree.DecisionTreeRegressor(),X_multipleNoScaled ,yieldNoScaled.ravel() , scoring=scoreDef, cv=cantCv)\n",
    "print(\"Decision Tree Multi Regressor \")\n",
    "#print(scores)\n",
    "print(np.mean(scores))\n",
    "\n",
    "scores = cross_val_score(linear_model.SGDRegressor(loss=\"squared_epsilon_insensitive\"),Xvolume ,y.ravel() , scoring=scoreDef, cv=cantCv)\n",
    "print(\"SGD Simple Regressor Squared Error\")\n",
    "#print(scores)\n",
    "#scores=scores-1\n",
    "print(np.mean(scores))\n",
    "\n",
    "print(np.mean(sc_y.inverse_transform(scores.reshape(-1,1)*-1)))\n",
    "\n",
    "scores = cross_val_score(linear_model.SGDRegressor(loss=\"squared_error\",penalty=\"elasticnet\",learning_rate=\"adaptive\"),Xmulti ,y.ravel() , scoring=scoreDef, cv=cantCv)\n",
    "print(\"SGD Multi Regressor Squared Error\")\n",
    "#print(scores)\n",
    "#scores=scores-1\n",
    "print(np.mean(scores))\n",
    "print(np.mean(sc_y.inverse_transform(scores.reshape(-1,1)*-1)))\n",
    "\n",
    "scores = cross_val_score(linear_model.Lasso(),X_volumenNoScaled ,yieldNoScaled.ravel() , scoring=scoreDef, cv=cantCv)\n",
    "print(\"Lasso Simple Regressor \")\n",
    "#print(scores)\n",
    "print(np.mean(scores))\n",
    "\n",
    "scores = cross_val_score(linear_model.Lasso(),X_multipleNoScaled ,yieldNoScaled.ravel() , scoring=scoreDef, cv=cantCv)\n",
    "print(\"Lasso Multi Regressor \")\n",
    "#print(scores)\n",
    "print(np.mean(scores))\n",
    "\n",
    "\n",
    "\n",
    "scores = cross_val_score(ensemble.BaggingRegressor(),X_volumenNoScaled ,yieldNoScaled.ravel() , scoring=scoreDef, cv=cantCv)\n",
    "print(\"BaggingRegressor Simple Regressor \")\n",
    "#print(scores)\n",
    "print(np.mean(scores))\n",
    "\n",
    "scores = cross_val_score(ensemble.BaggingRegressor(),X_multipleNoScaled ,yieldNoScaled.ravel() , scoring=scoreDef, cv=cantCv)\n",
    "print(\"BaggingRegressor Multi Regressor \")\n",
    "#print(scores)\n",
    "print(np.mean(scores))\n",
    "\n",
    "scores = cross_val_score(ensemble.AdaBoostRegressor(loss=\"square\"),X_volumenNoScaled ,yieldNoScaled.ravel() , scoring=scoreDef, cv=cantCv)\n",
    "print(\"AdaBoostRegressor Single Regressor \")\n",
    "#print(scores)\n",
    "print(np.mean(scores))\n",
    "\n",
    "scores = cross_val_score(ensemble.AdaBoostRegressor(loss=\"square\"),X_multipleNoScaled ,yieldNoScaled.ravel() , scoring=scoreDef, cv=cantCv)\n",
    "print(\"AdaBoostRegressor Multi Regressor \")\n",
    "#print(scores)\n",
    "print(np.mean(scores))\n",
    "\n",
    "scores = cross_val_score(ensemble.ExtraTreesRegressor(criterion=\"absolute_error\"),X_multipleNoScaled ,yieldNoScaled.ravel() , scoring=scoreDef, cv=cantCv)\n",
    "print(\"ExtraTreesRegressor Multi Regressor \")\n",
    "#print(scores)\n",
    "print(np.mean(scores))\n",
    "\n",
    "scores = cross_val_score(SVR(kernel=\"rbf\"),Xvolume ,y.ravel() , scoring=scoreDef, cv=cantCv)\n",
    "print( \"SVR RBF Simple\",scores)\n",
    "print(np.mean(scores))\n",
    "print(np.mean(sc_y.inverse_transform(scores.reshape(-1,1)*-1)))\n",
    "\n",
    "scores = cross_val_score(SVR(kernel=\"rbf\"),Xmulti ,y.ravel() , scoring=scoreDef, cv=cantCv)\n",
    "print( \"SVR RBF Multiple\",scores)\n",
    "print(np.mean(scores))\n",
    "print(np.mean(sc_y.inverse_transform(scores.reshape(-1,1)*-1)))"
   ]
  },
  {
   "cell_type": "markdown",
   "metadata": {},
   "source": []
  }
 ],
 "metadata": {
  "kernelspec": {
   "display_name": "Python 3.7.7 64-bit",
   "language": "python",
   "name": "python3"
  },
  "language_info": {
   "codemirror_mode": {
    "name": "ipython",
    "version": 3
   },
   "file_extension": ".py",
   "mimetype": "text/x-python",
   "name": "python",
   "nbconvert_exporter": "python",
   "pygments_lexer": "ipython3",
   "version": "3.7.7"
  },
  "orig_nbformat": 4,
  "vscode": {
   "interpreter": {
    "hash": "fab46d772d21f764a59cf4f13946263a2b97144f4b3a26e55c5a66f62bca7d32"
   }
  }
 },
 "nbformat": 4,
 "nbformat_minor": 2
}
