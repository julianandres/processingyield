{
 "cells": [
  {
   "cell_type": "markdown",
   "metadata": {},
   "source": [
    "<b>1</b> OBTENCIÓN DE DATOS"
   ]
  },
  {
   "cell_type": "code",
   "execution_count": 1,
   "metadata": {},
   "outputs": [],
   "source": [
    "import definirCorrelacionVariables\n",
    "from matplotlib import pyplot\n",
    "from sklearn.metrics import r2_score\n",
    "from scipy.optimize import curve_fit\n",
    "import seaborn as sns\n",
    "import pandas as pd\n",
    "import numpy as np\n",
    "import pylab as pl\n",
    "\n",
    "data= definirCorrelacionVariables.getDataFromDataBase()"
   ]
  },
  {
   "cell_type": "markdown",
   "metadata": {},
   "source": [
    "<b>2</b> pre PROCESAMIENTO DE DATA"
   ]
  },
  {
   "cell_type": "code",
   "execution_count": null,
   "metadata": {},
   "outputs": [
    {
     "name": "stdout",
     "output_type": "stream",
     "text": [
      "373\n"
     ]
    }
   ],
   "source": [
    "dataframe,datos,dictGeneral = definirCorrelacionVariables.generarMatrizDatos(data,True)"
   ]
  },
  {
   "cell_type": "markdown",
   "metadata": {},
   "source": [
    "3. OBTENCIÓN DE CORRELACIÓN MÚLTIPLE"
   ]
  },
  {
   "cell_type": "markdown",
   "metadata": {},
   "source": [
    "GRAFICAS ENTRE VARIABLES"
   ]
  },
  {
   "cell_type": "code",
   "execution_count": null,
   "metadata": {},
   "outputs": [
    {
     "data": {
      "image/png": "[encoded data removed]",
      "text/plain": [
       "<Figure size 432x288 with 1 Axes>"
      ]
     },
     "metadata": {
      "needs_background": "light"
     },
     "output_type": "display_data"
    }
   ],
   "source": [
    "#pyplot.scatter(datos.datosVolumen, datos.datosVolumenCalculado,c=\"red\")\n",
    "#pyplot.scatter(datos.datosArea, datos.datosAreaCalculada,c=\"red\")\n",
    "#pyplot.scatter(datos.datosNdvi, datos.datosVolumenCalculado,c=\"blue\")\n",
    "#pyplot.scatter(datos.datosAltura, datos.datosNdvi,c=\"green\")\n",
    "pyplot.scatter(dataframe[\"volImage\"],dataframe[\"yields\"],c=\"black\")\n",
    "pyplot.xlabel(\"volImage\")\n",
    "pyplot.ylabel(\"yields\")\n",
    "\n",
    "pyplot.show()"
   ]
  },
  {
   "cell_type": "markdown",
   "metadata": {},
   "source": [
    "SE CALCULA LA VARIABLE EL IAF\n",
    "$Ac = \\pi*r*g $\n",
    "\n",
    "$g = \\sqrt(h^2 + r^2) $\n",
    "\n",
    "Se tiene que $r = Di/2$\n",
    "\n",
    "$Ac = \\pi*r*\\sqrt(h^2 + r^2)$\n",
    "\n",
    "$Ac = \\pi*\\frac{Di}{4}*\\sqrt(4*h^2 + Di^2)$\n",
    "\n",
    "Diametro\n",
    "\n",
    "$diameter = 2*\\sqrt(\\frac{area}{\\pi})$"
   ]
  },
  {
   "cell_type": "code",
   "execution_count": null,
   "metadata": {},
   "outputs": [],
   "source": [
    "\n",
    "import math\n",
    "areaLateral = []\n",
    "volumeFromDiameter = []\n",
    "diametros=[]\n",
    "for index,x in enumerate(datos.datosArea):\n",
    "    diametro = 2*math.sqrt(x/math.pi)\n",
    "    diametros.append(diametro)\n",
    "    altura= datos.datosAlturaCalculada[index]/100\n",
    "    valueAreaLateral=diametro*math.sqrt((diametro*diametro)+4*(altura*altura))\n",
    "    valueVolume = math.pi*diametro*diametro*altura*(1/6)\n",
    "    volumeFromDiameter.append(valueVolume)\n",
    "    areaLateral.append(valueAreaLateral)\n"
   ]
  },
  {
   "cell_type": "markdown",
   "metadata": {},
   "source": [
    "<b style=\"color:orange;\">LAI CALCULATED FROM EQUATION BASED ON VOLUME and AREA</b>\n",
    "\n",
    "Se calcula el IAF usando Volumen Imagen y Yield\n",
    "\n",
    "$IAF =  0.0134 + 2.7791 Vc$\n",
    "\n",
    "Se calcula IAF usando Area Lateral y Yield\n",
    "\n",
    "$IAF =  -0.5786 + 0.7896 Alat $\n"
   ]
  },
  {
   "cell_type": "code",
   "execution_count": null,
   "metadata": {},
   "outputs": [
    {
     "name": "stdout",
     "output_type": "stream",
     "text": [
      "             yields  volImage  criMax  IAF_AREA  hImage  tviMin  ndviMax  \\\n",
      "yields         1.00      0.71    0.63      0.69    0.50   -0.39     0.55   \n",
      "volImage       0.71      1.00    0.62      0.99    0.69   -0.46     0.60   \n",
      "criMax         0.63      0.62    1.00      0.61    0.40   -0.65     0.63   \n",
      "IAF_AREA       0.69      0.99    0.61      1.00    0.74   -0.45     0.58   \n",
      "hImage         0.50      0.69    0.40      0.74    1.00   -0.39     0.27   \n",
      "tviMin        -0.39     -0.46   -0.65     -0.45   -0.39    1.00    -0.30   \n",
      "ndviMax        0.55      0.60    0.63      0.58    0.27   -0.30     1.00   \n",
      "cgreenviMax    0.60      0.60    0.91      0.60    0.36   -0.55     0.67   \n",
      "\n",
      "             cgreenviMax  \n",
      "yields              0.60  \n",
      "volImage            0.60  \n",
      "criMax              0.91  \n",
      "IAF_AREA            0.60  \n",
      "hImage              0.36  \n",
      "tviMin             -0.55  \n",
      "ndviMax             0.67  \n",
      "cgreenviMax         1.00  \n"
     ]
    }
   ],
   "source": [
    "\n",
    "IAF_from_volume = definirCorrelacionVariables.objective(datos.datosVolumenImagen, 2.7791,0.0134)\n",
    "IAF_from_area = definirCorrelacionVariables.objective(areaLateral, 0.7896,-0.5786)\n",
    "d = {\"latArea\":areaLateral, \"IAF_VOL\":IAF_from_volume, \"IAF_AREA\":IAF_from_area}\n",
    "dictGeneral.update(d)\n",
    "dframeFinal = pd.DataFrame(data=dictGeneral)\n",
    "pd.options.display.float_format = '{:,.2f}'.format\n",
    "dataFrameCorrs=dframeFinal.loc[:,[\"yields\",\"volImage\",\"criMax\",\"IAF_AREA\",\"hImage\",\"tviMin\",\"ndviMax\",\"cgreenviMax\"]]\n",
    "dfCors= dataFrameCorrs.corr(method=\"pearson\")\n",
    "dfCors.round(decimals=3)\n",
    "print(dfCors)\n",
    "dfCors.to_latex(\"CorrelationsTab.tex\")"
   ]
  },
  {
   "cell_type": "markdown",
   "metadata": {},
   "source": [
    "<h1> USO DE CROSS VAL SCORE </h1>\n",
    "\n",
    "<b style=\"color:red;\">LINEAR REGRESSION SIMPLE VS MULTIPLE</b>\n",
    "\n",
    "\n"
   ]
  },
  {
   "cell_type": "markdown",
   "metadata": {},
   "source": [
    "Non Standard Scaler"
   ]
  },
  {
   "cell_type": "markdown",
   "metadata": {},
   "source": [
    "REGRESSION MODELS"
   ]
  },
  {
   "cell_type": "code",
   "execution_count": null,
   "metadata": {},
   "outputs": [
    {
     "name": "stdout",
     "output_type": "stream",
     "text": [
      "Linear Regression Simple Predicted  5169.166319967175  Original  5169.166319967175\n",
      "Linear Regression Multiple 5169.166319967005  Original  5169.166319967175\n",
      "Lasso Regression Simple Predicted  5169.166319967175  Original  5169.166319967175\n",
      "Lasso Regression Multiple  5169.166319967176  Original  5169.166319967175\n",
      "SVR Linear Simple 4934.820268450403  Original  5169.166319967175\n",
      "SVR Linear Multiple 4887.070666751579  Original  5169.166319967175\n",
      "SGD Simple Regressor 5163.646323193358  Original  5169.166319967175\n",
      "SGD Multi Regressor 5160.318816518456  Original  5169.166319967175\n"
     ]
    },
    {
     "data": {
      "image/png": "[encoded data removed]",
      "text/plain": [
       "<Figure size 432x288 with 1 Axes>"
      ]
     },
     "metadata": {
      "needs_background": "light"
     },
     "output_type": "display_data"
    }
   ],
   "source": [
    "from cProfile import label\n",
    "from pickle import FALSE\n",
    "from sklearn.ensemble import RandomForestRegressor\n",
    "from sklearn import ensemble\n",
    "from sklearn import tree\n",
    "from sklearn.model_selection import cross_val_score\n",
    "from sklearn.preprocessing import MinMaxScaler, StandardScaler\n",
    "from sklearn.linear_model import LinearRegression\n",
    "from sklearn.svm import SVR\n",
    "from sklearn import linear_model\n",
    "from sklearn.isotonic import IsotonicRegression\n",
    "\n",
    "cantCv=4\n",
    "scoreDef = \"r2\" \n",
    "#scoreDef=\"accuracy\"\n",
    "#scoreDef = \"explained_variance\"\n",
    "#scoreDef=\"neg_mean_absolute_error\"\n",
    "dfsX=dframeFinal.loc[:,[\"volImage\"]]\n",
    "dframeFinal.head()\n",
    "X_volumenNoScaled= dfsX.values\n",
    "y_multiple = dframeFinal.yields.values\n",
    "sc_XMulti = StandardScaler()\n",
    "sc_X = StandardScaler()\n",
    "sc_y = StandardScaler()\n",
    "\n",
    "volumeScaled =  sc_X.fit_transform(X_volumenNoScaled)\n",
    "yieldNoScaled = dframeFinal.yields.values.reshape(-1, 1)\n",
    "\n",
    "\n",
    "dfsX=dframeFinal.loc[:,[\"volImage\",\"criMax\",\"ndviMean\",\"maxBlue\",\"IAF_AREA\",\"maxGreen\",\"saviMax\",\"tviMax\",\"ndviMax\",\"maxHistBluVal\"]]\n",
    "X_multipleNoScaled= dfsX.values\n",
    "xMultiScaled=sc_XMulti.fit_transform(X_multipleNoScaled)\n",
    "yieldScaled=sc_y.fit_transform(yieldNoScaled)\n",
    "\n",
    "model= LinearRegression()\n",
    "model.fit(X_volumenNoScaled ,yieldNoScaled)\n",
    "linearSimple=model.predict(X_volumenNoScaled)\n",
    "print( \"Linear Regression Simple Predicted \",np.mean(linearSimple), \" Original \",np.mean(yieldNoScaled))\n",
    "\n",
    "\n",
    "model= LinearRegression()\n",
    "model.fit(X_multipleNoScaled ,yieldNoScaled)\n",
    "linearMultiple=model.predict(X_multipleNoScaled)\n",
    "print( \"Linear Regression Multiple\",np.mean(linearMultiple), \" Original \",np.mean(yieldNoScaled))\n",
    "\n",
    "model= linear_model.Lasso()\n",
    "model.fit(X_volumenNoScaled ,yieldNoScaled)\n",
    "lassoSimple=model.predict(X_volumenNoScaled)\n",
    "print( \"Lasso Regression Simple Predicted \",np.mean(lassoSimple), \" Original \",np.mean(yieldNoScaled))\n",
    "\n",
    "model= linear_model.Lasso()\n",
    "model.fit(X_multipleNoScaled ,yieldNoScaled)\n",
    "lassoMultiple=model.predict(X_multipleNoScaled)\n",
    "print( \"Lasso Regression Multiple \",np.mean(lassoMultiple), \" Original \",np.mean(yieldNoScaled))\n",
    "\n",
    "model= SVR(kernel=\"linear\")\n",
    "model.fit(volumeScaled ,yieldScaled.ravel())\n",
    "svrLinear=model.predict(volumeScaled)\n",
    "print( \"SVR Linear Simple\",np.mean(sc_y.inverse_transform(svrLinear.reshape(1, -1))), \" Original \",np.mean(sc_y.inverse_transform(yieldScaled.reshape(1, -1))))\n",
    "\n",
    "\n",
    "model= SVR(kernel=\"linear\")\n",
    "model.fit(xMultiScaled ,yieldScaled.ravel())\n",
    "svrMultiple=model.predict(xMultiScaled)\n",
    "print( \"SVR Linear Multiple\",np.mean(sc_y.inverse_transform(svrMultiple.reshape(1, -1))), \" Original \",np.mean(sc_y.inverse_transform(yieldScaled.reshape(1, -1))))\n",
    "\n",
    "\n",
    "model= linear_model.SGDRegressor(loss=\"squared_error\")\n",
    "model.fit(volumeScaled ,yieldScaled.ravel())\n",
    "SDGsimple=model.predict(volumeScaled)\n",
    "SdgReverse=sc_y.inverse_transform(SDGsimple.reshape(1, -1)).ravel()\n",
    "print( \"SGD Simple Regressor\",np.mean(SdgReverse), \" Original \",np.mean(sc_y.inverse_transform(yieldScaled.reshape(1, -1))))\n",
    "\n",
    "\n",
    "model= linear_model.SGDRegressor(loss=\"squared_error\")\n",
    "model.fit(xMultiScaled ,yieldScaled.ravel())\n",
    "sdgMulti=model.predict(xMultiScaled)\n",
    "print( \"SGD Multi Regressor\",np.mean(sc_y.inverse_transform(sdgMulti.reshape(1, -1))), \" Original \",np.mean(sc_y.inverse_transform(yieldScaled.reshape(1, -1))))\n",
    "\n",
    "\n",
    "#pyplot.scatter(yieldNoScaled, linearSimple, color = 'red', label=\"Linear Simple\")\n",
    "pyplot.scatter(yieldNoScaled, linearMultiple, color = 'blue',label='Linear Multiple')\n",
    "#pyplot.scatter(yieldNoScaled, lassoMultiple, color = 'green',label='Lasso Multiple')\n",
    "#pyplot.scatter(yieldNoScaled, sc_y.inverse_transform(sdgMulti.reshape(1, -1)), color = 'orange',label='SDG Multiple')\n",
    "#pyplot.scatter(yieldNoScaled, sc_y.inverse_transform(svrMultiple.reshape(1, -1)), color = 'black',label='SVR Multiple')\n",
    "#pyplot.scatter(yieldNoScaled, SdgReverse, color = 'gray',label='SDGmulti')\n",
    "#pyplot.scatter(yieldNoScaled, rfRegression.predict(X_grid), color = 'black',label='Random Forest')\n",
    "pyplot.legend()\n",
    "pyplot.title('yields vs yield Predicted')\n",
    "pyplot.xlabel('yields')\n",
    "pyplot.ylabel('yield predicted')\n",
    "\n",
    "pyplot.show()\n",
    "\n",
    "\n"
   ]
  },
  {
   "cell_type": "markdown",
   "metadata": {},
   "source": []
  }
 ],
 "metadata": {
  "kernelspec": {
   "display_name": "Python 3.7.7 64-bit",
   "language": "python",
   "name": "python3"
  },
  "language_info": {
   "codemirror_mode": {
    "name": "ipython",
    "version": 3
   },
   "file_extension": ".py",
   "mimetype": "text/x-python",
   "name": "python",
   "nbconvert_exporter": "python",
   "pygments_lexer": "ipython3",
   "version": "3.7.7"
  },
  "orig_nbformat": 4,
  "vscode": {
   "interpreter": {
    "hash": "fab46d772d21f764a59cf4f13946263a2b97144f4b3a26e55c5a66f62bca7d32"
   }
  }
 },
 "nbformat": 4,
 "nbformat_minor": 2
}
