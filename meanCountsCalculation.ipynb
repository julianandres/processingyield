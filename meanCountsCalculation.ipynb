{
 "cells": [
  {
   "cell_type": "markdown",
   "metadata": {},
   "source": [
    "<b>1</b> OBTENCIÓN DE DATOS"
   ]
  },
  {
   "cell_type": "code",
   "execution_count": 9,
   "metadata": {},
   "outputs": [],
   "source": [
    "import definirCorrelacionVariables\n",
    "from matplotlib import pyplot\n",
    "from sklearn.metrics import r2_score\n",
    "from scipy.optimize import curve_fit\n",
    "import seaborn as sns\n",
    "import pandas as pd\n",
    "import numpy as np\n",
    "import pylab as pl\n",
    "\n",
    "data= definirCorrelacionVariables.getDataFromDataBase()"
   ]
  },
  {
   "cell_type": "markdown",
   "metadata": {},
   "source": [
    "<b>2</b> pre PROCESAMIENTO DE DATA"
   ]
  },
  {
   "cell_type": "code",
   "execution_count": 10,
   "metadata": {},
   "outputs": [
    {
     "name": "stdout",
     "output_type": "stream",
     "text": [
      "373\n"
     ]
    }
   ],
   "source": [
    "dataframe,datos,dictGeneral = definirCorrelacionVariables.generarMatrizDatos(data,True)"
   ]
  },
  {
   "cell_type": "markdown",
   "metadata": {},
   "source": [
    "3. OBTENCIÓN DE CORRELACIÓN MÚLTIPLE"
   ]
  },
  {
   "cell_type": "markdown",
   "metadata": {},
   "source": [
    "GRAFICAS ENTRE VARIABLES"
   ]
  },
  {
   "cell_type": "code",
   "execution_count": 11,
   "metadata": {},
   "outputs": [
    {
     "data": {
      "image/png": "[encoded data removed]",
      "text/plain": [
       "<Figure size 432x288 with 1 Axes>"
      ]
     },
     "metadata": {
      "needs_background": "light"
     },
     "output_type": "display_data"
    }
   ],
   "source": [
    "#pyplot.scatter(datos.datosVolumen, datos.datosVolumenCalculado,c=\"red\")\n",
    "#pyplot.scatter(datos.datosArea, datos.datosAreaCalculada,c=\"red\")\n",
    "#pyplot.scatter(datos.datosNdvi, datos.datosVolumenCalculado,c=\"blue\")\n",
    "#pyplot.scatter(datos.datosAltura, datos.datosNdvi,c=\"green\")\n",
    "pyplot.scatter(dataframe[\"volImage\"],dataframe[\"yields\"],c=\"black\")\n",
    "pyplot.xlabel(\"volImage\")\n",
    "pyplot.ylabel(\"yields\")\n",
    "\n",
    "pyplot.show()"
   ]
  },
  {
   "cell_type": "markdown",
   "metadata": {},
   "source": [
    "SE CALCULA LA VARIABLE EL IAF\n",
    "$Ac = \\pi*r*g $\n",
    "\n",
    "$g = \\sqrt(h^2 + r^2) $\n",
    "\n",
    "Se tiene que $r = Di/2$\n",
    "\n",
    "$Ac = \\pi*r*\\sqrt(h^2 + r^2)$\n",
    "\n",
    "$Ac = \\pi*\\frac{Di}{4}*\\sqrt(4*h^2 + Di^2)$\n",
    "\n",
    "Diametro\n",
    "\n",
    "$diameter = 2*\\sqrt(\\frac{area}{\\pi})$"
   ]
  },
  {
   "cell_type": "code",
   "execution_count": 12,
   "metadata": {},
   "outputs": [],
   "source": [
    "\n",
    "import math\n",
    "areaLateral = []\n",
    "volumeFromDiameter = []\n",
    "diametros=[]\n",
    "for index,x in enumerate(datos.datosArea):\n",
    "    diametro = 2*math.sqrt(x/math.pi)\n",
    "    diametros.append(diametro)\n",
    "    altura= datos.datosAlturaCalculada[index]/100\n",
    "    valueAreaLateral=diametro*math.sqrt((diametro*diametro)+4*(altura*altura))\n",
    "    valueVolume = math.pi*diametro*diametro*altura*(1/6)\n",
    "    volumeFromDiameter.append(valueVolume)\n",
    "    areaLateral.append(valueAreaLateral)\n"
   ]
  },
  {
   "cell_type": "markdown",
   "metadata": {},
   "source": [
    "<b style=\"color:orange;\">LAI CALCULATED FROM EQUATION BASED ON VOLUME and AREA</b>\n",
    "\n",
    "Se calcula el IAF usando Volumen Imagen y Yield\n",
    "\n",
    "$IAF =  0.0134 + 2.7791 Vc$\n",
    "\n",
    "Se calcula IAF usando Area Lateral y Yield\n",
    "\n",
    "$IAF =  -0.5786 + 0.7896 Alat $\n"
   ]
  },
  {
   "cell_type": "code",
   "execution_count": 13,
   "metadata": {},
   "outputs": [
    {
     "name": "stdout",
     "output_type": "stream",
     "text": [
      "             yields  volImage  criMax  IAF_AREA  hImage  hMed  tviMin  \\\n",
      "yields         1.00      0.71    0.63      0.69    0.50  0.58   -0.39   \n",
      "volImage       0.71      1.00    0.62      0.99    0.69  0.69   -0.46   \n",
      "criMax         0.63      0.62    1.00      0.61    0.40  0.47   -0.65   \n",
      "IAF_AREA       0.69      0.99    0.61      1.00    0.74  0.72   -0.45   \n",
      "hImage         0.50      0.69    0.40      0.74    1.00  0.69   -0.39   \n",
      "hMed           0.58      0.69    0.47      0.72    0.69  1.00   -0.35   \n",
      "tviMin        -0.39     -0.46   -0.65     -0.45   -0.39 -0.35    1.00   \n",
      "ndviMax        0.55      0.60    0.63      0.58    0.27  0.44   -0.30   \n",
      "cgreenviMax    0.60      0.60    0.91      0.60    0.36  0.50   -0.55   \n",
      "\n",
      "             ndviMax  cgreenviMax  \n",
      "yields          0.55         0.60  \n",
      "volImage        0.60         0.60  \n",
      "criMax          0.63         0.91  \n",
      "IAF_AREA        0.58         0.60  \n",
      "hImage          0.27         0.36  \n",
      "hMed            0.44         0.50  \n",
      "tviMin         -0.30        -0.55  \n",
      "ndviMax         1.00         0.67  \n",
      "cgreenviMax     0.67         1.00  \n"
     ]
    }
   ],
   "source": [
    "\n",
    "IAF_from_volume = definirCorrelacionVariables.objective(datos.datosVolumenImagen, 2.7791,0.0134)\n",
    "IAF_from_area = definirCorrelacionVariables.objective(areaLateral, 0.7896,-0.5786)\n",
    "d = {\"latArea\":areaLateral, \"IAF_VOL\":IAF_from_volume, \"IAF_AREA\":IAF_from_area}\n",
    "dictGeneral.update(d)\n",
    "dframeFinal = pd.DataFrame(data=dictGeneral)\n",
    "pd.options.display.float_format = '{:,.2f}'.format\n",
    "dataFrameCorrs=dframeFinal.loc[:,[\"yields\",\"volImage\",\"criMax\",\"IAF_AREA\",\"hImage\",\"hMed\",\"tviMin\",\"ndviMax\",\"cgreenviMax\"]]\n",
    "dfCors= dataFrameCorrs.corr(method=\"pearson\")\n",
    "dfCors.round(decimals=3)\n",
    "print(dfCors)\n",
    "dfCors.to_latex(\"CorrelationsTab.tex\")"
   ]
  },
  {
   "cell_type": "markdown",
   "metadata": {},
   "source": [
    "<h1> USO DE CROSS VAL SCORE </h1>\n",
    "\n",
    "<b style=\"color:red;\">LINEAR REGRESSION SIMPLE VS MULTIPLE</b>\n",
    "\n",
    "\n"
   ]
  },
  {
   "cell_type": "markdown",
   "metadata": {},
   "source": [
    "Non Standard Scaler"
   ]
  },
  {
   "cell_type": "markdown",
   "metadata": {},
   "source": [
    "REGRESSION MODELS"
   ]
  },
  {
   "cell_type": "code",
   "execution_count": 33,
   "metadata": {},
   "outputs": [
    {
     "name": "stdout",
     "output_type": "stream",
     "text": [
      "Linear Regression Simple Predicted  5278.250449661915  Original  4971.1702682429695\n",
      "Linear Regression Multiple 5021.079919400693  Original  4971.1702682429695\n",
      "SVR Linear Simple 4826.33337697462  Original  4971.1702682429695\n",
      "SVR Linear Multiple 5106.901372510082  Original  4971.1702682429695\n",
      "SGD Simple Regressor 5135.986546646838  Original  4971.1702682429695\n",
      "SGD Multi Regressor 5262.098091534657  Original  4971.1702682429695\n",
      "Simple Regressor Random forest 4713.782083624922  Original  4971.1702682429695\n",
      "Multi Regressor Random Forest 5103.734266003142  Original  4971.1702682429695\n",
      "Decision Tree Simple Regressor  4773.297508829988  Original  4971.1702682429695\n",
      "Decision Tree Multi Regressor 5379.5622368255235  Original  4971.1702682429695\n",
      "Lasso Regression Simple Predicted  5278.0186242910795  Original  4971.1702682429695\n",
      "Lasso Regression Multiple  4984.615969503078  Original  4971.1702682429695\n",
      "BaggingRegressor  Simple Predicted  4657.960414236365  Original  4971.1702682429695\n",
      "BaggingRegressor Multiple  5129.72781207785  Original  4971.1702682429695\n",
      "AdaBoostRegressor  Simple Predicted  7286.639410050416  Original  4971.1702682429695\n"
     ]
    },
    {
     "name": "stderr",
     "output_type": "stream",
     "text": [
      "c:\\Users\\Julian Bolanos\\AppData\\Local\\Programs\\Python\\Python37\\lib\\site-packages\\sklearn\\ensemble\\_bagging.py:429: DataConversionWarning: A column-vector y was passed when a 1d array was expected. Please change the shape of y to (n_samples, ), for example using ravel().\n",
      "  return column_or_1d(y, warn=True)\n",
      "c:\\Users\\Julian Bolanos\\AppData\\Local\\Programs\\Python\\Python37\\lib\\site-packages\\sklearn\\ensemble\\_bagging.py:429: DataConversionWarning: A column-vector y was passed when a 1d array was expected. Please change the shape of y to (n_samples, ), for example using ravel().\n",
      "  return column_or_1d(y, warn=True)\n",
      "c:\\Users\\Julian Bolanos\\AppData\\Local\\Programs\\Python\\Python37\\lib\\site-packages\\sklearn\\utils\\validation.py:985: DataConversionWarning: A column-vector y was passed when a 1d array was expected. Please change the shape of y to (n_samples, ), for example using ravel().\n",
      "  y = column_or_1d(y, warn=True)\n",
      "c:\\Users\\Julian Bolanos\\AppData\\Local\\Programs\\Python\\Python37\\lib\\site-packages\\sklearn\\utils\\validation.py:985: DataConversionWarning: A column-vector y was passed when a 1d array was expected. Please change the shape of y to (n_samples, ), for example using ravel().\n",
      "  y = column_or_1d(y, warn=True)\n"
     ]
    },
    {
     "name": "stdout",
     "output_type": "stream",
     "text": [
      "AdaBoostRegressor Multiple  5453.582956841822  Original  4971.1702682429695\n",
      "Linear Regression Simple Predicted  5189.434074770595  Original  5244.201334068313\n",
      "Linear Regression Multiple 5231.293309310752  Original  5244.201334068313\n",
      "SVR Linear Simple 4954.580823544426  Original  5244.201334068313\n",
      "SVR Linear Multiple 5191.121246400456  Original  5244.201334068313\n",
      "SGD Simple Regressor 5069.005099069799  Original  5244.201334068313\n",
      "SGD Multi Regressor 5408.8925905610895  Original  5244.201334068313\n",
      "Simple Regressor Random forest 5434.073745235097  Original  5244.201334068313\n",
      "Multi Regressor Random Forest 5280.578499995556  Original  5244.201334068313\n",
      "Decision Tree Simple Regressor  5521.817961941999  Original  5244.201334068313\n",
      "Decision Tree Multi Regressor 5431.50318960657  Original  5244.201334068313\n",
      "Lasso Regression Simple Predicted  5189.223865066094  Original  5244.201334068313\n",
      "Lasso Regression Multiple  5168.995230247506  Original  5244.201334068313\n",
      "BaggingRegressor  Simple Predicted  5656.581544331023  Original  5244.201334068313\n",
      "BaggingRegressor Multiple  5391.524632262536  Original  5244.201334068313\n",
      "AdaBoostRegressor  Simple Predicted  6755.823533779768  Original  5244.201334068313\n",
      "AdaBoostRegressor Multiple  5766.163296744867  Original  5244.201334068313\n"
     ]
    },
    {
     "name": "stderr",
     "output_type": "stream",
     "text": [
      "c:\\Users\\Julian Bolanos\\AppData\\Local\\Programs\\Python\\Python37\\lib\\site-packages\\sklearn\\ensemble\\_bagging.py:429: DataConversionWarning: A column-vector y was passed when a 1d array was expected. Please change the shape of y to (n_samples, ), for example using ravel().\n",
      "  return column_or_1d(y, warn=True)\n",
      "c:\\Users\\Julian Bolanos\\AppData\\Local\\Programs\\Python\\Python37\\lib\\site-packages\\sklearn\\ensemble\\_bagging.py:429: DataConversionWarning: A column-vector y was passed when a 1d array was expected. Please change the shape of y to (n_samples, ), for example using ravel().\n",
      "  return column_or_1d(y, warn=True)\n",
      "c:\\Users\\Julian Bolanos\\AppData\\Local\\Programs\\Python\\Python37\\lib\\site-packages\\sklearn\\utils\\validation.py:985: DataConversionWarning: A column-vector y was passed when a 1d array was expected. Please change the shape of y to (n_samples, ), for example using ravel().\n",
      "  y = column_or_1d(y, warn=True)\n",
      "c:\\Users\\Julian Bolanos\\AppData\\Local\\Programs\\Python\\Python37\\lib\\site-packages\\sklearn\\utils\\validation.py:985: DataConversionWarning: A column-vector y was passed when a 1d array was expected. Please change the shape of y to (n_samples, ), for example using ravel().\n",
      "  y = column_or_1d(y, warn=True)\n"
     ]
    },
    {
     "name": "stdout",
     "output_type": "stream",
     "text": [
      "Linear Regression Simple Predicted  5167.636311158908  Original  5135.2298607674165\n",
      "Linear Regression Multiple 5273.258924881905  Original  5135.2298607674165\n",
      "SVR Linear Simple 4893.176136795276  Original  5135.2298607674165\n",
      "SVR Linear Multiple 5273.390186681755  Original  5135.2298607674165\n",
      "SGD Simple Regressor 5107.558673462566  Original  5135.2298607674165\n",
      "SGD Multi Regressor 5263.511670107665  Original  5135.2298607674165\n",
      "Simple Regressor Random forest 5116.674575000482  Original  5135.2298607674165\n",
      "Multi Regressor Random Forest 5204.337043214281  Original  5135.2298607674165\n",
      "Decision Tree Simple Regressor  5114.811684605199  Original  5135.2298607674165\n",
      "Decision Tree Multi Regressor 5249.608235588152  Original  5135.2298607674165\n",
      "Lasso Regression Simple Predicted  5167.9999478101245  Original  5135.2298607674165\n",
      "Lasso Regression Multiple  5171.972415932246  Original  5135.2298607674165\n",
      "BaggingRegressor  Simple Predicted  5041.661330599988  Original  5135.2298607674165\n",
      "BaggingRegressor Multiple  5153.836732174831  Original  5135.2298607674165\n",
      "AdaBoostRegressor  Simple Predicted  6698.216768411167  Original  5135.2298607674165\n",
      "AdaBoostRegressor Multiple  5561.6068772630015  Original  5135.2298607674165\n"
     ]
    },
    {
     "name": "stderr",
     "output_type": "stream",
     "text": [
      "c:\\Users\\Julian Bolanos\\AppData\\Local\\Programs\\Python\\Python37\\lib\\site-packages\\sklearn\\ensemble\\_bagging.py:429: DataConversionWarning: A column-vector y was passed when a 1d array was expected. Please change the shape of y to (n_samples, ), for example using ravel().\n",
      "  return column_or_1d(y, warn=True)\n",
      "c:\\Users\\Julian Bolanos\\AppData\\Local\\Programs\\Python\\Python37\\lib\\site-packages\\sklearn\\ensemble\\_bagging.py:429: DataConversionWarning: A column-vector y was passed when a 1d array was expected. Please change the shape of y to (n_samples, ), for example using ravel().\n",
      "  return column_or_1d(y, warn=True)\n",
      "c:\\Users\\Julian Bolanos\\AppData\\Local\\Programs\\Python\\Python37\\lib\\site-packages\\sklearn\\utils\\validation.py:985: DataConversionWarning: A column-vector y was passed when a 1d array was expected. Please change the shape of y to (n_samples, ), for example using ravel().\n",
      "  y = column_or_1d(y, warn=True)\n",
      "c:\\Users\\Julian Bolanos\\AppData\\Local\\Programs\\Python\\Python37\\lib\\site-packages\\sklearn\\utils\\validation.py:985: DataConversionWarning: A column-vector y was passed when a 1d array was expected. Please change the shape of y to (n_samples, ), for example using ravel().\n",
      "  y = column_or_1d(y, warn=True)\n"
     ]
    },
    {
     "name": "stdout",
     "output_type": "stream",
     "text": [
      "Linear Regression Simple Predicted  5315.460181546904  Original  4846.094432267125\n",
      "Linear Regression Multiple 5132.613253655679  Original  4846.094432267125\n",
      "SVR Linear Simple 4951.389152599113  Original  4846.094432267125\n",
      "SVR Linear Multiple 5225.48794503704  Original  4846.094432267125\n",
      "SGD Simple Regressor 5224.267249560576  Original  4846.094432267125\n",
      "SGD Multi Regressor 5519.948921153201  Original  4846.094432267125\n",
      "Simple Regressor Random forest 5154.678587723816  Original  4846.094432267125\n",
      "Multi Regressor Random Forest 5145.732152307128  Original  4846.094432267125\n",
      "Decision Tree Simple Regressor  5270.147129524502  Original  4846.094432267125\n",
      "Decision Tree Multi Regressor 4758.2937703011185  Original  4846.094432267125\n",
      "Lasso Regression Simple Predicted  5315.304449198525  Original  4846.094432267125\n",
      "Lasso Regression Multiple  5194.662486815834  Original  4846.094432267125\n",
      "BaggingRegressor  Simple Predicted  5310.152371414451  Original  4846.094432267125\n",
      "BaggingRegressor Multiple  5151.770759124706  Original  4846.094432267125\n",
      "AdaBoostRegressor  Simple Predicted  7265.555344434896  Original  4846.094432267125\n",
      "AdaBoostRegressor Multiple  5623.993720783496  Original  4846.094432267125\n"
     ]
    },
    {
     "name": "stderr",
     "output_type": "stream",
     "text": [
      "c:\\Users\\Julian Bolanos\\AppData\\Local\\Programs\\Python\\Python37\\lib\\site-packages\\sklearn\\ensemble\\_bagging.py:429: DataConversionWarning: A column-vector y was passed when a 1d array was expected. Please change the shape of y to (n_samples, ), for example using ravel().\n",
      "  return column_or_1d(y, warn=True)\n",
      "c:\\Users\\Julian Bolanos\\AppData\\Local\\Programs\\Python\\Python37\\lib\\site-packages\\sklearn\\ensemble\\_bagging.py:429: DataConversionWarning: A column-vector y was passed when a 1d array was expected. Please change the shape of y to (n_samples, ), for example using ravel().\n",
      "  return column_or_1d(y, warn=True)\n",
      "c:\\Users\\Julian Bolanos\\AppData\\Local\\Programs\\Python\\Python37\\lib\\site-packages\\sklearn\\utils\\validation.py:985: DataConversionWarning: A column-vector y was passed when a 1d array was expected. Please change the shape of y to (n_samples, ), for example using ravel().\n",
      "  y = column_or_1d(y, warn=True)\n",
      "c:\\Users\\Julian Bolanos\\AppData\\Local\\Programs\\Python\\Python37\\lib\\site-packages\\sklearn\\utils\\validation.py:985: DataConversionWarning: A column-vector y was passed when a 1d array was expected. Please change the shape of y to (n_samples, ), for example using ravel().\n",
      "  y = column_or_1d(y, warn=True)\n"
     ]
    },
    {
     "name": "stdout",
     "output_type": "stream",
     "text": [
      "Linear Regression Simple Predicted  5300.919651516146  Original  4863.391293292683\n",
      "Linear Regression Multiple 4987.264385017479  Original  4863.391293292683\n",
      "SVR Linear Simple 4901.789657535183  Original  4863.391293292683\n",
      "SVR Linear Multiple 5002.024902070626  Original  4863.391293292683\n",
      "SGD Simple Regressor 5226.8275119626005  Original  4863.391293292683\n",
      "SGD Multi Regressor 5380.431489826149  Original  4863.391293292683\n",
      "Simple Regressor Random forest 5269.067370666603  Original  4863.391293292683\n",
      "Multi Regressor Random Forest 5130.987474271198  Original  4863.391293292683\n",
      "Decision Tree Simple Regressor  5208.332614473223  Original  4863.391293292683\n",
      "Decision Tree Multi Regressor 5231.965347623957  Original  4863.391293292683\n",
      "Lasso Regression Simple Predicted  5300.90808988434  Original  4863.391293292683\n",
      "Lasso Regression Multiple  4978.827376863091  Original  4863.391293292683\n",
      "BaggingRegressor  Simple Predicted  5351.7021096485405  Original  4863.391293292683\n",
      "BaggingRegressor Multiple  5301.629785986815  Original  4863.391293292683\n",
      "AdaBoostRegressor  Simple Predicted  7717.203049953141  Original  4863.391293292683\n"
     ]
    },
    {
     "name": "stderr",
     "output_type": "stream",
     "text": [
      "c:\\Users\\Julian Bolanos\\AppData\\Local\\Programs\\Python\\Python37\\lib\\site-packages\\sklearn\\ensemble\\_bagging.py:429: DataConversionWarning: A column-vector y was passed when a 1d array was expected. Please change the shape of y to (n_samples, ), for example using ravel().\n",
      "  return column_or_1d(y, warn=True)\n",
      "c:\\Users\\Julian Bolanos\\AppData\\Local\\Programs\\Python\\Python37\\lib\\site-packages\\sklearn\\ensemble\\_bagging.py:429: DataConversionWarning: A column-vector y was passed when a 1d array was expected. Please change the shape of y to (n_samples, ), for example using ravel().\n",
      "  return column_or_1d(y, warn=True)\n",
      "c:\\Users\\Julian Bolanos\\AppData\\Local\\Programs\\Python\\Python37\\lib\\site-packages\\sklearn\\utils\\validation.py:985: DataConversionWarning: A column-vector y was passed when a 1d array was expected. Please change the shape of y to (n_samples, ), for example using ravel().\n",
      "  y = column_or_1d(y, warn=True)\n",
      "c:\\Users\\Julian Bolanos\\AppData\\Local\\Programs\\Python\\Python37\\lib\\site-packages\\sklearn\\utils\\validation.py:985: DataConversionWarning: A column-vector y was passed when a 1d array was expected. Please change the shape of y to (n_samples, ), for example using ravel().\n",
      "  y = column_or_1d(y, warn=True)\n"
     ]
    },
    {
     "name": "stdout",
     "output_type": "stream",
     "text": [
      "AdaBoostRegressor Multiple  5748.420188494316  Original  4863.391293292683\n",
      "Linear Regression Simple Predicted  5328.719510500862  Original  4844.952219241402\n",
      "Linear Regression Multiple 5250.747552654881  Original  4844.952219241402\n",
      "SVR Linear Simple 4905.738160968516  Original  4844.952219241402\n",
      "SVR Linear Multiple 5347.454013300255  Original  4844.952219241402\n",
      "SGD Simple Regressor 5206.0731568682995  Original  4844.952219241402\n",
      "SGD Multi Regressor 5514.135941915591  Original  4844.952219241402\n",
      "Simple Regressor Random forest 5353.727034798738  Original  4844.952219241402\n",
      "Multi Regressor Random Forest 5315.414042732313  Original  4844.952219241402\n",
      "Decision Tree Simple Regressor  5440.360002941894  Original  4844.952219241402\n",
      "Decision Tree Multi Regressor 5225.981414914457  Original  4844.952219241402\n",
      "Lasso Regression Simple Predicted  5328.432908331658  Original  4844.952219241402\n",
      "Lasso Regression Multiple  5250.70886611142  Original  4844.952219241402\n",
      "BaggingRegressor  Simple Predicted  5338.834951993361  Original  4844.952219241402\n",
      "BaggingRegressor Multiple  5375.997206082572  Original  4844.952219241402\n",
      "AdaBoostRegressor  Simple Predicted  7352.695915403591  Original  4844.952219241402\n"
     ]
    },
    {
     "name": "stderr",
     "output_type": "stream",
     "text": [
      "c:\\Users\\Julian Bolanos\\AppData\\Local\\Programs\\Python\\Python37\\lib\\site-packages\\sklearn\\ensemble\\_bagging.py:429: DataConversionWarning: A column-vector y was passed when a 1d array was expected. Please change the shape of y to (n_samples, ), for example using ravel().\n",
      "  return column_or_1d(y, warn=True)\n",
      "c:\\Users\\Julian Bolanos\\AppData\\Local\\Programs\\Python\\Python37\\lib\\site-packages\\sklearn\\ensemble\\_bagging.py:429: DataConversionWarning: A column-vector y was passed when a 1d array was expected. Please change the shape of y to (n_samples, ), for example using ravel().\n",
      "  return column_or_1d(y, warn=True)\n",
      "c:\\Users\\Julian Bolanos\\AppData\\Local\\Programs\\Python\\Python37\\lib\\site-packages\\sklearn\\utils\\validation.py:985: DataConversionWarning: A column-vector y was passed when a 1d array was expected. Please change the shape of y to (n_samples, ), for example using ravel().\n",
      "  y = column_or_1d(y, warn=True)\n",
      "c:\\Users\\Julian Bolanos\\AppData\\Local\\Programs\\Python\\Python37\\lib\\site-packages\\sklearn\\utils\\validation.py:985: DataConversionWarning: A column-vector y was passed when a 1d array was expected. Please change the shape of y to (n_samples, ), for example using ravel().\n",
      "  y = column_or_1d(y, warn=True)\n"
     ]
    },
    {
     "name": "stdout",
     "output_type": "stream",
     "text": [
      "AdaBoostRegressor Multiple  5437.7898932650505  Original  4844.952219241402\n",
      "Linear Regression Simple Predicted  5001.245299799667  Original  5606.28068892823\n",
      "Linear Regression Multiple 5336.007853065462  Original  5606.28068892823\n",
      "SVR Linear Simple 4534.95414683238  Original  5606.28068892823\n",
      "SVR Linear Multiple 5608.514419158552  Original  5606.28068892823\n",
      "SGD Simple Regressor 4928.684941829124  Original  5606.28068892823\n",
      "SGD Multi Regressor 5583.16305982794  Original  5606.28068892823\n",
      "Simple Regressor Random forest 4562.418980191914  Original  5606.28068892823\n",
      "Multi Regressor Random Forest 5461.746795020277  Original  5606.28068892823\n",
      "Decision Tree Simple Regressor  4343.954516577191  Original  5606.28068892823\n",
      "Decision Tree Multi Regressor 5752.36226828342  Original  5606.28068892823\n",
      "Lasso Regression Simple Predicted  5001.162590168424  Original  5606.28068892823\n",
      "Lasso Regression Multiple  5389.160670937124  Original  5606.28068892823\n",
      "BaggingRegressor  Simple Predicted  4569.181425688938  Original  5606.28068892823\n",
      "BaggingRegressor Multiple  5375.603025205827  Original  5606.28068892823\n",
      "AdaBoostRegressor  Simple Predicted  7115.673153849259  Original  5606.28068892823\n",
      "AdaBoostRegressor Multiple  5810.091873546097  Original  5606.28068892823\n"
     ]
    },
    {
     "name": "stderr",
     "output_type": "stream",
     "text": [
      "c:\\Users\\Julian Bolanos\\AppData\\Local\\Programs\\Python\\Python37\\lib\\site-packages\\sklearn\\ensemble\\_bagging.py:429: DataConversionWarning: A column-vector y was passed when a 1d array was expected. Please change the shape of y to (n_samples, ), for example using ravel().\n",
      "  return column_or_1d(y, warn=True)\n",
      "c:\\Users\\Julian Bolanos\\AppData\\Local\\Programs\\Python\\Python37\\lib\\site-packages\\sklearn\\ensemble\\_bagging.py:429: DataConversionWarning: A column-vector y was passed when a 1d array was expected. Please change the shape of y to (n_samples, ), for example using ravel().\n",
      "  return column_or_1d(y, warn=True)\n",
      "c:\\Users\\Julian Bolanos\\AppData\\Local\\Programs\\Python\\Python37\\lib\\site-packages\\sklearn\\utils\\validation.py:985: DataConversionWarning: A column-vector y was passed when a 1d array was expected. Please change the shape of y to (n_samples, ), for example using ravel().\n",
      "  y = column_or_1d(y, warn=True)\n",
      "c:\\Users\\Julian Bolanos\\AppData\\Local\\Programs\\Python\\Python37\\lib\\site-packages\\sklearn\\utils\\validation.py:985: DataConversionWarning: A column-vector y was passed when a 1d array was expected. Please change the shape of y to (n_samples, ), for example using ravel().\n",
      "  y = column_or_1d(y, warn=True)\n"
     ]
    },
    {
     "name": "stdout",
     "output_type": "stream",
     "text": [
      "Linear Regression Simple Predicted  5304.863048553837  Original  4760.300045596525\n",
      "Linear Regression Multiple 5197.782690022209  Original  4760.300045596525\n",
      "SVR Linear Simple 4847.820845502596  Original  4760.300045596525\n",
      "SVR Linear Multiple 5251.899814747274  Original  4760.300045596525\n",
      "SGD Simple Regressor 5304.007884993108  Original  4760.300045596525\n",
      "SGD Multi Regressor 5564.319934165951  Original  4760.300045596525\n",
      "Simple Regressor Random forest 5008.460119376248  Original  4760.300045596525\n",
      "Multi Regressor Random Forest 5226.540427022349  Original  4760.300045596525\n",
      "Decision Tree Simple Regressor  4696.791245590616  Original  4760.300045596525\n",
      "Decision Tree Multi Regressor 5100.252610563113  Original  4760.300045596525\n",
      "Lasso Regression Simple Predicted  5305.2706040143075  Original  4760.300045596525\n",
      "Lasso Regression Multiple  5273.125530379053  Original  4760.300045596525\n",
      "BaggingRegressor  Simple Predicted  4977.083428407878  Original  4760.300045596525\n",
      "BaggingRegressor Multiple  5183.945515641558  Original  4760.300045596525\n",
      "AdaBoostRegressor  Simple Predicted  7053.351731310775  Original  4760.300045596525\n",
      "AdaBoostRegressor Multiple  5850.562082970862  Original  4760.300045596525\n",
      "Linear Regression Simple Predicted  5146.401784773824  Original  5226.4271921945465\n",
      "Linear Regression Multiple 5337.5558115465265  Original  5226.4271921945465\n",
      "SVR Linear Simple 4795.102437869554  Original  5226.4271921945465\n",
      "SVR Linear Multiple 5360.115147829383  Original  5226.4271921945465\n",
      "SGD Simple Regressor 5018.405067825324  Original  5226.4271921945465\n",
      "SGD Multi Regressor 5542.773466271572  Original  5226.4271921945465\n"
     ]
    },
    {
     "name": "stderr",
     "output_type": "stream",
     "text": [
      "c:\\Users\\Julian Bolanos\\AppData\\Local\\Programs\\Python\\Python37\\lib\\site-packages\\sklearn\\ensemble\\_bagging.py:429: DataConversionWarning: A column-vector y was passed when a 1d array was expected. Please change the shape of y to (n_samples, ), for example using ravel().\n",
      "  return column_or_1d(y, warn=True)\n",
      "c:\\Users\\Julian Bolanos\\AppData\\Local\\Programs\\Python\\Python37\\lib\\site-packages\\sklearn\\ensemble\\_bagging.py:429: DataConversionWarning: A column-vector y was passed when a 1d array was expected. Please change the shape of y to (n_samples, ), for example using ravel().\n",
      "  return column_or_1d(y, warn=True)\n",
      "c:\\Users\\Julian Bolanos\\AppData\\Local\\Programs\\Python\\Python37\\lib\\site-packages\\sklearn\\utils\\validation.py:985: DataConversionWarning: A column-vector y was passed when a 1d array was expected. Please change the shape of y to (n_samples, ), for example using ravel().\n",
      "  y = column_or_1d(y, warn=True)\n",
      "c:\\Users\\Julian Bolanos\\AppData\\Local\\Programs\\Python\\Python37\\lib\\site-packages\\sklearn\\utils\\validation.py:985: DataConversionWarning: A column-vector y was passed when a 1d array was expected. Please change the shape of y to (n_samples, ), for example using ravel().\n",
      "  y = column_or_1d(y, warn=True)\n"
     ]
    },
    {
     "name": "stdout",
     "output_type": "stream",
     "text": [
      "Simple Regressor Random forest 5014.632206521106  Original  5226.4271921945465\n",
      "Multi Regressor Random Forest 5432.252024480679  Original  5226.4271921945465\n",
      "Decision Tree Simple Regressor  4867.387702376916  Original  5226.4271921945465\n",
      "Decision Tree Multi Regressor 5126.381740036227  Original  5226.4271921945465\n",
      "Lasso Regression Simple Predicted  5146.390210242428  Original  5226.4271921945465\n",
      "Lasso Regression Multiple  5347.125616022191  Original  5226.4271921945465\n",
      "BaggingRegressor  Simple Predicted  5147.683521097312  Original  5226.4271921945465\n",
      "BaggingRegressor Multiple  5241.507987475365  Original  5226.4271921945465\n",
      "AdaBoostRegressor  Simple Predicted  7264.468802124771  Original  5226.4271921945465\n",
      "AdaBoostRegressor Multiple  5859.144005900635  Original  5226.4271921945465\n",
      "Linear Regression Simple Predicted  5204.87278789684  Original  5040.268076831284\n",
      "Linear Regression Multiple"
     ]
    },
    {
     "name": "stderr",
     "output_type": "stream",
     "text": [
      "c:\\Users\\Julian Bolanos\\AppData\\Local\\Programs\\Python\\Python37\\lib\\site-packages\\sklearn\\ensemble\\_bagging.py:429: DataConversionWarning: A column-vector y was passed when a 1d array was expected. Please change the shape of y to (n_samples, ), for example using ravel().\n",
      "  return column_or_1d(y, warn=True)\n",
      "c:\\Users\\Julian Bolanos\\AppData\\Local\\Programs\\Python\\Python37\\lib\\site-packages\\sklearn\\ensemble\\_bagging.py:429: DataConversionWarning: A column-vector y was passed when a 1d array was expected. Please change the shape of y to (n_samples, ), for example using ravel().\n",
      "  return column_or_1d(y, warn=True)\n",
      "c:\\Users\\Julian Bolanos\\AppData\\Local\\Programs\\Python\\Python37\\lib\\site-packages\\sklearn\\utils\\validation.py:985: DataConversionWarning: A column-vector y was passed when a 1d array was expected. Please change the shape of y to (n_samples, ), for example using ravel().\n",
      "  y = column_or_1d(y, warn=True)\n",
      "c:\\Users\\Julian Bolanos\\AppData\\Local\\Programs\\Python\\Python37\\lib\\site-packages\\sklearn\\utils\\validation.py:985: DataConversionWarning: A column-vector y was passed when a 1d array was expected. Please change the shape of y to (n_samples, ), for example using ravel().\n",
      "  y = column_or_1d(y, warn=True)\n"
     ]
    },
    {
     "name": "stdout",
     "output_type": "stream",
     "text": [
      " 5106.729809165687  Original  5040.268076831284\n",
      "SVR Linear Simple 4842.071528473183  Original  5040.268076831284\n",
      "SVR Linear Multiple 5102.418473335295  Original  5040.268076831284\n",
      "SGD Simple Regressor 5136.2895711288775  Original  5040.268076831284\n",
      "SGD Multi Regressor 5475.810110241119  Original  5040.268076831284\n",
      "Simple Regressor Random forest 4847.014745512105  Original  5040.268076831284\n",
      "Multi Regressor Random Forest 5153.825966699022  Original  5040.268076831284\n",
      "Decision Tree Simple Regressor  4652.598359907618  Original  5040.268076831284\n",
      "Decision Tree Multi Regressor 5211.942182838437  Original  5040.268076831284\n",
      "Lasso Regression Simple Predicted  5205.166574916546  Original  5040.268076831284\n",
      "Lasso Regression Multiple  5010.445360454226  Original  5040.268076831284\n",
      "BaggingRegressor  Simple Predicted  4820.486959622549  Original  5040.268076831284\n",
      "BaggingRegressor Multiple  5173.702558073098  Original  5040.268076831284\n",
      "AdaBoostRegressor  Simple Predicted  6998.248102293229  Original  5040.268076831284\n",
      "AdaBoostRegressor Multiple  5945.77840006038  Original  5040.268076831284\n"
     ]
    },
    {
     "name": "stderr",
     "output_type": "stream",
     "text": [
      "c:\\Users\\Julian Bolanos\\AppData\\Local\\Programs\\Python\\Python37\\lib\\site-packages\\sklearn\\ensemble\\_bagging.py:429: DataConversionWarning: A column-vector y was passed when a 1d array was expected. Please change the shape of y to (n_samples, ), for example using ravel().\n",
      "  return column_or_1d(y, warn=True)\n",
      "c:\\Users\\Julian Bolanos\\AppData\\Local\\Programs\\Python\\Python37\\lib\\site-packages\\sklearn\\ensemble\\_bagging.py:429: DataConversionWarning: A column-vector y was passed when a 1d array was expected. Please change the shape of y to (n_samples, ), for example using ravel().\n",
      "  return column_or_1d(y, warn=True)\n",
      "c:\\Users\\Julian Bolanos\\AppData\\Local\\Programs\\Python\\Python37\\lib\\site-packages\\sklearn\\utils\\validation.py:985: DataConversionWarning: A column-vector y was passed when a 1d array was expected. Please change the shape of y to (n_samples, ), for example using ravel().\n",
      "  y = column_or_1d(y, warn=True)\n",
      "c:\\Users\\Julian Bolanos\\AppData\\Local\\Programs\\Python\\Python37\\lib\\site-packages\\sklearn\\utils\\validation.py:985: DataConversionWarning: A column-vector y was passed when a 1d array was expected. Please change the shape of y to (n_samples, ), for example using ravel().\n",
      "  y = column_or_1d(y, warn=True)\n"
     ]
    },
    {
     "name": "stdout",
     "output_type": "stream",
     "text": [
      "Linear Regression Simple Predicted  5203.24531484506  Original  5048.7186090851255\n",
      "Linear Regression Multiple 4982.0259177790185  Original  5048.7186090851255\n",
      "SVR Linear Simple 4743.07747977948  Original  5048.7186090851255\n",
      "SVR Linear Multiple 4985.568744649192  Original  5048.7186090851255\n",
      "SGD Simple Regressor 5134.569760803522  Original  5048.7186090851255\n",
      "SGD Multi Regressor 5229.825172753327  Original  5048.7186090851255\n",
      "Simple Regressor Random forest 5897.043260996725  Original  5048.7186090851255\n",
      "Multi Regressor Random Forest 5159.531401256433  Original  5048.7186090851255\n",
      "Decision Tree Simple Regressor  5994.20982066859  Original  5048.7186090851255\n",
      "Decision Tree Multi Regressor 5730.224598252834  Original  5048.7186090851255\n",
      "Lasso Regression Simple Predicted  5203.44108759543  Original  5048.7186090851255\n",
      "Lasso Regression Multiple  5030.4580152933495  Original  5048.7186090851255\n",
      "BaggingRegressor  Simple Predicted  5563.295441982634  Original  5048.7186090851255\n",
      "BaggingRegressor Multiple  5073.689569688932  Original  5048.7186090851255\n",
      "AdaBoostRegressor  Simple Predicted  7519.894512004583  Original  5048.7186090851255\n",
      "AdaBoostRegressor Multiple  5522.248394257672  Original  5048.7186090851255\n",
      "Linear Regression Simple Predicted  4937.756991743191  Original  5533.716103399393\n",
      "Linear Regression Multiple 5009.604941044051  Original  5533.716103399393\n"
     ]
    },
    {
     "name": "stderr",
     "output_type": "stream",
     "text": [
      "c:\\Users\\Julian Bolanos\\AppData\\Local\\Programs\\Python\\Python37\\lib\\site-packages\\sklearn\\ensemble\\_bagging.py:429: DataConversionWarning: A column-vector y was passed when a 1d array was expected. Please change the shape of y to (n_samples, ), for example using ravel().\n",
      "  return column_or_1d(y, warn=True)\n",
      "c:\\Users\\Julian Bolanos\\AppData\\Local\\Programs\\Python\\Python37\\lib\\site-packages\\sklearn\\ensemble\\_bagging.py:429: DataConversionWarning: A column-vector y was passed when a 1d array was expected. Please change the shape of y to (n_samples, ), for example using ravel().\n",
      "  return column_or_1d(y, warn=True)\n",
      "c:\\Users\\Julian Bolanos\\AppData\\Local\\Programs\\Python\\Python37\\lib\\site-packages\\sklearn\\utils\\validation.py:985: DataConversionWarning: A column-vector y was passed when a 1d array was expected. Please change the shape of y to (n_samples, ), for example using ravel().\n",
      "  y = column_or_1d(y, warn=True)\n",
      "c:\\Users\\Julian Bolanos\\AppData\\Local\\Programs\\Python\\Python37\\lib\\site-packages\\sklearn\\utils\\validation.py:985: DataConversionWarning: A column-vector y was passed when a 1d array was expected. Please change the shape of y to (n_samples, ), for example using ravel().\n",
      "  y = column_or_1d(y, warn=True)\n"
     ]
    },
    {
     "name": "stdout",
     "output_type": "stream",
     "text": [
      "SVR Linear Simple 4635.516162589153  Original  5533.7161033993925\n",
      "SVR Linear Multiple 5135.577195362659  Original  5533.7161033993925\n",
      "SGD Simple Regressor 4866.300326490275  Original  5533.7161033993925\n",
      "SGD Multi Regressor 5309.147692093054  Original  5533.7161033993925\n",
      "Simple Regressor Random forest 4982.8280796007075  Original  5533.7161033993925\n",
      "Multi Regressor Random Forest 5269.7222996623295  Original  5533.7161033993925\n",
      "Decision Tree Simple Regressor  4972.757214061998  Original  5533.716103399393\n",
      "Decision Tree Multi Regressor 4966.693754175237  Original  5533.716103399393\n",
      "Lasso Regression Simple Predicted  4938.263991406654  Original  5533.716103399393\n",
      "Lasso Regression Multiple  5021.748831757742  Original  5533.716103399393\n",
      "BaggingRegressor  Simple Predicted  5076.536111312727  Original  5533.716103399393\n",
      "BaggingRegressor Multiple  5320.765094565179  Original  5533.716103399393\n",
      "AdaBoostRegressor  Simple Predicted  6762.689360753335  Original  5533.716103399393\n",
      "AdaBoostRegressor Multiple  5507.982703612167  Original  5533.716103399393\n",
      "Linear Regression Simple Predicted  5223.151214488672  Original  5044.091128461535\n",
      "Linear Regression Multiple 4879.250975110409  Original  5044.091128461535\n",
      "SVR Linear Simple 4742.899915322399  Original  5044.091128461535\n",
      "SVR Linear Multiple 4967.988048328912  Original  5044.091128461535\n",
      "SGD Simple Regressor 5133.5201898326495  Original  5044.091128461535\n",
      "SGD Multi Regressor 5264.047364451232  Original  5044.091128461535\n"
     ]
    },
    {
     "name": "stderr",
     "output_type": "stream",
     "text": [
      "c:\\Users\\Julian Bolanos\\AppData\\Local\\Programs\\Python\\Python37\\lib\\site-packages\\sklearn\\ensemble\\_bagging.py:429: DataConversionWarning: A column-vector y was passed when a 1d array was expected. Please change the shape of y to (n_samples, ), for example using ravel().\n",
      "  return column_or_1d(y, warn=True)\n",
      "c:\\Users\\Julian Bolanos\\AppData\\Local\\Programs\\Python\\Python37\\lib\\site-packages\\sklearn\\ensemble\\_bagging.py:429: DataConversionWarning: A column-vector y was passed when a 1d array was expected. Please change the shape of y to (n_samples, ), for example using ravel().\n",
      "  return column_or_1d(y, warn=True)\n",
      "c:\\Users\\Julian Bolanos\\AppData\\Local\\Programs\\Python\\Python37\\lib\\site-packages\\sklearn\\utils\\validation.py:985: DataConversionWarning: A column-vector y was passed when a 1d array was expected. Please change the shape of y to (n_samples, ), for example using ravel().\n",
      "  y = column_or_1d(y, warn=True)\n",
      "c:\\Users\\Julian Bolanos\\AppData\\Local\\Programs\\Python\\Python37\\lib\\site-packages\\sklearn\\utils\\validation.py:985: DataConversionWarning: A column-vector y was passed when a 1d array was expected. Please change the shape of y to (n_samples, ), for example using ravel().\n",
      "  y = column_or_1d(y, warn=True)\n"
     ]
    },
    {
     "name": "stdout",
     "output_type": "stream",
     "text": [
      "Simple Regressor Random forest 5854.997285660398  Original  5044.091128461535\n",
      "Multi Regressor Random Forest 5089.570004567768  Original  5044.091128461535\n",
      "Decision Tree Simple Regressor  6229.686273090805  Original  5044.091128461535\n",
      "Decision Tree Multi Regressor 5091.649283948392  Original  5044.091128461535\n",
      "Lasso Regression Simple Predicted  5223.1502993029235  Original  5044.091128461535\n",
      "Lasso Regression Multiple  4860.6951886808065  Original  5044.091128461535\n",
      "BaggingRegressor  Simple Predicted  5594.094471793879  Original  5044.091128461535\n",
      "BaggingRegressor Multiple  5024.964106282901  Original  5044.091128461535\n",
      "AdaBoostRegressor  Simple Predicted  7935.161256521198  Original  5044.091128461535\n",
      "AdaBoostRegressor Multiple  5539.318776634756  Original  5044.091128461535\n",
      "Linear Regression Simple Predicted  5213.2573764603485  Original  5146.4727293908445\n"
     ]
    },
    {
     "name": "stderr",
     "output_type": "stream",
     "text": [
      "c:\\Users\\Julian Bolanos\\AppData\\Local\\Programs\\Python\\Python37\\lib\\site-packages\\sklearn\\ensemble\\_bagging.py:429: DataConversionWarning: A column-vector y was passed when a 1d array was expected. Please change the shape of y to (n_samples, ), for example using ravel().\n",
      "  return column_or_1d(y, warn=True)\n",
      "c:\\Users\\Julian Bolanos\\AppData\\Local\\Programs\\Python\\Python37\\lib\\site-packages\\sklearn\\ensemble\\_bagging.py:429: DataConversionWarning: A column-vector y was passed when a 1d array was expected. Please change the shape of y to (n_samples, ), for example using ravel().\n",
      "  return column_or_1d(y, warn=True)\n",
      "c:\\Users\\Julian Bolanos\\AppData\\Local\\Programs\\Python\\Python37\\lib\\site-packages\\sklearn\\utils\\validation.py:985: DataConversionWarning: A column-vector y was passed when a 1d array was expected. Please change the shape of y to (n_samples, ), for example using ravel().\n",
      "  y = column_or_1d(y, warn=True)\n",
      "c:\\Users\\Julian Bolanos\\AppData\\Local\\Programs\\Python\\Python37\\lib\\site-packages\\sklearn\\utils\\validation.py:985: DataConversionWarning: A column-vector y was passed when a 1d array was expected. Please change the shape of y to (n_samples, ), for example using ravel().\n",
      "  y = column_or_1d(y, warn=True)\n"
     ]
    },
    {
     "name": "stdout",
     "output_type": "stream",
     "text": [
      "Linear Regression Multiple 4821.793736828443  Original  5146.4727293908445\n",
      "SVR Linear Simple 4708.2726130145575  Original  5146.4727293908445\n",
      "SVR Linear Multiple 5074.009813811233  Original  5146.4727293908445\n",
      "SGD Simple Regressor 5050.103195491593  Original  5146.4727293908445\n",
      "SGD Multi Regressor 5354.705517567744  Original  5146.4727293908445\n",
      "Simple Regressor Random forest 5130.2835166522  Original  5146.4727293908445\n",
      "Multi Regressor Random Forest 4909.957181751079  Original  5146.4727293908445\n",
      "Decision Tree Simple Regressor  5417.865987732087  Original  5146.4727293908445\n",
      "Decision Tree Multi Regressor 4616.447723069764  Original  5146.4727293908445\n",
      "Lasso Regression Simple Predicted  5213.053653945585  Original  5146.4727293908445\n",
      "Lasso Regression Multiple  4946.056983282061  Original  5146.4727293908445\n",
      "BaggingRegressor  Simple Predicted  5093.834111561396  Original  5146.4727293908445\n",
      "BaggingRegressor Multiple  4737.0841902708435  Original  5146.4727293908445\n",
      "AdaBoostRegressor  Simple Predicted  7670.921154005661  Original  5146.4727293908445\n",
      "AdaBoostRegressor Multiple  5632.895354066141  Original  5146.4727293908445\n",
      "Linear Regression Simple Predicted  5265.4250935953505  Original  4961.130632218791\n",
      "Linear Regression Multiple 5244.0810945447465  Original  4961.130632218791\n",
      "SVR Linear Simple 4821.352386275669  Original  4961.130632218791\n",
      "SVR Linear Multiple 5337.055300969414  Original  4961.130632218791\n",
      "SGD Simple Regressor 5215.118098113481  Original  4961.130632218791\n",
      "SGD Multi Regressor 5516.718428544541  Original  4961.130632218791\n"
     ]
    },
    {
     "name": "stderr",
     "output_type": "stream",
     "text": [
      "c:\\Users\\Julian Bolanos\\AppData\\Local\\Programs\\Python\\Python37\\lib\\site-packages\\sklearn\\ensemble\\_bagging.py:429: DataConversionWarning: A column-vector y was passed when a 1d array was expected. Please change the shape of y to (n_samples, ), for example using ravel().\n",
      "  return column_or_1d(y, warn=True)\n",
      "c:\\Users\\Julian Bolanos\\AppData\\Local\\Programs\\Python\\Python37\\lib\\site-packages\\sklearn\\ensemble\\_bagging.py:429: DataConversionWarning: A column-vector y was passed when a 1d array was expected. Please change the shape of y to (n_samples, ), for example using ravel().\n",
      "  return column_or_1d(y, warn=True)\n",
      "c:\\Users\\Julian Bolanos\\AppData\\Local\\Programs\\Python\\Python37\\lib\\site-packages\\sklearn\\utils\\validation.py:985: DataConversionWarning: A column-vector y was passed when a 1d array was expected. Please change the shape of y to (n_samples, ), for example using ravel().\n",
      "  y = column_or_1d(y, warn=True)\n",
      "c:\\Users\\Julian Bolanos\\AppData\\Local\\Programs\\Python\\Python37\\lib\\site-packages\\sklearn\\utils\\validation.py:985: DataConversionWarning: A column-vector y was passed when a 1d array was expected. Please change the shape of y to (n_samples, ), for example using ravel().\n",
      "  y = column_or_1d(y, warn=True)\n"
     ]
    },
    {
     "name": "stdout",
     "output_type": "stream",
     "text": [
      "Simple Regressor Random forest 5086.550747860657  Original  4961.130632218791\n",
      "Multi Regressor Random Forest 5098.275385471155  Original  4961.130632218791\n",
      "Decision Tree Simple Regressor  5028.096513280194  Original  4961.130632218791\n",
      "Decision Tree Multi Regressor 5026.466348017076  Original  4961.130632218791\n",
      "Lasso Regression Simple Predicted  5265.236069589749  Original  4961.130632218791\n",
      "Lasso Regression Multiple  5304.036051581444  Original  4961.130632218791\n"
     ]
    },
    {
     "name": "stderr",
     "output_type": "stream",
     "text": [
      "c:\\Users\\Julian Bolanos\\AppData\\Local\\Programs\\Python\\Python37\\lib\\site-packages\\sklearn\\ensemble\\_bagging.py:429: DataConversionWarning: A column-vector y was passed when a 1d array was expected. Please change the shape of y to (n_samples, ), for example using ravel().\n",
      "  return column_or_1d(y, warn=True)\n",
      "c:\\Users\\Julian Bolanos\\AppData\\Local\\Programs\\Python\\Python37\\lib\\site-packages\\sklearn\\ensemble\\_bagging.py:429: DataConversionWarning: A column-vector y was passed when a 1d array was expected. Please change the shape of y to (n_samples, ), for example using ravel().\n",
      "  return column_or_1d(y, warn=True)\n",
      "c:\\Users\\Julian Bolanos\\AppData\\Local\\Programs\\Python\\Python37\\lib\\site-packages\\sklearn\\utils\\validation.py:985: DataConversionWarning: A column-vector y was passed when a 1d array was expected. Please change the shape of y to (n_samples, ), for example using ravel().\n",
      "  y = column_or_1d(y, warn=True)\n",
      "c:\\Users\\Julian Bolanos\\AppData\\Local\\Programs\\Python\\Python37\\lib\\site-packages\\sklearn\\utils\\validation.py:985: DataConversionWarning: A column-vector y was passed when a 1d array was expected. Please change the shape of y to (n_samples, ), for example using ravel().\n",
      "  y = column_or_1d(y, warn=True)\n"
     ]
    },
    {
     "name": "stdout",
     "output_type": "stream",
     "text": [
      "BaggingRegressor  Simple Predicted  5075.657144843615  Original  4961.130632218791\n",
      "BaggingRegressor Multiple  5119.401260578821  Original  4961.130632218791\n",
      "AdaBoostRegressor  Simple Predicted  7694.587081873401  Original  4961.130632218791\n",
      "AdaBoostRegressor Multiple  5792.562022311371  Original  4961.130632218791\n",
      "Linear Regression Simple Predicted  4894.268207063788  Original  5852.200927716826\n",
      "Linear Regression Multiple 6022.178466014092  Original  5852.200927716826\n",
      "SVR Linear Simple 4585.623268533624  Original  5852.200927716826\n",
      "SVR Linear Multiple 5961.257839285036  Original  5852.200927716826\n",
      "SGD Simple Regressor 4767.342435232212  Original  5852.200927716826\n",
      "SGD Multi Regressor 5687.269485143533  Original  5852.200927716826\n",
      "Simple Regressor Random forest 4457.977177291222  Original  5852.200927716826\n",
      "Multi Regressor Random Forest 5844.873602551205  Original  5852.200927716826\n",
      "Decision Tree Simple Regressor  4168.02836205841  Original  5852.200927716826\n",
      "Decision Tree Multi Regressor 5937.907913666728  Original  5852.200927716826\n",
      "Lasso Regression Simple Predicted  4894.142321468525  Original  5852.200927716826\n",
      "Lasso Regression Multiple  5952.915161108982  Original  5852.200927716826\n",
      "BaggingRegressor  Simple Predicted  4470.198629580337  Original  5852.200927716826\n",
      "BaggingRegressor Multiple  5906.30289152726  Original  5852.200927716826\n",
      "AdaBoostRegressor  Simple Predicted  6439.225756271923  Original  5852.200927716826\n",
      "AdaBoostRegressor Multiple  6215.865003088945  Original  5852.200927716826\n",
      "Linear Regression Simple Predicted  5374.161134777597  Original  4705.533356342943\n",
      "Linear Regression Multiple"
     ]
    },
    {
     "name": "stderr",
     "output_type": "stream",
     "text": [
      "c:\\Users\\Julian Bolanos\\AppData\\Local\\Programs\\Python\\Python37\\lib\\site-packages\\sklearn\\ensemble\\_bagging.py:429: DataConversionWarning: A column-vector y was passed when a 1d array was expected. Please change the shape of y to (n_samples, ), for example using ravel().\n",
      "  return column_or_1d(y, warn=True)\n",
      "c:\\Users\\Julian Bolanos\\AppData\\Local\\Programs\\Python\\Python37\\lib\\site-packages\\sklearn\\ensemble\\_bagging.py:429: DataConversionWarning: A column-vector y was passed when a 1d array was expected. Please change the shape of y to (n_samples, ), for example using ravel().\n",
      "  return column_or_1d(y, warn=True)\n",
      "c:\\Users\\Julian Bolanos\\AppData\\Local\\Programs\\Python\\Python37\\lib\\site-packages\\sklearn\\utils\\validation.py:985: DataConversionWarning: A column-vector y was passed when a 1d array was expected. Please change the shape of y to (n_samples, ), for example using ravel().\n",
      "  y = column_or_1d(y, warn=True)\n",
      "c:\\Users\\Julian Bolanos\\AppData\\Local\\Programs\\Python\\Python37\\lib\\site-packages\\sklearn\\utils\\validation.py:985: DataConversionWarning: A column-vector y was passed when a 1d array was expected. Please change the shape of y to (n_samples, ), for example using ravel().\n",
      "  y = column_or_1d(y, warn=True)\n"
     ]
    },
    {
     "name": "stdout",
     "output_type": "stream",
     "text": [
      " 4853.0464978202635  Original  4705.533356342943\n",
      "SVR Linear Simple 4896.655522353459  Original  4705.533356342943\n",
      "SVR Linear Multiple 5130.386999574213  Original  4705.533356342943\n",
      "SGD Simple Regressor 5276.384363816608  Original  4705.533356342943\n",
      "SGD Multi Regressor 5394.402558629823  Original  4705.533356342943\n",
      "Simple Regressor Random forest 5804.277544448729  Original  4705.533356342943\n",
      "Multi Regressor Random Forest 5014.86600982204  Original  4705.533356342943\n",
      "Decision Tree Simple Regressor  5815.368145004118  Original  4705.533356342943\n",
      "Decision Tree Multi Regressor 5093.096371797606  Original  4705.533356342943\n",
      "Lasso Regression Simple Predicted  5373.895700101065  Original  4705.533356342943\n",
      "Lasso Regression Multiple  4987.126686086262  Original  4705.533356342943\n",
      "BaggingRegressor  Simple Predicted  5947.912730676326  Original  4705.533356342943\n",
      "BaggingRegressor Multiple  5055.405062120616  Original  4705.533356342943\n",
      "AdaBoostRegressor  Simple Predicted  8056.066447854172  Original  4705.533356342943\n"
     ]
    },
    {
     "name": "stderr",
     "output_type": "stream",
     "text": [
      "c:\\Users\\Julian Bolanos\\AppData\\Local\\Programs\\Python\\Python37\\lib\\site-packages\\sklearn\\ensemble\\_bagging.py:429: DataConversionWarning: A column-vector y was passed when a 1d array was expected. Please change the shape of y to (n_samples, ), for example using ravel().\n",
      "  return column_or_1d(y, warn=True)\n",
      "c:\\Users\\Julian Bolanos\\AppData\\Local\\Programs\\Python\\Python37\\lib\\site-packages\\sklearn\\ensemble\\_bagging.py:429: DataConversionWarning: A column-vector y was passed when a 1d array was expected. Please change the shape of y to (n_samples, ), for example using ravel().\n",
      "  return column_or_1d(y, warn=True)\n",
      "c:\\Users\\Julian Bolanos\\AppData\\Local\\Programs\\Python\\Python37\\lib\\site-packages\\sklearn\\utils\\validation.py:985: DataConversionWarning: A column-vector y was passed when a 1d array was expected. Please change the shape of y to (n_samples, ), for example using ravel().\n",
      "  y = column_or_1d(y, warn=True)\n",
      "c:\\Users\\Julian Bolanos\\AppData\\Local\\Programs\\Python\\Python37\\lib\\site-packages\\sklearn\\utils\\validation.py:985: DataConversionWarning: A column-vector y was passed when a 1d array was expected. Please change the shape of y to (n_samples, ), for example using ravel().\n",
      "  y = column_or_1d(y, warn=True)\n"
     ]
    },
    {
     "name": "stdout",
     "output_type": "stream",
     "text": [
      "AdaBoostRegressor Multiple  5338.445550470883  Original  4705.533356342943\n",
      "Linear Regression Simple Predicted  5202.280479849752  Original  5100.9661184136885\n",
      "Linear Regression Multiple 5241.43126969719  Original  5100.9661184136885\n",
      "SVR Linear Simple 4696.760194199642  Original  5100.9661184136885\n",
      "SVR Linear Multiple 5410.96706716023  Original  5100.9661184136885\n",
      "SGD Simple Regressor 5099.637862830242  Original  5100.9661184136885\n",
      "SGD Multi Regressor 5531.705293896455  Original  5100.9661184136885\n",
      "Simple Regressor Random forest 5106.271052930616  Original  5100.9661184136885\n",
      "Multi Regressor Random Forest 5343.718290885234  Original  5100.9661184136885\n",
      "Decision Tree Simple Regressor  5085.4915777788465  Original  5100.9661184136885\n",
      "Decision Tree Multi Regressor 5565.658097449016  Original  5100.9661184136885\n",
      "Lasso Regression Simple Predicted  5202.209538936129  Original  5100.9661184136885\n",
      "Lasso Regression Multiple  5326.236802148499  Original  5100.9661184136885\n",
      "BaggingRegressor  Simple Predicted  5163.978010651264  Original  5100.9661184136885\n",
      "BaggingRegressor Multiple  5275.094693708934  Original  5100.9661184136885\n",
      "AdaBoostRegressor  Simple Predicted  6770.330279206927  Original  5100.9661184136885\n",
      "AdaBoostRegressor Multiple  6040.38925567681  Original  5100.9661184136885\n",
      "Linear Regression Simple Predicted  5271.2020038968485  Original  4962.890473779022\n",
      "Linear Regression Multiple 5140.083076423039  Original  4962.890473779022\n",
      "SVR Linear Simple 4804.894854236118  Original  4962.890473779022\n",
      "SVR Linear Multiple 5212.989540778918  Original  4962.890473779022\n",
      "SGD Simple Regressor 5194.267101500574  Original  4962.890473779022\n",
      "SGD Multi Regressor 5483.361800818512  Original  4962.890473779022\n"
     ]
    },
    {
     "name": "stderr",
     "output_type": "stream",
     "text": [
      "c:\\Users\\Julian Bolanos\\AppData\\Local\\Programs\\Python\\Python37\\lib\\site-packages\\sklearn\\ensemble\\_bagging.py:429: DataConversionWarning: A column-vector y was passed when a 1d array was expected. Please change the shape of y to (n_samples, ), for example using ravel().\n",
      "  return column_or_1d(y, warn=True)\n",
      "c:\\Users\\Julian Bolanos\\AppData\\Local\\Programs\\Python\\Python37\\lib\\site-packages\\sklearn\\ensemble\\_bagging.py:429: DataConversionWarning: A column-vector y was passed when a 1d array was expected. Please change the shape of y to (n_samples, ), for example using ravel().\n",
      "  return column_or_1d(y, warn=True)\n",
      "c:\\Users\\Julian Bolanos\\AppData\\Local\\Programs\\Python\\Python37\\lib\\site-packages\\sklearn\\utils\\validation.py:985: DataConversionWarning: A column-vector y was passed when a 1d array was expected. Please change the shape of y to (n_samples, ), for example using ravel().\n",
      "  y = column_or_1d(y, warn=True)\n",
      "c:\\Users\\Julian Bolanos\\AppData\\Local\\Programs\\Python\\Python37\\lib\\site-packages\\sklearn\\utils\\validation.py:985: DataConversionWarning: A column-vector y was passed when a 1d array was expected. Please change the shape of y to (n_samples, ), for example using ravel().\n",
      "  y = column_or_1d(y, warn=True)\n"
     ]
    },
    {
     "name": "stdout",
     "output_type": "stream",
     "text": [
      "Simple Regressor Random forest 5040.42709072341  Original  4962.890473779022\n",
      "Multi Regressor Random Forest 5100.689195014647  Original  4962.890473779022\n",
      "Decision Tree Simple Regressor  4814.416858719038  Original  4962.890473779022\n",
      "Decision Tree Multi Regressor 5242.489081666221  Original  4962.890473779022\n",
      "Lasso Regression Simple Predicted  5271.091668439198  Original  4962.890473779022\n",
      "Lasso Regression Multiple  5111.12539361447  Original  4962.890473779022\n",
      "BaggingRegressor  Simple Predicted  5070.976407297959  Original  4962.890473779022\n",
      "BaggingRegressor Multiple  4900.038577124372  Original  4962.890473779022\n",
      "AdaBoostRegressor  Simple Predicted  7427.677699640489  Original  4962.890473779022\n"
     ]
    },
    {
     "name": "stderr",
     "output_type": "stream",
     "text": [
      "c:\\Users\\Julian Bolanos\\AppData\\Local\\Programs\\Python\\Python37\\lib\\site-packages\\sklearn\\ensemble\\_bagging.py:429: DataConversionWarning: A column-vector y was passed when a 1d array was expected. Please change the shape of y to (n_samples, ), for example using ravel().\n",
      "  return column_or_1d(y, warn=True)\n",
      "c:\\Users\\Julian Bolanos\\AppData\\Local\\Programs\\Python\\Python37\\lib\\site-packages\\sklearn\\ensemble\\_bagging.py:429: DataConversionWarning: A column-vector y was passed when a 1d array was expected. Please change the shape of y to (n_samples, ), for example using ravel().\n",
      "  return column_or_1d(y, warn=True)\n",
      "c:\\Users\\Julian Bolanos\\AppData\\Local\\Programs\\Python\\Python37\\lib\\site-packages\\sklearn\\utils\\validation.py:985: DataConversionWarning: A column-vector y was passed when a 1d array was expected. Please change the shape of y to (n_samples, ), for example using ravel().\n",
      "  y = column_or_1d(y, warn=True)\n",
      "c:\\Users\\Julian Bolanos\\AppData\\Local\\Programs\\Python\\Python37\\lib\\site-packages\\sklearn\\utils\\validation.py:985: DataConversionWarning: A column-vector y was passed when a 1d array was expected. Please change the shape of y to (n_samples, ), for example using ravel().\n",
      "  y = column_or_1d(y, warn=True)\n"
     ]
    },
    {
     "name": "stdout",
     "output_type": "stream",
     "text": [
      "AdaBoostRegressor Multiple  5336.429085845257  Original  4962.890473779022\n",
      "Linear Regression Simple Predicted  5189.085004168152  Original  5128.074852353199\n",
      "Linear Regression Multiple 5486.352780843469  Original  5128.074852353199\n",
      "SVR Linear Simple 4834.156897506241  Original  5128.074852353199\n",
      "SVR Linear Multiple 5631.24912649665  Original  5128.074852353199\n",
      "SGD Simple Regressor 5138.909569455144  Original  5128.074852353199\n",
      "SGD Multi Regressor 5695.134777001726  Original  5128.074852353199\n",
      "Simple Regressor Random forest 5326.891718077944  Original  5128.074852353199\n",
      "Multi Regressor Random Forest 5515.726166029351  Original  5128.074852353199\n",
      "Decision Tree Simple Regressor  5155.667093859637  Original  5128.074852353199\n",
      "Decision Tree Multi Regressor 5195.96461781379  Original  5128.074852353199\n",
      "Lasso Regression Simple Predicted  5188.766153514433  Original  5128.074852353199\n",
      "Lasso Regression Multiple  5524.307561091484  Original  5128.074852353199\n",
      "BaggingRegressor  Simple Predicted  5248.3780671485865  Original  5128.074852353199\n",
      "BaggingRegressor Multiple  5506.329929303103  Original  5128.074852353199\n",
      "AdaBoostRegressor  Simple Predicted  7554.151729238997  Original  5128.074852353199\n",
      "AdaBoostRegressor Multiple  5770.5162884108095  Original  5128.074852353199\n"
     ]
    },
    {
     "name": "stderr",
     "output_type": "stream",
     "text": [
      "c:\\Users\\Julian Bolanos\\AppData\\Local\\Programs\\Python\\Python37\\lib\\site-packages\\sklearn\\ensemble\\_bagging.py:429: DataConversionWarning: A column-vector y was passed when a 1d array was expected. Please change the shape of y to (n_samples, ), for example using ravel().\n",
      "  return column_or_1d(y, warn=True)\n",
      "c:\\Users\\Julian Bolanos\\AppData\\Local\\Programs\\Python\\Python37\\lib\\site-packages\\sklearn\\ensemble\\_bagging.py:429: DataConversionWarning: A column-vector y was passed when a 1d array was expected. Please change the shape of y to (n_samples, ), for example using ravel().\n",
      "  return column_or_1d(y, warn=True)\n",
      "c:\\Users\\Julian Bolanos\\AppData\\Local\\Programs\\Python\\Python37\\lib\\site-packages\\sklearn\\utils\\validation.py:985: DataConversionWarning: A column-vector y was passed when a 1d array was expected. Please change the shape of y to (n_samples, ), for example using ravel().\n",
      "  y = column_or_1d(y, warn=True)\n",
      "c:\\Users\\Julian Bolanos\\AppData\\Local\\Programs\\Python\\Python37\\lib\\site-packages\\sklearn\\utils\\validation.py:985: DataConversionWarning: A column-vector y was passed when a 1d array was expected. Please change the shape of y to (n_samples, ), for example using ravel().\n",
      "  y = column_or_1d(y, warn=True)\n"
     ]
    },
    {
     "name": "stdout",
     "output_type": "stream",
     "text": [
      "Linear Regression Simple Predicted  5050.588344782584  Original  5442.597844151666\n",
      "Linear Regression Multiple 5247.985012603023  Original  5442.597844151666\n",
      "SVR Linear Simple 4563.589302318963  Original  5442.597844151666\n",
      "SVR Linear Multiple 5220.5807025561035  Original  5442.597844151666\n",
      "SGD Simple Regressor 4983.9564902719785  Original  5442.597844151666\n",
      "SGD Multi Regressor 5402.389300027802  Original  5442.597844151666\n",
      "Simple Regressor Random forest 4921.015265857117  Original  5442.597844151666\n",
      "Multi Regressor Random Forest 5051.358642524995  Original  5442.597844151666\n",
      "Decision Tree Simple Regressor  4971.372315639064  Original  5442.597844151666\n",
      "Decision Tree Multi Regressor 4826.908727641006  Original  5442.597844151666\n",
      "Lasso Regression Simple Predicted  5050.749711063139  Original  5442.597844151666\n",
      "Lasso Regression Multiple  5207.673036260027  Original  5442.597844151666\n",
      "BaggingRegressor  Simple Predicted  4753.952195001284  Original  5442.597844151666\n",
      "BaggingRegressor Multiple  5069.586921899659  Original  5442.597844151666\n",
      "AdaBoostRegressor  Simple Predicted  6922.383928864992  Original  5442.597844151666\n",
      "AdaBoostRegressor Multiple  5582.388644288745  Original  5442.597844151666\n",
      "Linear Regression Simple Predicted  5146.048304510939  Original  5252.433963729077\n",
      "Linear Regression Multiple 5033.6353713081  Original  5252.433963729077\n",
      "SVR Linear Simple 4646.617975410523  Original  5252.433963729077\n",
      "SVR Linear Multiple 5095.983532996856  Original  5252.433963729077\n"
     ]
    },
    {
     "name": "stderr",
     "output_type": "stream",
     "text": [
      "c:\\Users\\Julian Bolanos\\AppData\\Local\\Programs\\Python\\Python37\\lib\\site-packages\\sklearn\\ensemble\\_bagging.py:429: DataConversionWarning: A column-vector y was passed when a 1d array was expected. Please change the shape of y to (n_samples, ), for example using ravel().\n",
      "  return column_or_1d(y, warn=True)\n",
      "c:\\Users\\Julian Bolanos\\AppData\\Local\\Programs\\Python\\Python37\\lib\\site-packages\\sklearn\\ensemble\\_bagging.py:429: DataConversionWarning: A column-vector y was passed when a 1d array was expected. Please change the shape of y to (n_samples, ), for example using ravel().\n",
      "  return column_or_1d(y, warn=True)\n",
      "c:\\Users\\Julian Bolanos\\AppData\\Local\\Programs\\Python\\Python37\\lib\\site-packages\\sklearn\\utils\\validation.py:985: DataConversionWarning: A column-vector y was passed when a 1d array was expected. Please change the shape of y to (n_samples, ), for example using ravel().\n",
      "  y = column_or_1d(y, warn=True)\n",
      "c:\\Users\\Julian Bolanos\\AppData\\Local\\Programs\\Python\\Python37\\lib\\site-packages\\sklearn\\utils\\validation.py:985: DataConversionWarning: A column-vector y was passed when a 1d array was expected. Please change the shape of y to (n_samples, ), for example using ravel().\n",
      "  y = column_or_1d(y, warn=True)\n"
     ]
    },
    {
     "name": "stdout",
     "output_type": "stream",
     "text": [
      "SGD Simple Regressor 4992.994710280914  Original  5252.433963729077\n",
      "SGD Multi Regressor 5362.364760765411  Original  5252.433963729077\n",
      "Simple Regressor Random forest 5015.6967534871965  Original  5252.433963729077\n",
      "Multi Regressor Random Forest 4653.240536388373  Original  5252.433963729077\n",
      "Decision Tree Simple Regressor  5090.239712929252  Original  5252.433963729077\n",
      "Decision Tree Multi Regressor 4407.905395646449  Original  5252.433963729077\n",
      "Lasso Regression Simple Predicted  5145.902411133394  Original  5252.433963729077\n",
      "Lasso Regression Multiple  4978.444213290649  Original  5252.433963729077\n",
      "BaggingRegressor  Simple Predicted  5235.060988319402  Original  5252.433963729077\n",
      "BaggingRegressor Multiple  4737.620127959846  Original  5252.433963729077\n",
      "AdaBoostRegressor  Simple Predicted  6985.916045421826  Original  5252.433963729077\n",
      "AdaBoostRegressor Multiple  5228.944777857275  Original  5252.433963729077\n"
     ]
    },
    {
     "name": "stderr",
     "output_type": "stream",
     "text": [
      "c:\\Users\\Julian Bolanos\\AppData\\Local\\Programs\\Python\\Python37\\lib\\site-packages\\sklearn\\ensemble\\_bagging.py:429: DataConversionWarning: A column-vector y was passed when a 1d array was expected. Please change the shape of y to (n_samples, ), for example using ravel().\n",
      "  return column_or_1d(y, warn=True)\n",
      "c:\\Users\\Julian Bolanos\\AppData\\Local\\Programs\\Python\\Python37\\lib\\site-packages\\sklearn\\ensemble\\_bagging.py:429: DataConversionWarning: A column-vector y was passed when a 1d array was expected. Please change the shape of y to (n_samples, ), for example using ravel().\n",
      "  return column_or_1d(y, warn=True)\n",
      "c:\\Users\\Julian Bolanos\\AppData\\Local\\Programs\\Python\\Python37\\lib\\site-packages\\sklearn\\utils\\validation.py:985: DataConversionWarning: A column-vector y was passed when a 1d array was expected. Please change the shape of y to (n_samples, ), for example using ravel().\n",
      "  y = column_or_1d(y, warn=True)\n",
      "c:\\Users\\Julian Bolanos\\AppData\\Local\\Programs\\Python\\Python37\\lib\\site-packages\\sklearn\\utils\\validation.py:985: DataConversionWarning: A column-vector y was passed when a 1d array was expected. Please change the shape of y to (n_samples, ), for example using ravel().\n",
      "  y = column_or_1d(y, warn=True)\n"
     ]
    },
    {
     "name": "stdout",
     "output_type": "stream",
     "text": [
      "Linear Regression Simple Predicted  5176.083742885364  Original  5183.577501904928\n",
      "Linear Regression Multiple 5171.656752835928  Original  5183.577501904928\n",
      "SVR Linear Simple 4782.041839933818  Original  5183.577501904928\n",
      "SVR Linear Multiple 5294.410910525424  Original  5183.577501904928\n",
      "SGD Simple Regressor 5108.053750166788  Original  5183.577501904928\n",
      "SGD Multi Regressor 5470.22812234713  Original  5183.577501904928\n",
      "Simple Regressor Random forest 5172.352972800216  Original  5183.577501904928\n",
      "Multi Regressor Random Forest 5396.622931895019  Original  5183.577501904928\n",
      "Decision Tree Simple Regressor  5227.572783160936  Original  5183.577501904928\n",
      "Decision Tree Multi Regressor 5591.966798867362  Original  5183.577501904928\n",
      "Lasso Regression Simple Predicted  5175.732401925642  Original  5183.577501904928\n",
      "Lasso Regression Multiple  5166.683231844361  Original  5183.577501904928\n",
      "BaggingRegressor  Simple Predicted  5280.830181909718  Original  5183.577501904928\n",
      "BaggingRegressor Multiple  5372.262171580476  Original  5183.577501904928\n",
      "AdaBoostRegressor  Simple Predicted  7039.452095688034  Original  5183.577501904928\n",
      "AdaBoostRegressor Multiple  5844.26950216342  Original  5183.577501904928\n",
      "Linear Regression Simple Predicted  5360.922682949602  Original  4569.057141118388\n",
      "Linear Regression Multiple 4870.863216892509  Original  4569.057141118388\n",
      "SVR Linear Simple 4956.793797148673  Original  4569.057141118389\n",
      "SVR Linear Multiple 5099.11263380103  Original  4569.057141118389\n",
      "SGD Simple Regressor 5370.865499767919  Original "
     ]
    },
    {
     "name": "stderr",
     "output_type": "stream",
     "text": [
      "c:\\Users\\Julian Bolanos\\AppData\\Local\\Programs\\Python\\Python37\\lib\\site-packages\\sklearn\\ensemble\\_bagging.py:429: DataConversionWarning: A column-vector y was passed when a 1d array was expected. Please change the shape of y to (n_samples, ), for example using ravel().\n",
      "  return column_or_1d(y, warn=True)\n",
      "c:\\Users\\Julian Bolanos\\AppData\\Local\\Programs\\Python\\Python37\\lib\\site-packages\\sklearn\\ensemble\\_bagging.py:429: DataConversionWarning: A column-vector y was passed when a 1d array was expected. Please change the shape of y to (n_samples, ), for example using ravel().\n",
      "  return column_or_1d(y, warn=True)\n",
      "c:\\Users\\Julian Bolanos\\AppData\\Local\\Programs\\Python\\Python37\\lib\\site-packages\\sklearn\\utils\\validation.py:985: DataConversionWarning: A column-vector y was passed when a 1d array was expected. Please change the shape of y to (n_samples, ), for example using ravel().\n",
      "  y = column_or_1d(y, warn=True)\n",
      "c:\\Users\\Julian Bolanos\\AppData\\Local\\Programs\\Python\\Python37\\lib\\site-packages\\sklearn\\utils\\validation.py:985: DataConversionWarning: A column-vector y was passed when a 1d array was expected. Please change the shape of y to (n_samples, ), for example using ravel().\n",
      "  y = column_or_1d(y, warn=True)\n"
     ]
    },
    {
     "name": "stdout",
     "output_type": "stream",
     "text": [
      " 4569.057141118389\n",
      "SGD Multi Regressor 5437.4984401154115  Original  4569.057141118389\n",
      "Simple Regressor Random forest 5305.029579752589  Original  4569.057141118389\n",
      "Multi Regressor Random Forest 5027.5273805665865  Original  4569.057141118389\n",
      "Decision Tree Simple Regressor  5435.441468814072  Original  4569.057141118388\n",
      "Decision Tree Multi Regressor 4695.506451978926  Original  4569.057141118388\n",
      "Lasso Regression Simple Predicted  5361.118765110335  Original  4569.057141118388\n",
      "Lasso Regression Multiple  4953.793547455604  Original  4569.057141118388\n",
      "BaggingRegressor  Simple Predicted  5316.786668281709  Original  4569.057141118388\n",
      "BaggingRegressor Multiple  4926.269354936738  Original  4569.057141118388\n",
      "AdaBoostRegressor  Simple Predicted  6993.2705295302485  Original  4569.057141118388\n",
      "AdaBoostRegressor Multiple  5674.837109076217  Original  4569.057141118388\n"
     ]
    },
    {
     "name": "stderr",
     "output_type": "stream",
     "text": [
      "c:\\Users\\Julian Bolanos\\AppData\\Local\\Programs\\Python\\Python37\\lib\\site-packages\\sklearn\\ensemble\\_bagging.py:429: DataConversionWarning: A column-vector y was passed when a 1d array was expected. Please change the shape of y to (n_samples, ), for example using ravel().\n",
      "  return column_or_1d(y, warn=True)\n",
      "c:\\Users\\Julian Bolanos\\AppData\\Local\\Programs\\Python\\Python37\\lib\\site-packages\\sklearn\\ensemble\\_bagging.py:429: DataConversionWarning: A column-vector y was passed when a 1d array was expected. Please change the shape of y to (n_samples, ), for example using ravel().\n",
      "  return column_or_1d(y, warn=True)\n",
      "c:\\Users\\Julian Bolanos\\AppData\\Local\\Programs\\Python\\Python37\\lib\\site-packages\\sklearn\\utils\\validation.py:985: DataConversionWarning: A column-vector y was passed when a 1d array was expected. Please change the shape of y to (n_samples, ), for example using ravel().\n",
      "  y = column_or_1d(y, warn=True)\n",
      "c:\\Users\\Julian Bolanos\\AppData\\Local\\Programs\\Python\\Python37\\lib\\site-packages\\sklearn\\utils\\validation.py:985: DataConversionWarning: A column-vector y was passed when a 1d array was expected. Please change the shape of y to (n_samples, ), for example using ravel().\n",
      "  y = column_or_1d(y, warn=True)\n"
     ]
    },
    {
     "name": "stdout",
     "output_type": "stream",
     "text": [
      "Linear Regression Simple Predicted  5253.847440610013  Original  5037.07810816021\n",
      "Linear Regression Multiple 5184.57812085213  Original  5037.07810816021\n",
      "SVR Linear Simple 4856.546326805188  Original  5037.07810816021\n",
      "SVR Linear Multiple 5228.50622442049  Original  5037.07810816021\n",
      "SGD Simple Regressor 5171.024157199888  Original  5037.07810816021\n",
      "SGD Multi Regressor 5443.468971251027  Original  5037.07810816021\n",
      "Simple Regressor Random forest 5251.656465108443  Original  5037.07810816021\n",
      "Multi Regressor Random Forest 4942.746212668391  Original  5037.07810816021\n",
      "Decision Tree Simple Regressor  5301.7786948212815  Original  5037.07810816021\n",
      "Decision Tree Multi Regressor 4953.6732502362265  Original  5037.07810816021\n",
      "Lasso Regression Simple Predicted  5253.635599302413  Original  5037.07810816021\n",
      "Lasso Regression Multiple  5174.5352937481375  Original  5037.07810816021\n",
      "BaggingRegressor  Simple Predicted  5387.843546052584  Original  5037.07810816021\n",
      "BaggingRegressor Multiple  4868.732493481329  Original  5037.07810816021\n",
      "AdaBoostRegressor  Simple Predicted  6789.6087504834995  Original  5037.07810816021\n",
      "AdaBoostRegressor Multiple  5460.173693361272  Original  5037.07810816021\n",
      "Linear Regression Simple Predicted  5113.7942517345  Original  5299.370172849886\n",
      "Linear Regression Multiple 5173.554484054454  Original  5299.370172849886\n",
      "SVR Linear Simple 4768.457904985239  Original  5299.370172849886\n",
      "SVR Linear Multiple 5260.150918606386  Original  5299.370172849886\n",
      "SGD Simple Regressor 5033.647548409673  Original  5299.370172849886\n",
      "SGD Multi Regressor 5401.157588945404  Original  5299.370172849886\n"
     ]
    },
    {
     "name": "stderr",
     "output_type": "stream",
     "text": [
      "c:\\Users\\Julian Bolanos\\AppData\\Local\\Programs\\Python\\Python37\\lib\\site-packages\\sklearn\\ensemble\\_bagging.py:429: DataConversionWarning: A column-vector y was passed when a 1d array was expected. Please change the shape of y to (n_samples, ), for example using ravel().\n",
      "  return column_or_1d(y, warn=True)\n",
      "c:\\Users\\Julian Bolanos\\AppData\\Local\\Programs\\Python\\Python37\\lib\\site-packages\\sklearn\\ensemble\\_bagging.py:429: DataConversionWarning: A column-vector y was passed when a 1d array was expected. Please change the shape of y to (n_samples, ), for example using ravel().\n",
      "  return column_or_1d(y, warn=True)\n",
      "c:\\Users\\Julian Bolanos\\AppData\\Local\\Programs\\Python\\Python37\\lib\\site-packages\\sklearn\\utils\\validation.py:985: DataConversionWarning: A column-vector y was passed when a 1d array was expected. Please change the shape of y to (n_samples, ), for example using ravel().\n",
      "  y = column_or_1d(y, warn=True)\n",
      "c:\\Users\\Julian Bolanos\\AppData\\Local\\Programs\\Python\\Python37\\lib\\site-packages\\sklearn\\utils\\validation.py:985: DataConversionWarning: A column-vector y was passed when a 1d array was expected. Please change the shape of y to (n_samples, ), for example using ravel().\n",
      "  y = column_or_1d(y, warn=True)\n"
     ]
    },
    {
     "name": "stdout",
     "output_type": "stream",
     "text": [
      "Simple Regressor Random forest 4994.482534124944  Original  5299.370172849886\n",
      "Multi Regressor Random Forest 5103.512000229405  Original  5299.370172849886\n",
      "Decision Tree Simple Regressor  4891.191340066418  Original  5299.370172849886\n",
      "Decision Tree Multi Regressor 5234.232120426307  Original  5299.370172849886\n",
      "Lasso Regression Simple Predicted  5113.690452255157  Original  5299.370172849886\n",
      "Lasso Regression Multiple  5126.172577302226  Original  5299.370172849886\n",
      "BaggingRegressor  Simple Predicted  4892.322952004763  Original  5299.370172849886\n",
      "BaggingRegressor Multiple  5035.934050634554  Original  5299.370172849886\n",
      "AdaBoostRegressor  Simple Predicted  7352.599143838626  Original  5299.370172849886\n",
      "AdaBoostRegressor Multiple  5873.637165461545  Original  5299.370172849886\n",
      "Linear Regression Simple Predicted  5080.20382030005  Original  5248.756359903918\n",
      "Linear Regression Multiple"
     ]
    },
    {
     "name": "stderr",
     "output_type": "stream",
     "text": [
      "c:\\Users\\Julian Bolanos\\AppData\\Local\\Programs\\Python\\Python37\\lib\\site-packages\\sklearn\\ensemble\\_bagging.py:429: DataConversionWarning: A column-vector y was passed when a 1d array was expected. Please change the shape of y to (n_samples, ), for example using ravel().\n",
      "  return column_or_1d(y, warn=True)\n",
      "c:\\Users\\Julian Bolanos\\AppData\\Local\\Programs\\Python\\Python37\\lib\\site-packages\\sklearn\\ensemble\\_bagging.py:429: DataConversionWarning: A column-vector y was passed when a 1d array was expected. Please change the shape of y to (n_samples, ), for example using ravel().\n",
      "  return column_or_1d(y, warn=True)\n",
      "c:\\Users\\Julian Bolanos\\AppData\\Local\\Programs\\Python\\Python37\\lib\\site-packages\\sklearn\\utils\\validation.py:985: DataConversionWarning: A column-vector y was passed when a 1d array was expected. Please change the shape of y to (n_samples, ), for example using ravel().\n",
      "  y = column_or_1d(y, warn=True)\n",
      "c:\\Users\\Julian Bolanos\\AppData\\Local\\Programs\\Python\\Python37\\lib\\site-packages\\sklearn\\utils\\validation.py:985: DataConversionWarning: A column-vector y was passed when a 1d array was expected. Please change the shape of y to (n_samples, ), for example using ravel().\n",
      "  y = column_or_1d(y, warn=True)\n"
     ]
    },
    {
     "name": "stdout",
     "output_type": "stream",
     "text": [
      " 4887.6839865458705  Original  5248.756359903918\n",
      "SVR Linear Simple 4611.3945900683375  Original  5248.756359903918\n",
      "SVR Linear Multiple 5093.814080801181  Original  5248.756359903918\n",
      "SGD Simple Regressor 5037.349351617887  Original  5248.756359903918\n",
      "SGD Multi Regressor 5311.265420205456  Original  5248.756359903918\n",
      "Simple Regressor Random forest 4835.615667447547  Original  5248.756359903918\n",
      "Multi Regressor Random Forest 5074.2725321321395  Original  5248.756359903918\n",
      "Decision Tree Simple Regressor  4685.057036556478  Original  5248.756359903918\n",
      "Decision Tree Multi Regressor 5244.446708828995  Original  5248.756359903918\n",
      "Lasso Regression Simple Predicted  5080.500412556283  Original  5248.756359903918\n",
      "Lasso Regression Multiple  4931.690401252306  Original  5248.756359903918\n",
      "BaggingRegressor  Simple Predicted  4745.736496312007  Original  5248.756359903918\n",
      "BaggingRegressor Multiple  5142.40636334772  Original  5248.756359903918\n",
      "AdaBoostRegressor  Simple Predicted  7344.9669807180135  Original  5248.756359903918\n",
      "AdaBoostRegressor Multiple  5462.342535854487  Original  5248.756359903918\n",
      "Linear Regression Simple Predicted  5169.740943226358  Original  5144.339000741043\n",
      "Linear Regression Multiple 5272.577691065241  Original  5144.339000741043\n",
      "SVR Linear Simple 4770.960041856511  Original "
     ]
    },
    {
     "name": "stderr",
     "output_type": "stream",
     "text": [
      "c:\\Users\\Julian Bolanos\\AppData\\Local\\Programs\\Python\\Python37\\lib\\site-packages\\sklearn\\ensemble\\_bagging.py:429: DataConversionWarning: A column-vector y was passed when a 1d array was expected. Please change the shape of y to (n_samples, ), for example using ravel().\n",
      "  return column_or_1d(y, warn=True)\n",
      "c:\\Users\\Julian Bolanos\\AppData\\Local\\Programs\\Python\\Python37\\lib\\site-packages\\sklearn\\ensemble\\_bagging.py:429: DataConversionWarning: A column-vector y was passed when a 1d array was expected. Please change the shape of y to (n_samples, ), for example using ravel().\n",
      "  return column_or_1d(y, warn=True)\n",
      "c:\\Users\\Julian Bolanos\\AppData\\Local\\Programs\\Python\\Python37\\lib\\site-packages\\sklearn\\utils\\validation.py:985: DataConversionWarning: A column-vector y was passed when a 1d array was expected. Please change the shape of y to (n_samples, ), for example using ravel().\n",
      "  y = column_or_1d(y, warn=True)\n",
      "c:\\Users\\Julian Bolanos\\AppData\\Local\\Programs\\Python\\Python37\\lib\\site-packages\\sklearn\\utils\\validation.py:985: DataConversionWarning: A column-vector y was passed when a 1d array was expected. Please change the shape of y to (n_samples, ), for example using ravel().\n",
      "  y = column_or_1d(y, warn=True)\n"
     ]
    },
    {
     "name": "stdout",
     "output_type": "stream",
     "text": [
      " 5144.339000741043\n",
      "SVR Linear Multiple 5435.372153786756  Original  5144.339000741043\n",
      "SGD Simple Regressor 5139.482102278555  Original  5144.339000741043\n",
      "SGD Multi Regressor 5673.253245640432  Original  5144.339000741043\n",
      "Simple Regressor Random forest 4931.729913048977  Original  5144.339000741043\n",
      "Multi Regressor Random Forest 5634.849218034565  Original  5144.339000741043\n",
      "Decision Tree Simple Regressor  4714.74345249167  Original  5144.339000741043\n",
      "Decision Tree Multi Regressor 5765.852382692151  Original  5144.339000741043\n",
      "Lasso Regression Simple Predicted  5170.044776417504  Original  5144.339000741043\n",
      "Lasso Regression Multiple  5338.895803141927  Original  5144.339000741043\n",
      "BaggingRegressor  Simple Predicted  4778.838972208124  Original  5144.339000741043\n",
      "BaggingRegressor Multiple  5784.517681086058  Original  5144.339000741043\n",
      "AdaBoostRegressor  Simple Predicted  7293.547025014243  Original  5144.339000741043\n"
     ]
    },
    {
     "name": "stderr",
     "output_type": "stream",
     "text": [
      "c:\\Users\\Julian Bolanos\\AppData\\Local\\Programs\\Python\\Python37\\lib\\site-packages\\sklearn\\ensemble\\_bagging.py:429: DataConversionWarning: A column-vector y was passed when a 1d array was expected. Please change the shape of y to (n_samples, ), for example using ravel().\n",
      "  return column_or_1d(y, warn=True)\n",
      "c:\\Users\\Julian Bolanos\\AppData\\Local\\Programs\\Python\\Python37\\lib\\site-packages\\sklearn\\ensemble\\_bagging.py:429: DataConversionWarning: A column-vector y was passed when a 1d array was expected. Please change the shape of y to (n_samples, ), for example using ravel().\n",
      "  return column_or_1d(y, warn=True)\n",
      "c:\\Users\\Julian Bolanos\\AppData\\Local\\Programs\\Python\\Python37\\lib\\site-packages\\sklearn\\utils\\validation.py:985: DataConversionWarning: A column-vector y was passed when a 1d array was expected. Please change the shape of y to (n_samples, ), for example using ravel().\n",
      "  y = column_or_1d(y, warn=True)\n",
      "c:\\Users\\Julian Bolanos\\AppData\\Local\\Programs\\Python\\Python37\\lib\\site-packages\\sklearn\\utils\\validation.py:985: DataConversionWarning: A column-vector y was passed when a 1d array was expected. Please change the shape of y to (n_samples, ), for example using ravel().\n",
      "  y = column_or_1d(y, warn=True)\n"
     ]
    },
    {
     "name": "stdout",
     "output_type": "stream",
     "text": [
      "AdaBoostRegressor Multiple  6189.284606953856  Original  5144.339000741043\n",
      "Linear Regression Simple Predicted  5167.450994377932  Original  5219.635660679572\n",
      "Linear Regression Multiple 4949.805999639887  Original  5219.635660679572\n",
      "SVR Linear Simple 4798.0241211007715  Original  5219.635660679572\n",
      "SVR Linear Multiple 5000.746502098671  Original  5219.635660679572\n",
      "SGD Simple Regressor 5006.612845444614  Original  5219.635660679572\n",
      "SGD Multi Regressor 5356.784122905063  Original  5219.635660679572\n",
      "Simple Regressor Random forest 5887.443981290528  Original  5219.635660679572\n",
      "Multi Regressor Random Forest 5013.8731245364115  Original  5219.635660679572\n",
      "Decision Tree Simple Regressor  6411.445812986138  Original  5219.635660679572\n",
      "Decision Tree Multi Regressor 5195.575641494036  Original  5219.635660679572\n",
      "Lasso Regression Simple Predicted  5167.272781291808  Original  5219.635660679572\n",
      "Lasso Regression Multiple  4968.134836718443  Original  5219.635660679572\n",
      "BaggingRegressor  Simple Predicted  5688.4704560206965  Original  5219.635660679572\n",
      "BaggingRegressor Multiple  5036.356573932091  Original  5219.635660679572\n",
      "AdaBoostRegressor  Simple Predicted  7025.912499059018  Original  5219.635660679572\n",
      "AdaBoostRegressor Multiple  5229.39941795268  Original  5219.635660679572\n",
      "Linear Regression Simple Predicted  5180.10381679277  Original  5084.113498530632\n",
      "Linear Regression Multiple 4837.046974526778  Original  5084.113498530632\n",
      "SVR Linear Simple 4743.9805480709665  Original  5084.113498530632\n"
     ]
    },
    {
     "name": "stderr",
     "output_type": "stream",
     "text": [
      "c:\\Users\\Julian Bolanos\\AppData\\Local\\Programs\\Python\\Python37\\lib\\site-packages\\sklearn\\ensemble\\_bagging.py:429: DataConversionWarning: A column-vector y was passed when a 1d array was expected. Please change the shape of y to (n_samples, ), for example using ravel().\n",
      "  return column_or_1d(y, warn=True)\n",
      "c:\\Users\\Julian Bolanos\\AppData\\Local\\Programs\\Python\\Python37\\lib\\site-packages\\sklearn\\ensemble\\_bagging.py:429: DataConversionWarning: A column-vector y was passed when a 1d array was expected. Please change the shape of y to (n_samples, ), for example using ravel().\n",
      "  return column_or_1d(y, warn=True)\n",
      "c:\\Users\\Julian Bolanos\\AppData\\Local\\Programs\\Python\\Python37\\lib\\site-packages\\sklearn\\utils\\validation.py:985: DataConversionWarning: A column-vector y was passed when a 1d array was expected. Please change the shape of y to (n_samples, ), for example using ravel().\n",
      "  y = column_or_1d(y, warn=True)\n",
      "c:\\Users\\Julian Bolanos\\AppData\\Local\\Programs\\Python\\Python37\\lib\\site-packages\\sklearn\\utils\\validation.py:985: DataConversionWarning: A column-vector y was passed when a 1d array was expected. Please change the shape of y to (n_samples, ), for example using ravel().\n",
      "  y = column_or_1d(y, warn=True)\n"
     ]
    },
    {
     "name": "stdout",
     "output_type": "stream",
     "text": [
      "SVR Linear Multiple 4973.175716670508  Original  5084.113498530632\n",
      "SGD Simple Regressor 5099.742207657832  Original  5084.113498530632\n",
      "SGD Multi Regressor 5230.68489909775  Original  5084.113498530632\n",
      "Simple Regressor Random forest 5928.79331911721  Original  5084.113498530632\n",
      "Multi Regressor Random Forest 4984.240509250721  Original  5084.113498530632\n",
      "Decision Tree Simple Regressor  6285.816004441345  Original  5084.113498530632\n",
      "Decision Tree Multi Regressor 5328.9328720879175  Original  5084.113498530632\n",
      "Lasso Regression Simple Predicted  5180.218707182366  Original  5084.113498530632\n",
      "Lasso Regression Multiple  4823.891352753215  Original  5084.113498530632\n",
      "BaggingRegressor  Simple Predicted  6254.2782016340625  Original  5084.113498530632\n",
      "BaggingRegressor Multiple  4989.383723372346  Original  5084.113498530632\n",
      "AdaBoostRegressor  Simple Predicted  7661.577680990145  Original  5084.113498530632\n",
      "AdaBoostRegressor Multiple  5422.407881565334  Original  5084.113498530632\n",
      "Linear Regression Simple Predicted  5169.118929701837  Original  5166.657350394043\n",
      "Linear Regression Multiple 4947.776946162246  Original  5166.657350394043\n",
      "SVR Linear Simple 4791.400954119441  Original  5166.657350394043\n",
      "SVR Linear Multiple 5135.52198431742  Original  5166.657350394043\n"
     ]
    },
    {
     "name": "stderr",
     "output_type": "stream",
     "text": [
      "c:\\Users\\Julian Bolanos\\AppData\\Local\\Programs\\Python\\Python37\\lib\\site-packages\\sklearn\\ensemble\\_bagging.py:429: DataConversionWarning: A column-vector y was passed when a 1d array was expected. Please change the shape of y to (n_samples, ), for example using ravel().\n",
      "  return column_or_1d(y, warn=True)\n",
      "c:\\Users\\Julian Bolanos\\AppData\\Local\\Programs\\Python\\Python37\\lib\\site-packages\\sklearn\\ensemble\\_bagging.py:429: DataConversionWarning: A column-vector y was passed when a 1d array was expected. Please change the shape of y to (n_samples, ), for example using ravel().\n",
      "  return column_or_1d(y, warn=True)\n",
      "c:\\Users\\Julian Bolanos\\AppData\\Local\\Programs\\Python\\Python37\\lib\\site-packages\\sklearn\\utils\\validation.py:985: DataConversionWarning: A column-vector y was passed when a 1d array was expected. Please change the shape of y to (n_samples, ), for example using ravel().\n",
      "  y = column_or_1d(y, warn=True)\n",
      "c:\\Users\\Julian Bolanos\\AppData\\Local\\Programs\\Python\\Python37\\lib\\site-packages\\sklearn\\utils\\validation.py:985: DataConversionWarning: A column-vector y was passed when a 1d array was expected. Please change the shape of y to (n_samples, ), for example using ravel().\n",
      "  y = column_or_1d(y, warn=True)\n"
     ]
    },
    {
     "name": "stdout",
     "output_type": "stream",
     "text": [
      "SGD Simple Regressor 5077.718310240229  Original  5166.657350394043\n",
      "SGD Multi Regressor 5414.545809956207  Original  5166.657350394043\n",
      "Simple Regressor Random forest 5018.436809270088  Original  5166.657350394043\n",
      "Multi Regressor Random Forest 5059.974877989223  Original  5166.657350394043\n",
      "Decision Tree Simple Regressor  4858.999677986731  Original  5166.657350394043\n",
      "Decision Tree Multi Regressor 5087.410099240694  Original  5166.657350394043\n",
      "Lasso Regression Simple Predicted  5169.146561171877  Original  5166.657350394043\n",
      "Lasso Regression Multiple  4996.9563903448225  Original  5166.657350394043\n",
      "BaggingRegressor  Simple Predicted  4999.095997444684  Original  5166.657350394043\n",
      "BaggingRegressor Multiple  5026.256365052917  Original  5166.657350394043\n",
      "AdaBoostRegressor  Simple Predicted  6776.42104384356  Original  5166.657350394043\n",
      "AdaBoostRegressor Multiple  5457.3717899408275  Original  5166.657350394043\n"
     ]
    },
    {
     "name": "stderr",
     "output_type": "stream",
     "text": [
      "c:\\Users\\Julian Bolanos\\AppData\\Local\\Programs\\Python\\Python37\\lib\\site-packages\\sklearn\\ensemble\\_bagging.py:429: DataConversionWarning: A column-vector y was passed when a 1d array was expected. Please change the shape of y to (n_samples, ), for example using ravel().\n",
      "  return column_or_1d(y, warn=True)\n",
      "c:\\Users\\Julian Bolanos\\AppData\\Local\\Programs\\Python\\Python37\\lib\\site-packages\\sklearn\\ensemble\\_bagging.py:429: DataConversionWarning: A column-vector y was passed when a 1d array was expected. Please change the shape of y to (n_samples, ), for example using ravel().\n",
      "  return column_or_1d(y, warn=True)\n",
      "c:\\Users\\Julian Bolanos\\AppData\\Local\\Programs\\Python\\Python37\\lib\\site-packages\\sklearn\\utils\\validation.py:985: DataConversionWarning: A column-vector y was passed when a 1d array was expected. Please change the shape of y to (n_samples, ), for example using ravel().\n",
      "  y = column_or_1d(y, warn=True)\n",
      "c:\\Users\\Julian Bolanos\\AppData\\Local\\Programs\\Python\\Python37\\lib\\site-packages\\sklearn\\utils\\validation.py:985: DataConversionWarning: A column-vector y was passed when a 1d array was expected. Please change the shape of y to (n_samples, ), for example using ravel().\n",
      "  y = column_or_1d(y, warn=True)\n"
     ]
    },
    {
     "name": "stdout",
     "output_type": "stream",
     "text": [
      "Linear Regression Simple Predicted  5368.258637428183  Original  4696.302237487539\n",
      "Linear Regression Multiple 5210.353885588105  Original  4696.302237487539\n",
      "SVR Linear Simple 5009.1481327123265  Original  4696.302237487539\n",
      "SVR Linear Multiple 5241.071774754791  Original  4696.302237487539\n",
      "SGD Simple Regressor 5312.626131382775  Original  4696.302237487539\n",
      "SGD Multi Regressor 5433.766252428316  Original  4696.302237487539\n",
      "Simple Regressor Random forest 5580.573704054673  Original  4696.302237487539\n",
      "Multi Regressor Random Forest 5106.056004425754  Original  4696.302237487539\n",
      "Decision Tree Simple Regressor  5598.802643934907  Original  4696.302237487539\n",
      "Decision Tree Multi Regressor 5058.137541416149  Original  4696.302237487539\n",
      "Lasso Regression Simple Predicted  5368.484191789423  Original  4696.302237487539\n",
      "Lasso Regression Multiple  5111.537128695699  Original  4696.302237487539\n",
      "BaggingRegressor  Simple Predicted  5697.87375591715  Original  4696.302237487539\n",
      "BaggingRegressor Multiple  5092.002227304746  Original  4696.302237487539\n",
      "AdaBoostRegressor  Simple Predicted  7427.97260055019  Original  4696.302237487539\n",
      "AdaBoostRegressor Multiple  5778.919155861156  Original  4696.302237487539\n"
     ]
    },
    {
     "name": "stderr",
     "output_type": "stream",
     "text": [
      "c:\\Users\\Julian Bolanos\\AppData\\Local\\Programs\\Python\\Python37\\lib\\site-packages\\sklearn\\ensemble\\_bagging.py:429: DataConversionWarning: A column-vector y was passed when a 1d array was expected. Please change the shape of y to (n_samples, ), for example using ravel().\n",
      "  return column_or_1d(y, warn=True)\n",
      "c:\\Users\\Julian Bolanos\\AppData\\Local\\Programs\\Python\\Python37\\lib\\site-packages\\sklearn\\ensemble\\_bagging.py:429: DataConversionWarning: A column-vector y was passed when a 1d array was expected. Please change the shape of y to (n_samples, ), for example using ravel().\n",
      "  return column_or_1d(y, warn=True)\n",
      "c:\\Users\\Julian Bolanos\\AppData\\Local\\Programs\\Python\\Python37\\lib\\site-packages\\sklearn\\utils\\validation.py:985: DataConversionWarning: A column-vector y was passed when a 1d array was expected. Please change the shape of y to (n_samples, ), for example using ravel().\n",
      "  y = column_or_1d(y, warn=True)\n",
      "c:\\Users\\Julian Bolanos\\AppData\\Local\\Programs\\Python\\Python37\\lib\\site-packages\\sklearn\\utils\\validation.py:985: DataConversionWarning: A column-vector y was passed when a 1d array was expected. Please change the shape of y to (n_samples, ), for example using ravel().\n",
      "  y = column_or_1d(y, warn=True)\n"
     ]
    },
    {
     "name": "stdout",
     "output_type": "stream",
     "text": [
      "Linear Regression Simple Predicted  4838.213060469476  Original  5927.312053291894\n",
      "Linear Regression Multiple 5345.528377059556  Original  5927.312053291894\n",
      "SVR Linear Simple 4447.818308431136  Original  5927.312053291894\n",
      "SVR Linear Multiple 5340.095584797252  Original  5927.312053291894\n",
      "SGD Simple Regressor 4761.279003069642  Original  5927.312053291894\n",
      "SGD Multi Regressor 5281.611133774107  Original  5927.312053291894\n",
      "Simple Regressor Random forest 4872.733216731949  Original  5927.312053291894\n",
      "Multi Regressor Random Forest 5195.1898777879605  Original  5927.312053291894\n",
      "Decision Tree Simple Regressor  4879.417548027336  Original  5927.312053291894\n",
      "Decision Tree Multi Regressor 5395.660089434411  Original  5927.312053291894\n",
      "Lasso Regression Simple Predicted  4838.484966608467  Original  5927.312053291894\n",
      "Lasso Regression Multiple  5298.344844582724  Original  5927.312053291894\n",
      "BaggingRegressor  Simple Predicted  4786.481625753841  Original  5927.312053291894\n",
      "BaggingRegressor Multiple  5080.872726622414  Original  5927.312053291894\n",
      "AdaBoostRegressor  Simple Predicted  6489.712355555037  Original  5927.312053291894\n",
      "AdaBoostRegressor Multiple  5574.587004776048  Original  5927.312053291894\n"
     ]
    },
    {
     "name": "stderr",
     "output_type": "stream",
     "text": [
      "c:\\Users\\Julian Bolanos\\AppData\\Local\\Programs\\Python\\Python37\\lib\\site-packages\\sklearn\\ensemble\\_bagging.py:429: DataConversionWarning: A column-vector y was passed when a 1d array was expected. Please change the shape of y to (n_samples, ), for example using ravel().\n",
      "  return column_or_1d(y, warn=True)\n",
      "c:\\Users\\Julian Bolanos\\AppData\\Local\\Programs\\Python\\Python37\\lib\\site-packages\\sklearn\\ensemble\\_bagging.py:429: DataConversionWarning: A column-vector y was passed when a 1d array was expected. Please change the shape of y to (n_samples, ), for example using ravel().\n",
      "  return column_or_1d(y, warn=True)\n",
      "c:\\Users\\Julian Bolanos\\AppData\\Local\\Programs\\Python\\Python37\\lib\\site-packages\\sklearn\\utils\\validation.py:985: DataConversionWarning: A column-vector y was passed when a 1d array was expected. Please change the shape of y to (n_samples, ), for example using ravel().\n",
      "  y = column_or_1d(y, warn=True)\n",
      "c:\\Users\\Julian Bolanos\\AppData\\Local\\Programs\\Python\\Python37\\lib\\site-packages\\sklearn\\utils\\validation.py:985: DataConversionWarning: A column-vector y was passed when a 1d array was expected. Please change the shape of y to (n_samples, ), for example using ravel().\n",
      "  y = column_or_1d(y, warn=True)\n"
     ]
    },
    {
     "name": "stdout",
     "output_type": "stream",
     "text": [
      "Linear Regression Simple Predicted  5165.933241141227  Original  5163.622789817723\n",
      "Linear Regression Multiple 4932.8684627359535  Original  5163.622789817723\n",
      "SVR Linear Simple 4810.322217463726  Original  5163.622789817723\n",
      "SVR Linear Multiple 5086.877840878374  Original  5163.622789817723\n",
      "SGD Simple Regressor 5086.721138570726  Original  5163.622789817723\n",
      "SGD Multi Regressor 5461.671119463155  Original  5163.622789817723\n",
      "Simple Regressor Random forest 5013.200454107979  Original  5163.622789817723\n",
      "Multi Regressor Random Forest 5296.811765342731  Original  5163.622789817723\n",
      "Decision Tree Simple Regressor  5063.165781531709  Original  5163.622789817723\n",
      "Decision Tree Multi Regressor 5308.070171587203  Original  5163.622789817723\n",
      "Lasso Regression Simple Predicted  5166.09485321361  Original  5163.622789817723\n",
      "Lasso Regression Multiple  4984.562378447343  Original  5163.622789817723\n",
      "BaggingRegressor  Simple Predicted  5178.280450333324  Original  5163.622789817723\n",
      "BaggingRegressor Multiple  5422.740195968094  Original  5163.622789817723\n",
      "AdaBoostRegressor  Simple Predicted  7028.9589755863  Original  5163.622789817723\n",
      "AdaBoostRegressor Multiple  5621.5340013830155  Original  5163.622789817723\n",
      "Linear Regression Simple Predicted  4995.3803481856885  Original  5573.513755230034\n",
      "Linear Regression Multiple 5523.776171626224  Original  5573.513755230034\n",
      "SVR Linear Simple 4754.002659185615  Original  5573.513755230034\n"
     ]
    },
    {
     "name": "stderr",
     "output_type": "stream",
     "text": [
      "c:\\Users\\Julian Bolanos\\AppData\\Local\\Programs\\Python\\Python37\\lib\\site-packages\\sklearn\\ensemble\\_bagging.py:429: DataConversionWarning: A column-vector y was passed when a 1d array was expected. Please change the shape of y to (n_samples, ), for example using ravel().\n",
      "  return column_or_1d(y, warn=True)\n",
      "c:\\Users\\Julian Bolanos\\AppData\\Local\\Programs\\Python\\Python37\\lib\\site-packages\\sklearn\\ensemble\\_bagging.py:429: DataConversionWarning: A column-vector y was passed when a 1d array was expected. Please change the shape of y to (n_samples, ), for example using ravel().\n",
      "  return column_or_1d(y, warn=True)\n",
      "c:\\Users\\Julian Bolanos\\AppData\\Local\\Programs\\Python\\Python37\\lib\\site-packages\\sklearn\\utils\\validation.py:985: DataConversionWarning: A column-vector y was passed when a 1d array was expected. Please change the shape of y to (n_samples, ), for example using ravel().\n",
      "  y = column_or_1d(y, warn=True)\n",
      "c:\\Users\\Julian Bolanos\\AppData\\Local\\Programs\\Python\\Python37\\lib\\site-packages\\sklearn\\utils\\validation.py:985: DataConversionWarning: A column-vector y was passed when a 1d array was expected. Please change the shape of y to (n_samples, ), for example using ravel().\n",
      "  y = column_or_1d(y, warn=True)\n"
     ]
    },
    {
     "name": "stdout",
     "output_type": "stream",
     "text": [
      "SVR Linear Multiple 5560.277474087006  Original  5573.513755230034\n",
      "SGD Simple Regressor 4904.755064332675  Original  5573.513755230034\n",
      "SGD Multi Regressor 5474.7263341513735  Original  5573.513755230034\n",
      "Simple Regressor Random forest 5139.961292854081  Original  5573.513755230034\n",
      "Multi Regressor Random Forest 5555.223920948192  Original  5573.513755230034\n",
      "Decision Tree Simple Regressor  5299.020502936122  Original  5573.513755230034\n",
      "Decision Tree Multi Regressor 5428.43596943421  Original  5573.513755230034\n",
      "Lasso Regression Simple Predicted  4995.449097683741  Original  5573.513755230034\n",
      "Lasso Regression Multiple  5423.7841697238155  Original  5573.513755230034\n",
      "BaggingRegressor  Simple Predicted  5125.304762061105  Original  5573.513755230034\n",
      "BaggingRegressor Multiple  5470.513496067618  Original  5573.513755230034\n",
      "AdaBoostRegressor  Simple Predicted  6119.902143351105  Original  5573.513755230034\n"
     ]
    },
    {
     "name": "stderr",
     "output_type": "stream",
     "text": [
      "c:\\Users\\Julian Bolanos\\AppData\\Local\\Programs\\Python\\Python37\\lib\\site-packages\\sklearn\\ensemble\\_bagging.py:429: DataConversionWarning: A column-vector y was passed when a 1d array was expected. Please change the shape of y to (n_samples, ), for example using ravel().\n",
      "  return column_or_1d(y, warn=True)\n",
      "c:\\Users\\Julian Bolanos\\AppData\\Local\\Programs\\Python\\Python37\\lib\\site-packages\\sklearn\\ensemble\\_bagging.py:429: DataConversionWarning: A column-vector y was passed when a 1d array was expected. Please change the shape of y to (n_samples, ), for example using ravel().\n",
      "  return column_or_1d(y, warn=True)\n",
      "c:\\Users\\Julian Bolanos\\AppData\\Local\\Programs\\Python\\Python37\\lib\\site-packages\\sklearn\\utils\\validation.py:985: DataConversionWarning: A column-vector y was passed when a 1d array was expected. Please change the shape of y to (n_samples, ), for example using ravel().\n",
      "  y = column_or_1d(y, warn=True)\n",
      "c:\\Users\\Julian Bolanos\\AppData\\Local\\Programs\\Python\\Python37\\lib\\site-packages\\sklearn\\utils\\validation.py:985: DataConversionWarning: A column-vector y was passed when a 1d array was expected. Please change the shape of y to (n_samples, ), for example using ravel().\n",
      "  y = column_or_1d(y, warn=True)\n"
     ]
    },
    {
     "name": "stdout",
     "output_type": "stream",
     "text": [
      "AdaBoostRegressor Multiple  5843.40417566832  Original  5573.513755230034\n",
      "Linear Regression Simple Predicted  5320.519434009635  Original  4759.551232197451\n",
      "Linear Regression Multiple 4689.131689789846  Original  4759.551232197451\n",
      "SVR Linear Simple 4793.83599263412  Original  4759.551232197451\n",
      "SVR Linear Multiple 4819.993242941518  Original  4759.551232197451\n",
      "SGD Simple Regressor 5299.611300209302  Original  4759.551232197451\n",
      "SGD Multi Regressor 5284.606271888135  Original  4759.551232197451\n",
      "Simple Regressor Random forest 5219.386353264033  Original  4759.551232197451\n",
      "Multi Regressor Random Forest 4735.061566639645  Original  4759.551232197451\n",
      "Decision Tree Simple Regressor  5308.988879226868  Original  4759.551232197451\n",
      "Decision Tree Multi Regressor 4993.392017443862  Original  4759.551232197451\n",
      "Lasso Regression Simple Predicted  5320.778619630926  Original  4759.551232197451\n",
      "Lasso Regression Multiple  4710.440102390166  Original  4759.551232197451\n",
      "BaggingRegressor  Simple Predicted  5279.919424528997  Original  4759.551232197451\n",
      "BaggingRegressor Multiple  4710.968836630635  Original  4759.551232197451\n",
      "AdaBoostRegressor  Simple Predicted  6982.479236758626  Original  4759.551232197451\n"
     ]
    },
    {
     "name": "stderr",
     "output_type": "stream",
     "text": [
      "c:\\Users\\Julian Bolanos\\AppData\\Local\\Programs\\Python\\Python37\\lib\\site-packages\\sklearn\\ensemble\\_bagging.py:429: DataConversionWarning: A column-vector y was passed when a 1d array was expected. Please change the shape of y to (n_samples, ), for example using ravel().\n",
      "  return column_or_1d(y, warn=True)\n",
      "c:\\Users\\Julian Bolanos\\AppData\\Local\\Programs\\Python\\Python37\\lib\\site-packages\\sklearn\\ensemble\\_bagging.py:429: DataConversionWarning: A column-vector y was passed when a 1d array was expected. Please change the shape of y to (n_samples, ), for example using ravel().\n",
      "  return column_or_1d(y, warn=True)\n",
      "c:\\Users\\Julian Bolanos\\AppData\\Local\\Programs\\Python\\Python37\\lib\\site-packages\\sklearn\\utils\\validation.py:985: DataConversionWarning: A column-vector y was passed when a 1d array was expected. Please change the shape of y to (n_samples, ), for example using ravel().\n",
      "  y = column_or_1d(y, warn=True)\n",
      "c:\\Users\\Julian Bolanos\\AppData\\Local\\Programs\\Python\\Python37\\lib\\site-packages\\sklearn\\utils\\validation.py:985: DataConversionWarning: A column-vector y was passed when a 1d array was expected. Please change the shape of y to (n_samples, ), for example using ravel().\n",
      "  y = column_or_1d(y, warn=True)\n"
     ]
    },
    {
     "name": "stdout",
     "output_type": "stream",
     "text": [
      "AdaBoostRegressor Multiple  4968.741402683825  Original  4759.551232197451\n",
      "Linear Regression Simple Predicted  5106.810171313597  Original  5238.78735394478\n",
      "Linear Regression Multiple 5085.315273279672  Original  5238.78735394478\n",
      "SVR Linear Simple 4706.739821719084  Original  5238.78735394478\n",
      "SVR Linear Multiple 5071.301237786472  Original  5238.78735394478\n",
      "SGD Simple Regressor 5097.559360392575  Original  5238.78735394478\n",
      "SGD Multi Regressor 5257.835376617707  Original  5238.78735394478\n",
      "Simple Regressor Random forest 4960.195667332585  Original  5238.78735394478\n",
      "Multi Regressor Random Forest 4863.037919338752  Original  5238.78735394478\n",
      "Decision Tree Simple Regressor  5094.108657257681  Original  5238.78735394478\n",
      "Decision Tree Multi Regressor 4781.971206498599  Original  5238.78735394478\n",
      "Lasso Regression Simple Predicted  5107.273837775465  Original  5238.78735394478\n",
      "Lasso Regression Multiple  5032.376060078405  Original  5238.78735394478\n",
      "BaggingRegressor  Simple Predicted  4953.852307433389  Original  5238.78735394478\n",
      "BaggingRegressor Multiple  5019.739466180056  Original  5238.78735394478\n",
      "AdaBoostRegressor  Simple Predicted  6324.728265620724  Original  5238.78735394478\n",
      "AdaBoostRegressor Multiple  5280.565285895505  Original  5238.78735394478\n",
      "Linear Regression Simple Predicted  5235.43063916104  Original  5138.621518063354\n",
      "Linear Regression Multiple 5221.96538677944  Original  5138.621518063354\n",
      "SVR Linear Simple 4832.988041183198  Original  5138.621518063354\n",
      "SVR Linear Multiple 5291.3665757054305  Original  5138.621518063354\n",
      "SGD Simple Regressor 5054.437798767469  Original  5138.621518063354\n",
      "SGD Multi Regressor 5500.734305801874  Original  5138.621518063354\n"
     ]
    },
    {
     "name": "stderr",
     "output_type": "stream",
     "text": [
      "c:\\Users\\Julian Bolanos\\AppData\\Local\\Programs\\Python\\Python37\\lib\\site-packages\\sklearn\\ensemble\\_bagging.py:429: DataConversionWarning: A column-vector y was passed when a 1d array was expected. Please change the shape of y to (n_samples, ), for example using ravel().\n",
      "  return column_or_1d(y, warn=True)\n",
      "c:\\Users\\Julian Bolanos\\AppData\\Local\\Programs\\Python\\Python37\\lib\\site-packages\\sklearn\\ensemble\\_bagging.py:429: DataConversionWarning: A column-vector y was passed when a 1d array was expected. Please change the shape of y to (n_samples, ), for example using ravel().\n",
      "  return column_or_1d(y, warn=True)\n",
      "c:\\Users\\Julian Bolanos\\AppData\\Local\\Programs\\Python\\Python37\\lib\\site-packages\\sklearn\\utils\\validation.py:985: DataConversionWarning: A column-vector y was passed when a 1d array was expected. Please change the shape of y to (n_samples, ), for example using ravel().\n",
      "  y = column_or_1d(y, warn=True)\n",
      "c:\\Users\\Julian Bolanos\\AppData\\Local\\Programs\\Python\\Python37\\lib\\site-packages\\sklearn\\utils\\validation.py:985: DataConversionWarning: A column-vector y was passed when a 1d array was expected. Please change the shape of y to (n_samples, ), for example using ravel().\n",
      "  y = column_or_1d(y, warn=True)\n"
     ]
    },
    {
     "name": "stdout",
     "output_type": "stream",
     "text": [
      "Simple Regressor Random forest 5202.130433412427  Original  5138.621518063354\n",
      "Multi Regressor Random Forest 5338.3911415966595  Original  5138.621518063354\n",
      "Decision Tree Simple Regressor  5239.259675623094  Original  5138.621518063354\n",
      "Decision Tree Multi Regressor 5528.280722160719  Original  5138.621518063354\n",
      "Lasso Regression Simple Predicted  5235.117995050497  Original  5138.621518063354\n",
      "Lasso Regression Multiple  5184.247141841516  Original  5138.621518063354\n",
      "BaggingRegressor  Simple Predicted  5257.544229379078  Original  5138.621518063354\n",
      "BaggingRegressor Multiple  5291.4240199351  Original  5138.621518063354\n",
      "AdaBoostRegressor  Simple Predicted  7691.8698250561365  Original  5138.621518063354\n"
     ]
    },
    {
     "name": "stderr",
     "output_type": "stream",
     "text": [
      "c:\\Users\\Julian Bolanos\\AppData\\Local\\Programs\\Python\\Python37\\lib\\site-packages\\sklearn\\ensemble\\_bagging.py:429: DataConversionWarning: A column-vector y was passed when a 1d array was expected. Please change the shape of y to (n_samples, ), for example using ravel().\n",
      "  return column_or_1d(y, warn=True)\n",
      "c:\\Users\\Julian Bolanos\\AppData\\Local\\Programs\\Python\\Python37\\lib\\site-packages\\sklearn\\ensemble\\_bagging.py:429: DataConversionWarning: A column-vector y was passed when a 1d array was expected. Please change the shape of y to (n_samples, ), for example using ravel().\n",
      "  return column_or_1d(y, warn=True)\n",
      "c:\\Users\\Julian Bolanos\\AppData\\Local\\Programs\\Python\\Python37\\lib\\site-packages\\sklearn\\utils\\validation.py:985: DataConversionWarning: A column-vector y was passed when a 1d array was expected. Please change the shape of y to (n_samples, ), for example using ravel().\n",
      "  y = column_or_1d(y, warn=True)\n",
      "c:\\Users\\Julian Bolanos\\AppData\\Local\\Programs\\Python\\Python37\\lib\\site-packages\\sklearn\\utils\\validation.py:985: DataConversionWarning: A column-vector y was passed when a 1d array was expected. Please change the shape of y to (n_samples, ), for example using ravel().\n",
      "  y = column_or_1d(y, warn=True)\n"
     ]
    },
    {
     "name": "stdout",
     "output_type": "stream",
     "text": [
      "AdaBoostRegressor Multiple  5687.775066779704  Original  5138.621518063354\n",
      "Linear Regression Simple Predicted  5277.247643652644  Original  4923.233026092522\n",
      "Linear Regression Multiple 4880.2318473104  Original  4923.233026092522\n",
      "SVR Linear Simple 4868.463237144088  Original  4923.233026092522\n",
      "SVR Linear Multiple 5071.171853550787  Original  4923.233026092522\n",
      "SGD Simple Regressor 5228.27981580793  Original  4923.233026092522\n",
      "SGD Multi Regressor 5481.399311432649  Original  4923.233026092522\n",
      "Simple Regressor Random forest 5820.105036896659  Original  4923.233026092522\n",
      "Multi Regressor Random Forest 5173.510213569962  Original  4923.233026092522\n",
      "Decision Tree Simple Regressor  5979.822003369715  Original  4923.233026092522\n",
      "Decision Tree Multi Regressor 4916.346034583242  Original  4923.233026092522\n",
      "Lasso Regression Simple Predicted  5277.149758158871  Original  4923.233026092522\n",
      "Lasso Regression Multiple  4895.167151733108  Original  4923.233026092522\n",
      "BaggingRegressor  Simple Predicted  6063.790594939482  Original  4923.233026092522\n",
      "BaggingRegressor Multiple  5184.293361837192  Original  4923.233026092522\n",
      "AdaBoostRegressor  Simple Predicted  7450.447358579453  Original  4923.233026092522\n"
     ]
    },
    {
     "name": "stderr",
     "output_type": "stream",
     "text": [
      "c:\\Users\\Julian Bolanos\\AppData\\Local\\Programs\\Python\\Python37\\lib\\site-packages\\sklearn\\ensemble\\_bagging.py:429: DataConversionWarning: A column-vector y was passed when a 1d array was expected. Please change the shape of y to (n_samples, ), for example using ravel().\n",
      "  return column_or_1d(y, warn=True)\n",
      "c:\\Users\\Julian Bolanos\\AppData\\Local\\Programs\\Python\\Python37\\lib\\site-packages\\sklearn\\ensemble\\_bagging.py:429: DataConversionWarning: A column-vector y was passed when a 1d array was expected. Please change the shape of y to (n_samples, ), for example using ravel().\n",
      "  return column_or_1d(y, warn=True)\n",
      "c:\\Users\\Julian Bolanos\\AppData\\Local\\Programs\\Python\\Python37\\lib\\site-packages\\sklearn\\utils\\validation.py:985: DataConversionWarning: A column-vector y was passed when a 1d array was expected. Please change the shape of y to (n_samples, ), for example using ravel().\n",
      "  y = column_or_1d(y, warn=True)\n",
      "c:\\Users\\Julian Bolanos\\AppData\\Local\\Programs\\Python\\Python37\\lib\\site-packages\\sklearn\\utils\\validation.py:985: DataConversionWarning: A column-vector y was passed when a 1d array was expected. Please change the shape of y to (n_samples, ), for example using ravel().\n",
      "  y = column_or_1d(y, warn=True)\n"
     ]
    },
    {
     "name": "stdout",
     "output_type": "stream",
     "text": [
      "AdaBoostRegressor Multiple  5469.642572732661  Original  4923.233026092522\n",
      "Linear Regression Simple Predicted  5309.9060313652135  Original  4840.408661773146\n",
      "Linear Regression Multiple 5071.281798034948  Original  4840.408661773146\n",
      "SVR Linear Simple 4839.494341779784  Original  4840.408661773146\n",
      "SVR Linear Multiple 5108.827754656156  Original  4840.408661773146\n",
      "SGD Simple Regressor 5274.729868147582  Original  4840.408661773146\n",
      "SGD Multi Regressor 5525.860609322059  Original  4840.408661773146\n",
      "Simple Regressor Random forest 5428.537003581494  Original  4840.408661773146\n",
      "Multi Regressor Random Forest 5251.312390079227  Original  4840.408661773146\n",
      "Decision Tree Simple Regressor  5276.890284760188  Original  4840.408661773146\n",
      "Decision Tree Multi Regressor 5628.373441402883  Original  4840.408661773146\n",
      "Lasso Regression Simple Predicted  5309.966976701384  Original  4840.408661773146\n",
      "Lasso Regression Multiple  5047.053145999933  Original  4840.408661773146\n",
      "BaggingRegressor  Simple Predicted  5436.064576388614  Original  4840.408661773146\n",
      "BaggingRegressor Multiple  5198.890365694844  Original  4840.408661773146\n",
      "AdaBoostRegressor  Simple Predicted  7448.41977827224  Original  4840.408661773146\n",
      "AdaBoostRegressor Multiple  5560.733767674802  Original  4840.408661773146\n",
      "Linear Regression Simple Predicted  5275.135740894958  Original  "
     ]
    },
    {
     "name": "stderr",
     "output_type": "stream",
     "text": [
      "c:\\Users\\Julian Bolanos\\AppData\\Local\\Programs\\Python\\Python37\\lib\\site-packages\\sklearn\\ensemble\\_bagging.py:429: DataConversionWarning: A column-vector y was passed when a 1d array was expected. Please change the shape of y to (n_samples, ), for example using ravel().\n",
      "  return column_or_1d(y, warn=True)\n",
      "c:\\Users\\Julian Bolanos\\AppData\\Local\\Programs\\Python\\Python37\\lib\\site-packages\\sklearn\\ensemble\\_bagging.py:429: DataConversionWarning: A column-vector y was passed when a 1d array was expected. Please change the shape of y to (n_samples, ), for example using ravel().\n",
      "  return column_or_1d(y, warn=True)\n",
      "c:\\Users\\Julian Bolanos\\AppData\\Local\\Programs\\Python\\Python37\\lib\\site-packages\\sklearn\\utils\\validation.py:985: DataConversionWarning: A column-vector y was passed when a 1d array was expected. Please change the shape of y to (n_samples, ), for example using ravel().\n",
      "  y = column_or_1d(y, warn=True)\n",
      "c:\\Users\\Julian Bolanos\\AppData\\Local\\Programs\\Python\\Python37\\lib\\site-packages\\sklearn\\utils\\validation.py:985: DataConversionWarning: A column-vector y was passed when a 1d array was expected. Please change the shape of y to (n_samples, ), for example using ravel().\n",
      "  y = column_or_1d(y, warn=True)\n"
     ]
    },
    {
     "name": "stdout",
     "output_type": "stream",
     "text": [
      "4919.3112045101425\n",
      "Linear Regression Multiple 5373.237492116792  Original  4919.3112045101425\n",
      "SVR Linear Simple 4922.524529801822  Original  4919.3112045101425\n",
      "SVR Linear Multiple 5407.563955788401  Original  4919.3112045101425\n",
      "SGD Simple Regressor 5204.437692051847  Original  4919.3112045101425\n",
      "SGD Multi Regressor 5495.941398263697  Original  4919.3112045101425\n",
      "Simple Regressor Random forest 5385.169965772354  Original  4919.3112045101425\n",
      "Multi Regressor Random Forest 5272.195019292752  Original  4919.3112045101425\n",
      "Decision Tree Simple Regressor  5312.4379159796745  Original  4919.3112045101425\n",
      "Decision Tree Multi Regressor 5195.056425355498  Original  4919.3112045101425\n",
      "Lasso Regression Simple Predicted  5275.17833913343  Original  4919.3112045101425\n",
      "Lasso Regression Multiple  5293.21204466142  Original  4919.3112045101425\n",
      "BaggingRegressor  Simple Predicted  5332.216272439997  Original  4919.3112045101425\n",
      "BaggingRegressor Multiple  5291.894115886875  Original  4919.3112045101425\n",
      "AdaBoostRegressor  Simple Predicted  7196.789662277415  Original  4919.3112045101425\n"
     ]
    },
    {
     "name": "stderr",
     "output_type": "stream",
     "text": [
      "c:\\Users\\Julian Bolanos\\AppData\\Local\\Programs\\Python\\Python37\\lib\\site-packages\\sklearn\\ensemble\\_bagging.py:429: DataConversionWarning: A column-vector y was passed when a 1d array was expected. Please change the shape of y to (n_samples, ), for example using ravel().\n",
      "  return column_or_1d(y, warn=True)\n",
      "c:\\Users\\Julian Bolanos\\AppData\\Local\\Programs\\Python\\Python37\\lib\\site-packages\\sklearn\\ensemble\\_bagging.py:429: DataConversionWarning: A column-vector y was passed when a 1d array was expected. Please change the shape of y to (n_samples, ), for example using ravel().\n",
      "  return column_or_1d(y, warn=True)\n",
      "c:\\Users\\Julian Bolanos\\AppData\\Local\\Programs\\Python\\Python37\\lib\\site-packages\\sklearn\\utils\\validation.py:985: DataConversionWarning: A column-vector y was passed when a 1d array was expected. Please change the shape of y to (n_samples, ), for example using ravel().\n",
      "  y = column_or_1d(y, warn=True)\n",
      "c:\\Users\\Julian Bolanos\\AppData\\Local\\Programs\\Python\\Python37\\lib\\site-packages\\sklearn\\utils\\validation.py:985: DataConversionWarning: A column-vector y was passed when a 1d array was expected. Please change the shape of y to (n_samples, ), for example using ravel().\n",
      "  y = column_or_1d(y, warn=True)\n"
     ]
    },
    {
     "name": "stdout",
     "output_type": "stream",
     "text": [
      "AdaBoostRegressor Multiple  5570.509673808491  Original  4919.3112045101425\n",
      "Linear Regression Simple Predicted  5091.375395375236  Original  5373.645704346337\n",
      "Linear Regression Multiple 5346.897761007114  Original  5373.645704346337\n",
      "SVR Linear Simple 4717.83459971632  Original  5373.645704346337\n",
      "SVR Linear Multiple 5412.242590598362  Original  5373.645704346337\n",
      "SGD Simple Regressor 4963.480049614306  Original  5373.645704346337\n",
      "SGD Multi Regressor 5527.568656275332  Original  5373.645704346337\n",
      "Simple Regressor Random forest 4894.423343127064  Original  5373.645704346337\n",
      "Multi Regressor Random Forest 5378.802963561951  Original  5373.645704346337\n",
      "Decision Tree Simple Regressor  4814.341061710984  Original  5373.645704346337\n",
      "Decision Tree Multi Regressor 5737.551449480481  Original  5373.645704346337\n",
      "Lasso Regression Simple Predicted  5091.198522677288  Original  5373.645704346337\n",
      "Lasso Regression Multiple  5383.724331067943  Original  5373.645704346337\n",
      "BaggingRegressor  Simple Predicted  4938.836278886454  Original  5373.645704346337\n",
      "BaggingRegressor Multiple  5304.133252974615  Original  5373.645704346337\n",
      "AdaBoostRegressor  Simple Predicted  6485.741765237045  Original  5373.645704346337\n",
      "AdaBoostRegressor Multiple  5920.854628422027  Original  5373.645704346337\n"
     ]
    },
    {
     "name": "stderr",
     "output_type": "stream",
     "text": [
      "c:\\Users\\Julian Bolanos\\AppData\\Local\\Programs\\Python\\Python37\\lib\\site-packages\\sklearn\\ensemble\\_bagging.py:429: DataConversionWarning: A column-vector y was passed when a 1d array was expected. Please change the shape of y to (n_samples, ), for example using ravel().\n",
      "  return column_or_1d(y, warn=True)\n",
      "c:\\Users\\Julian Bolanos\\AppData\\Local\\Programs\\Python\\Python37\\lib\\site-packages\\sklearn\\ensemble\\_bagging.py:429: DataConversionWarning: A column-vector y was passed when a 1d array was expected. Please change the shape of y to (n_samples, ), for example using ravel().\n",
      "  return column_or_1d(y, warn=True)\n",
      "c:\\Users\\Julian Bolanos\\AppData\\Local\\Programs\\Python\\Python37\\lib\\site-packages\\sklearn\\utils\\validation.py:985: DataConversionWarning: A column-vector y was passed when a 1d array was expected. Please change the shape of y to (n_samples, ), for example using ravel().\n",
      "  y = column_or_1d(y, warn=True)\n",
      "c:\\Users\\Julian Bolanos\\AppData\\Local\\Programs\\Python\\Python37\\lib\\site-packages\\sklearn\\utils\\validation.py:985: DataConversionWarning: A column-vector y was passed when a 1d array was expected. Please change the shape of y to (n_samples, ), for example using ravel().\n",
      "  y = column_or_1d(y, warn=True)\n"
     ]
    },
    {
     "name": "stdout",
     "output_type": "stream",
     "text": [
      "Linear Regression Simple Predicted  5132.459740972901  Original  5272.39155503378\n",
      "Linear Regression Multiple 5335.877344742571  Original  5272.39155503378\n",
      "SVR Linear Simple 4663.793695630602  Original  5272.39155503378\n",
      "SVR Linear Multiple 5258.91356047138  Original  5272.39155503378\n",
      "SGD Simple Regressor 5004.424888655422  Original  5272.39155503378\n",
      "SGD Multi Regressor 5556.143173876031  Original  5272.39155503378\n",
      "Simple Regressor Random forest 5372.714760244272  Original  5272.39155503378\n",
      "Multi Regressor Random Forest 5622.554775624098  Original  5272.39155503378\n",
      "Decision Tree Simple Regressor  5451.842743567836  Original  5272.39155503378\n",
      "Decision Tree Multi Regressor 5523.475817737211  Original  5272.39155503378\n",
      "Lasso Regression Simple Predicted  5132.393486197198  Original  5272.39155503378\n",
      "Lasso Regression Multiple  5283.417850852079  Original  5272.39155503378\n",
      "BaggingRegressor  Simple Predicted  5448.035179017655  Original  5272.39155503378\n",
      "BaggingRegressor Multiple  5655.9582258134715  Original  5272.39155503378\n",
      "AdaBoostRegressor  Simple Predicted  7218.146354926008  Original  5272.39155503378\n",
      "AdaBoostRegressor Multiple  5967.90689109068  Original  5272.39155503378\n"
     ]
    },
    {
     "name": "stderr",
     "output_type": "stream",
     "text": [
      "c:\\Users\\Julian Bolanos\\AppData\\Local\\Programs\\Python\\Python37\\lib\\site-packages\\sklearn\\ensemble\\_bagging.py:429: DataConversionWarning: A column-vector y was passed when a 1d array was expected. Please change the shape of y to (n_samples, ), for example using ravel().\n",
      "  return column_or_1d(y, warn=True)\n",
      "c:\\Users\\Julian Bolanos\\AppData\\Local\\Programs\\Python\\Python37\\lib\\site-packages\\sklearn\\ensemble\\_bagging.py:429: DataConversionWarning: A column-vector y was passed when a 1d array was expected. Please change the shape of y to (n_samples, ), for example using ravel().\n",
      "  return column_or_1d(y, warn=True)\n",
      "c:\\Users\\Julian Bolanos\\AppData\\Local\\Programs\\Python\\Python37\\lib\\site-packages\\sklearn\\utils\\validation.py:985: DataConversionWarning: A column-vector y was passed when a 1d array was expected. Please change the shape of y to (n_samples, ), for example using ravel().\n",
      "  y = column_or_1d(y, warn=True)\n",
      "c:\\Users\\Julian Bolanos\\AppData\\Local\\Programs\\Python\\Python37\\lib\\site-packages\\sklearn\\utils\\validation.py:985: DataConversionWarning: A column-vector y was passed when a 1d array was expected. Please change the shape of y to (n_samples, ), for example using ravel().\n",
      "  y = column_or_1d(y, warn=True)\n"
     ]
    },
    {
     "name": "stdout",
     "output_type": "stream",
     "text": [
      "Linear Regression Simple Predicted  5217.308740225232  Original  5060.417703670204\n",
      "Linear Regression Multiple 5049.2585923543975  Original  5060.417703670204\n",
      "SVR Linear Simple 4891.611355616701  Original  5060.417703670204\n",
      "SVR Linear Multiple 5203.864869766008  Original  5060.417703670204\n",
      "SGD Simple Regressor 5096.760055929348  Original  5060.417703670204\n",
      "SGD Multi Regressor 5476.533497711075  Original  5060.417703670204\n",
      "Simple Regressor Random forest 5179.708571267599  Original  5060.417703670204\n",
      "Multi Regressor Random Forest 5266.7868462679635  Original  5060.417703670204\n",
      "Decision Tree Simple Regressor  5195.696813942653  Original  5060.417703670204\n",
      "Decision Tree Multi Regressor 5074.872833945973  Original  5060.417703670204\n",
      "Lasso Regression Simple Predicted  5217.194966783144  Original  5060.417703670204\n",
      "Lasso Regression Multiple  5220.86902413965  Original  5060.417703670204\n",
      "BaggingRegressor  Simple Predicted  5077.235628963467  Original  5060.417703670204\n",
      "BaggingRegressor Multiple  5268.887121519399  Original  5060.417703670204\n",
      "AdaBoostRegressor  Simple Predicted  6778.931648799978  Original  5060.417703670204\n",
      "AdaBoostRegressor Multiple  5399.943814626497  Original  5060.417703670204\n"
     ]
    },
    {
     "name": "stderr",
     "output_type": "stream",
     "text": [
      "c:\\Users\\Julian Bolanos\\AppData\\Local\\Programs\\Python\\Python37\\lib\\site-packages\\sklearn\\ensemble\\_bagging.py:429: DataConversionWarning: A column-vector y was passed when a 1d array was expected. Please change the shape of y to (n_samples, ), for example using ravel().\n",
      "  return column_or_1d(y, warn=True)\n",
      "c:\\Users\\Julian Bolanos\\AppData\\Local\\Programs\\Python\\Python37\\lib\\site-packages\\sklearn\\ensemble\\_bagging.py:429: DataConversionWarning: A column-vector y was passed when a 1d array was expected. Please change the shape of y to (n_samples, ), for example using ravel().\n",
      "  return column_or_1d(y, warn=True)\n",
      "c:\\Users\\Julian Bolanos\\AppData\\Local\\Programs\\Python\\Python37\\lib\\site-packages\\sklearn\\utils\\validation.py:985: DataConversionWarning: A column-vector y was passed when a 1d array was expected. Please change the shape of y to (n_samples, ), for example using ravel().\n",
      "  y = column_or_1d(y, warn=True)\n",
      "c:\\Users\\Julian Bolanos\\AppData\\Local\\Programs\\Python\\Python37\\lib\\site-packages\\sklearn\\utils\\validation.py:985: DataConversionWarning: A column-vector y was passed when a 1d array was expected. Please change the shape of y to (n_samples, ), for example using ravel().\n",
      "  y = column_or_1d(y, warn=True)\n"
     ]
    },
    {
     "name": "stdout",
     "output_type": "stream",
     "text": [
      "Linear Regression Simple Predicted  5289.032905048085  Original  4894.824282039932\n",
      "Linear Regression Multiple 5195.839738431626  Original  4894.824282039932\n",
      "SVR Linear Simple 4858.2513534790505  Original  4894.824282039932\n",
      "SVR Linear Multiple 5169.007157337984  Original  4894.824282039932\n",
      "SGD Simple Regressor 5219.858326853681  Original  4894.824282039932\n",
      "SGD Multi Regressor 5467.276210676137  Original  4894.824282039932\n",
      "Simple Regressor Random forest 5038.275274905119  Original  4894.824282039932\n",
      "Multi Regressor Random Forest 5269.805342143934  Original  4894.824282039932\n",
      "Decision Tree Simple Regressor  4891.514977682964  Original  4894.824282039932\n",
      "Decision Tree Multi Regressor 5218.41661692425  Original  4894.824282039932\n",
      "Lasso Regression Simple Predicted  5289.00491380608  Original  4894.824282039932\n",
      "Lasso Regression Multiple  5103.554162343373  Original  4894.824282039932\n",
      "BaggingRegressor  Simple Predicted  5082.092532586256  Original  4894.824282039932\n",
      "BaggingRegressor Multiple  5364.689474797217  Original  4894.824282039932\n",
      "AdaBoostRegressor  Simple Predicted  7070.742493748794  Original  4894.824282039932\n"
     ]
    },
    {
     "name": "stderr",
     "output_type": "stream",
     "text": [
      "c:\\Users\\Julian Bolanos\\AppData\\Local\\Programs\\Python\\Python37\\lib\\site-packages\\sklearn\\ensemble\\_bagging.py:429: DataConversionWarning: A column-vector y was passed when a 1d array was expected. Please change the shape of y to (n_samples, ), for example using ravel().\n",
      "  return column_or_1d(y, warn=True)\n",
      "c:\\Users\\Julian Bolanos\\AppData\\Local\\Programs\\Python\\Python37\\lib\\site-packages\\sklearn\\ensemble\\_bagging.py:429: DataConversionWarning: A column-vector y was passed when a 1d array was expected. Please change the shape of y to (n_samples, ), for example using ravel().\n",
      "  return column_or_1d(y, warn=True)\n",
      "c:\\Users\\Julian Bolanos\\AppData\\Local\\Programs\\Python\\Python37\\lib\\site-packages\\sklearn\\utils\\validation.py:985: DataConversionWarning: A column-vector y was passed when a 1d array was expected. Please change the shape of y to (n_samples, ), for example using ravel().\n",
      "  y = column_or_1d(y, warn=True)\n",
      "c:\\Users\\Julian Bolanos\\AppData\\Local\\Programs\\Python\\Python37\\lib\\site-packages\\sklearn\\utils\\validation.py:985: DataConversionWarning: A column-vector y was passed when a 1d array was expected. Please change the shape of y to (n_samples, ), for example using ravel().\n",
      "  y = column_or_1d(y, warn=True)\n"
     ]
    },
    {
     "name": "stdout",
     "output_type": "stream",
     "text": [
      "AdaBoostRegressor Multiple  5546.752659014675  Original  4894.824282039932\n",
      "Linear Regression Simple Predicted  5142.578133834262  Original  5251.453895719113\n",
      "Linear Regression Multiple 5218.916827486905  Original  5251.453895719113\n",
      "SVR Linear Simple 4604.143474404383  Original  5251.453895719113\n",
      "SVR Linear Multiple 5290.1592364591215  Original  5251.453895719113\n",
      "SGD Simple Regressor 5004.6547918441665  Original  5251.453895719113\n",
      "SGD Multi Regressor 5264.085406700618  Original  5251.453895719113\n",
      "Simple Regressor Random forest 5265.979808323056  Original  5251.453895719113\n",
      "Multi Regressor Random Forest 5144.793433361326  Original  5251.453895719113\n",
      "Decision Tree Simple Regressor  5299.915387854292  Original  5251.453895719113\n",
      "Decision Tree Multi Regressor 5118.297885359804  Original  5251.453895719113\n",
      "Lasso Regression Simple Predicted  5142.509658191432  Original  5251.453895719113\n",
      "Lasso Regression Multiple  5179.827573190546  Original  5251.453895719113\n",
      "BaggingRegressor  Simple Predicted  5280.236616704569  Original  5251.453895719113\n",
      "BaggingRegressor Multiple  5199.2154477343765  Original  5251.453895719113\n",
      "AdaBoostRegressor  Simple Predicted  7727.110625989143  Original  5251.453895719113\n"
     ]
    },
    {
     "name": "stderr",
     "output_type": "stream",
     "text": [
      "c:\\Users\\Julian Bolanos\\AppData\\Local\\Programs\\Python\\Python37\\lib\\site-packages\\sklearn\\ensemble\\_bagging.py:429: DataConversionWarning: A column-vector y was passed when a 1d array was expected. Please change the shape of y to (n_samples, ), for example using ravel().\n",
      "  return column_or_1d(y, warn=True)\n",
      "c:\\Users\\Julian Bolanos\\AppData\\Local\\Programs\\Python\\Python37\\lib\\site-packages\\sklearn\\ensemble\\_bagging.py:429: DataConversionWarning: A column-vector y was passed when a 1d array was expected. Please change the shape of y to (n_samples, ), for example using ravel().\n",
      "  return column_or_1d(y, warn=True)\n",
      "c:\\Users\\Julian Bolanos\\AppData\\Local\\Programs\\Python\\Python37\\lib\\site-packages\\sklearn\\utils\\validation.py:985: DataConversionWarning: A column-vector y was passed when a 1d array was expected. Please change the shape of y to (n_samples, ), for example using ravel().\n",
      "  y = column_or_1d(y, warn=True)\n",
      "c:\\Users\\Julian Bolanos\\AppData\\Local\\Programs\\Python\\Python37\\lib\\site-packages\\sklearn\\utils\\validation.py:985: DataConversionWarning: A column-vector y was passed when a 1d array was expected. Please change the shape of y to (n_samples, ), for example using ravel().\n",
      "  y = column_or_1d(y, warn=True)\n"
     ]
    },
    {
     "name": "stdout",
     "output_type": "stream",
     "text": [
      "AdaBoostRegressor Multiple  5581.6616705528695  Original  5251.453895719113\n",
      "Linear Regression Simple Predicted  5032.316503763147  Original  5498.390123204902\n",
      "Linear Regression Multiple 4898.134593813206  Original  5498.390123204902\n",
      "SVR Linear Simple 4780.047585840227  Original  5498.390123204902\n",
      "SVR Linear Multiple 4913.861421124292  Original  5498.390123204902\n",
      "SGD Simple Regressor 4961.379643521909  Original  5498.390123204902\n",
      "SGD Multi Regressor 5170.857801937784  Original  5498.390123204902\n",
      "Simple Regressor Random forest 5245.001341511097  Original  5498.390123204902\n",
      "Multi Regressor Random Forest 5043.994490142972  Original  5498.390123204902\n",
      "Decision Tree Simple Regressor  5169.582356411364  Original  5498.390123204902\n",
      "Decision Tree Multi Regressor 5315.73237469707  Original  5498.390123204902\n",
      "Lasso Regression Simple Predicted  5032.254673265309  Original  5498.390123204902\n",
      "Lasso Regression Multiple  4806.056552273433  Original  5498.390123204902\n",
      "BaggingRegressor  Simple Predicted  5279.710364259997  Original  5498.390123204902\n",
      "BaggingRegressor Multiple  5002.227886637591  Original  5498.390123204902\n",
      "AdaBoostRegressor  Simple Predicted  5936.792362694441  Original  5498.390123204902\n",
      "AdaBoostRegressor Multiple  5216.020865510632  Original  5498.390123204902\n",
      "Linear Regression Simple Predicted  5127.290615876168  Original  5308.678763773552\n",
      "Linear Regression Multiple 5503.12665902213  Original  5308.678763773552\n",
      "SVR Linear Simple 4718.5424002411  Original  5308.678763773552\n",
      "SVR Linear Multiple 5524.381687431768  Original  5308.678763773552\n",
      "SGD Simple Regressor 5040.1015707763645  Original  5308.678763773552\n",
      "SGD Multi Regressor 5466.7158623631385  Original  5308.678763773552\n"
     ]
    },
    {
     "name": "stderr",
     "output_type": "stream",
     "text": [
      "c:\\Users\\Julian Bolanos\\AppData\\Local\\Programs\\Python\\Python37\\lib\\site-packages\\sklearn\\ensemble\\_bagging.py:429: DataConversionWarning: A column-vector y was passed when a 1d array was expected. Please change the shape of y to (n_samples, ), for example using ravel().\n",
      "  return column_or_1d(y, warn=True)\n",
      "c:\\Users\\Julian Bolanos\\AppData\\Local\\Programs\\Python\\Python37\\lib\\site-packages\\sklearn\\ensemble\\_bagging.py:429: DataConversionWarning: A column-vector y was passed when a 1d array was expected. Please change the shape of y to (n_samples, ), for example using ravel().\n",
      "  return column_or_1d(y, warn=True)\n",
      "c:\\Users\\Julian Bolanos\\AppData\\Local\\Programs\\Python\\Python37\\lib\\site-packages\\sklearn\\utils\\validation.py:985: DataConversionWarning: A column-vector y was passed when a 1d array was expected. Please change the shape of y to (n_samples, ), for example using ravel().\n",
      "  y = column_or_1d(y, warn=True)\n",
      "c:\\Users\\Julian Bolanos\\AppData\\Local\\Programs\\Python\\Python37\\lib\\site-packages\\sklearn\\utils\\validation.py:985: DataConversionWarning: A column-vector y was passed when a 1d array was expected. Please change the shape of y to (n_samples, ), for example using ravel().\n",
      "  y = column_or_1d(y, warn=True)\n"
     ]
    },
    {
     "name": "stdout",
     "output_type": "stream",
     "text": [
      "Simple Regressor Random forest 4810.942025422541  Original  5308.678763773552\n",
      "Multi Regressor Random Forest 5679.780596730461  Original  5308.678763773552\n",
      "Decision Tree Simple Regressor  4927.524662707817  Original  5308.678763773552\n",
      "Decision Tree Multi Regressor 5571.119872547106  Original  5308.678763773552\n",
      "Lasso Regression Simple Predicted  5127.108145862874  Original  5308.678763773552\n",
      "Lasso Regression Multiple  5511.707265256734  Original  5308.678763773552\n",
      "BaggingRegressor  Simple Predicted  5012.957750207453  Original  5308.678763773552\n",
      "BaggingRegressor Multiple  5618.680593438317  Original  5308.678763773552\n",
      "AdaBoostRegressor  Simple Predicted  6636.544140468774  Original  5308.678763773552\n"
     ]
    },
    {
     "name": "stderr",
     "output_type": "stream",
     "text": [
      "c:\\Users\\Julian Bolanos\\AppData\\Local\\Programs\\Python\\Python37\\lib\\site-packages\\sklearn\\ensemble\\_bagging.py:429: DataConversionWarning: A column-vector y was passed when a 1d array was expected. Please change the shape of y to (n_samples, ), for example using ravel().\n",
      "  return column_or_1d(y, warn=True)\n",
      "c:\\Users\\Julian Bolanos\\AppData\\Local\\Programs\\Python\\Python37\\lib\\site-packages\\sklearn\\ensemble\\_bagging.py:429: DataConversionWarning: A column-vector y was passed when a 1d array was expected. Please change the shape of y to (n_samples, ), for example using ravel().\n",
      "  return column_or_1d(y, warn=True)\n",
      "c:\\Users\\Julian Bolanos\\AppData\\Local\\Programs\\Python\\Python37\\lib\\site-packages\\sklearn\\utils\\validation.py:985: DataConversionWarning: A column-vector y was passed when a 1d array was expected. Please change the shape of y to (n_samples, ), for example using ravel().\n",
      "  y = column_or_1d(y, warn=True)\n",
      "c:\\Users\\Julian Bolanos\\AppData\\Local\\Programs\\Python\\Python37\\lib\\site-packages\\sklearn\\utils\\validation.py:985: DataConversionWarning: A column-vector y was passed when a 1d array was expected. Please change the shape of y to (n_samples, ), for example using ravel().\n",
      "  y = column_or_1d(y, warn=True)\n"
     ]
    },
    {
     "name": "stdout",
     "output_type": "stream",
     "text": [
      "AdaBoostRegressor Multiple  5656.559919731511  Original  5308.678763773552\n",
      "Linear Regression Simple Predicted  5122.635817957018  Original  5176.988410543977\n",
      "Linear Regression Multiple 5227.605022797477  Original  5176.988410543977\n",
      "SVR Linear Simple 4703.593512208163  Original  5176.988410543977\n",
      "SVR Linear Multiple 5159.185407218164  Original  5176.988410543977\n",
      "SGD Simple Regressor 5060.20779955212  Original  5176.988410543977\n",
      "SGD Multi Regressor 5424.0758885453315  Original  5176.988410543977\n",
      "Simple Regressor Random forest 5087.686730738926  Original  5176.988410543977\n",
      "Multi Regressor Random Forest 5198.313866303311  Original  5176.988410543977\n",
      "Decision Tree Simple Regressor  5017.525310844448  Original  5176.988410543977\n",
      "Decision Tree Multi Regressor 5000.675866621362  Original  5176.988410543977\n",
      "Lasso Regression Simple Predicted  5122.833305071064  Original  5176.988410543977\n",
      "Lasso Regression Multiple  5207.830915587743  Original  5176.988410543977\n",
      "BaggingRegressor  Simple Predicted  5030.469640359648  Original  5176.988410543977\n",
      "BaggingRegressor Multiple  5251.799766990587  Original  5176.988410543977\n",
      "AdaBoostRegressor  Simple Predicted  6814.879426493212  Original  5176.988410543977\n",
      "AdaBoostRegressor Multiple  5584.248921071439  Original  5176.988410543977\n"
     ]
    },
    {
     "name": "stderr",
     "output_type": "stream",
     "text": [
      "c:\\Users\\Julian Bolanos\\AppData\\Local\\Programs\\Python\\Python37\\lib\\site-packages\\sklearn\\ensemble\\_bagging.py:429: DataConversionWarning: A column-vector y was passed when a 1d array was expected. Please change the shape of y to (n_samples, ), for example using ravel().\n",
      "  return column_or_1d(y, warn=True)\n",
      "c:\\Users\\Julian Bolanos\\AppData\\Local\\Programs\\Python\\Python37\\lib\\site-packages\\sklearn\\ensemble\\_bagging.py:429: DataConversionWarning: A column-vector y was passed when a 1d array was expected. Please change the shape of y to (n_samples, ), for example using ravel().\n",
      "  return column_or_1d(y, warn=True)\n",
      "c:\\Users\\Julian Bolanos\\AppData\\Local\\Programs\\Python\\Python37\\lib\\site-packages\\sklearn\\utils\\validation.py:985: DataConversionWarning: A column-vector y was passed when a 1d array was expected. Please change the shape of y to (n_samples, ), for example using ravel().\n",
      "  y = column_or_1d(y, warn=True)\n",
      "c:\\Users\\Julian Bolanos\\AppData\\Local\\Programs\\Python\\Python37\\lib\\site-packages\\sklearn\\utils\\validation.py:985: DataConversionWarning: A column-vector y was passed when a 1d array was expected. Please change the shape of y to (n_samples, ), for example using ravel().\n",
      "  y = column_or_1d(y, warn=True)\n"
     ]
    },
    {
     "name": "stdout",
     "output_type": "stream",
     "text": [
      "Linear Regression Simple Predicted  5077.063022346071  Original  5557.08233517089\n",
      "Linear Regression Multiple 5204.345000770889  Original  5557.08233517089\n",
      "SVR Linear Simple 4569.956957844677  Original  5557.08233517089\n",
      "SVR Linear Multiple 5292.920874879915  Original  5557.08233517089\n",
      "SGD Simple Regressor 4973.902633586796  Original  5557.08233517089\n",
      "SGD Multi Regressor 5315.108654364904  Original  5557.08233517089\n",
      "Simple Regressor Random forest 4801.135023741249  Original  5557.08233517089\n",
      "Multi Regressor Random Forest 5291.350968025233  Original  5557.08233517089\n",
      "Decision Tree Simple Regressor  4687.037850093223  Original  5557.08233517089\n",
      "Decision Tree Multi Regressor 5268.208705457704  Original  5557.08233517089\n",
      "Lasso Regression Simple Predicted  5076.657206584978  Original  5557.08233517089\n",
      "Lasso Regression Multiple  5277.470642411426  Original  5557.08233517089\n",
      "BaggingRegressor  Simple Predicted  5050.232530813587  Original  5557.08233517089\n",
      "BaggingRegressor Multiple  5217.151349394204  Original  5557.08233517089\n",
      "AdaBoostRegressor  Simple Predicted  6642.569457515645  Original  5557.08233517089\n"
     ]
    },
    {
     "name": "stderr",
     "output_type": "stream",
     "text": [
      "c:\\Users\\Julian Bolanos\\AppData\\Local\\Programs\\Python\\Python37\\lib\\site-packages\\sklearn\\ensemble\\_bagging.py:429: DataConversionWarning: A column-vector y was passed when a 1d array was expected. Please change the shape of y to (n_samples, ), for example using ravel().\n",
      "  return column_or_1d(y, warn=True)\n",
      "c:\\Users\\Julian Bolanos\\AppData\\Local\\Programs\\Python\\Python37\\lib\\site-packages\\sklearn\\ensemble\\_bagging.py:429: DataConversionWarning: A column-vector y was passed when a 1d array was expected. Please change the shape of y to (n_samples, ), for example using ravel().\n",
      "  return column_or_1d(y, warn=True)\n",
      "c:\\Users\\Julian Bolanos\\AppData\\Local\\Programs\\Python\\Python37\\lib\\site-packages\\sklearn\\utils\\validation.py:985: DataConversionWarning: A column-vector y was passed when a 1d array was expected. Please change the shape of y to (n_samples, ), for example using ravel().\n",
      "  y = column_or_1d(y, warn=True)\n",
      "c:\\Users\\Julian Bolanos\\AppData\\Local\\Programs\\Python\\Python37\\lib\\site-packages\\sklearn\\utils\\validation.py:985: DataConversionWarning: A column-vector y was passed when a 1d array was expected. Please change the shape of y to (n_samples, ), for example using ravel().\n",
      "  y = column_or_1d(y, warn=True)\n"
     ]
    },
    {
     "name": "stdout",
     "output_type": "stream",
     "text": [
      "AdaBoostRegressor Multiple  5863.9933906301685  Original  5557.08233517089\n",
      "Yield  5144.88527101333\n",
      "linearSimple  5180.0887003192\n",
      "linearMultiple  5148.900774921188\n",
      "svrSimple  4774.1017035951945\n",
      "svrMultiple  5227.536733166024\n",
      "sdgSimple  5096.078250266326\n",
      "sdgMultiple  5427.031226267107\n",
      "randomForestSimple  5174.843803829754\n",
      "randomForestMultiple  5208.545385923118\n",
      "decisionTreeSimple  5179.032798607583\n",
      "decisionTreeMultiple  5226.57872555331\n",
      "lassoSimple  5180.085488836366\n",
      "lassoMultiple  5149.127987345993\n",
      "baggingSimple  5196.410807201045\n",
      "baggingMultiple  5200.674582959745\n",
      "addaBostSimple  7099.939505798282\n",
      "addaBostMultiple  5625.4639544527\n"
     ]
    }
   ],
   "source": [
    "from pickle import FALSE\n",
    "from sklearn.ensemble import RandomForestRegressor\n",
    "from sklearn import ensemble\n",
    "from sklearn import tree\n",
    "from sklearn.model_selection import cross_val_score\n",
    "from sklearn.preprocessing import MinMaxScaler, StandardScaler\n",
    "from sklearn.linear_model import LinearRegression\n",
    "from sklearn.svm import SVR\n",
    "from sklearn import linear_model\n",
    "from sklearn.isotonic import IsotonicRegression\n",
    "\n",
    "cantCv=4\n",
    "scoreDef = \"r2\" \n",
    "#scoreDef=\"accuracy\"\n",
    "#scoreDef = \"explained_variance\"\n",
    "#scoreDef=\"neg_mean_absolute_error\"\n",
    "dfsX=dframeFinal.loc[:,[\"volImage\"]]\n",
    "dframeFinal.head()\n",
    "X_volumenNoScaled= dfsX.values\n",
    "y_multiple = dframeFinal.yields.values\n",
    "sc_XMulti = MinMaxScaler()\n",
    "sc_X = MinMaxScaler()\n",
    "sc_y = MinMaxScaler()\n",
    "\n",
    "sc_X.fit_transform(X_volumenNoScaled)\n",
    "yieldNoScaled=dframeFinal.yields.values.reshape(-1, 1)\n",
    "\n",
    "\n",
    "from sklearn.model_selection import train_test_split\n",
    "\n",
    "\n",
    "dfsX=dframeFinal.loc[:,[\"volImage\",\"criMax\",\"ndviMean\",\"maxBlue\",\"IAF_AREA\",\"maxGreen\",\"saviMax\",\"tviMax\",\"ndviMax\",\"maxHistBluVal\"]]\n",
    "X_multipleNoScaled= dfsX.values\n",
    "sc_XMulti.fit_transform(X_multipleNoScaled)\n",
    "sc_y.fit_transform(yieldNoScaled)\n",
    "\n",
    "valuesYeld=[]\n",
    "linearSimple=[]\n",
    "linearMultiple=[]\n",
    "svrSimple=[]\n",
    "svrMultiple=[]\n",
    "sdgSimple=[]\n",
    "sdgMultiple=[]\n",
    "randomForestSimple=[]\n",
    "randomForestMultiple=[]\n",
    "decisionTreeSimple=[]\n",
    "decisionTreeMultiple=[]\n",
    "lassoSimple=[]\n",
    "lassoMultiple=[]\n",
    "baggingSimple=[]\n",
    "baggingMultiple=[]\n",
    "addaBostSimple=[]\n",
    "addaBostMultiple=[]\n",
    "for x in range(50):\n",
    "    X_volumenNoScaledTrain, X_volumenNoScaledTest, yieldNoScaledTrain, yieldNoScaledTest = train_test_split(X_volumenNoScaled ,yieldNoScaled,test_size=0.3,shuffle=True)\n",
    "    X_multipleNoScaledTrain, X_multipleNoScaledTest, yieldNoScaledTrain, yieldNoScaledTest = train_test_split(X_multipleNoScaled ,yieldNoScaled,test_size=0.3,shuffle=True)\n",
    "\n",
    "    X_volumenTrain = sc_X.transform(X_volumenNoScaledTrain)\n",
    "    X_volumenTest= sc_X.transform(X_volumenNoScaledTest)\n",
    "    yieldTrain= sc_y.transform(yieldNoScaledTrain)\n",
    "    yieldTest = sc_y.transform(yieldNoScaledTest)\n",
    "    X_multipleTrain = sc_XMulti.transform(X_multipleNoScaledTrain)\n",
    "    X_multipleTest = sc_XMulti.transform(X_multipleNoScaledTest)\n",
    "\n",
    "    valuesYeld.append(np.mean(yieldNoScaledTest))\n",
    "\n",
    "    model= LinearRegression()\n",
    "    model.fit(X_volumenNoScaledTrain ,yieldNoScaledTrain)\n",
    "    yPred=model.predict(X_volumenNoScaledTest)\n",
    "    print( \"Linear Regression Simple Predicted \",np.mean(yPred), \" Original \",np.mean(yieldNoScaledTest))\n",
    "    linearSimple.append(np.mean(yPred))\n",
    "\n",
    "    model= LinearRegression()\n",
    "    model.fit(X_multipleNoScaledTrain ,yieldNoScaledTrain)\n",
    "    yPred=model.predict(X_multipleNoScaledTest)\n",
    "    print( \"Linear Regression Multiple\",np.mean(yPred), \" Original \",np.mean(yieldNoScaledTest))\n",
    "    linearMultiple.append(np.mean(yPred))\n",
    "\n",
    "\n",
    "    model= SVR(kernel=\"linear\")\n",
    "    model.fit(X_volumenTrain ,yieldTrain.ravel())\n",
    "    yPred=model.predict(X_volumenTest)\n",
    "    print( \"SVR Linear Simple\",np.mean(sc_y.inverse_transform(yPred.reshape(1, -1))), \" Original \",np.mean(sc_y.inverse_transform(yieldTest.reshape(1, -1))))\n",
    "    svrSimple.append(np.mean(sc_y.inverse_transform(yPred.reshape(1, -1))))\n",
    "\n",
    "\n",
    "    model= SVR(kernel=\"linear\")\n",
    "    model.fit(X_multipleTrain ,yieldTrain.ravel())\n",
    "    yPred=model.predict(X_multipleTest)\n",
    "    print( \"SVR Linear Multiple\",np.mean(sc_y.inverse_transform(yPred.reshape(1, -1))), \" Original \",np.mean(sc_y.inverse_transform(yieldTest.reshape(1, -1))))\n",
    "    svrMultiple.append(np.mean(sc_y.inverse_transform(yPred.reshape(1, -1))))\n",
    "\n",
    "    model= linear_model.SGDRegressor(loss=\"squared_error\")\n",
    "    model.fit(X_volumenTrain ,yieldTrain.ravel())\n",
    "    yPred=model.predict(X_volumenTest)\n",
    "    print( \"SGD Simple Regressor\",np.mean(sc_y.inverse_transform(yPred.reshape(1, -1))), \" Original \",np.mean(sc_y.inverse_transform(yieldTest.reshape(1, -1))))\n",
    "    sdgSimple.append(np.mean(sc_y.inverse_transform(yPred.reshape(1, -1))))\n",
    "\n",
    "    model= linear_model.SGDRegressor(loss=\"squared_error\")\n",
    "    model.fit(X_multipleTrain ,yieldTrain.ravel())\n",
    "    yPred=model.predict(X_multipleTest)\n",
    "    print( \"SGD Multi Regressor\",np.mean(sc_y.inverse_transform(yPred.reshape(1, -1))), \" Original \",np.mean(sc_y.inverse_transform(yieldTest.reshape(1, -1))))\n",
    "    sdgMultiple.append(np.mean(sc_y.inverse_transform(yPred.reshape(1, -1))))\n",
    "\n",
    "    model= RandomForestRegressor()\n",
    "    model.fit(X_volumenTrain ,yieldTrain.ravel())\n",
    "    yPred=model.predict(X_volumenTest)\n",
    "    print( \"Simple Regressor Random forest\",np.mean(sc_y.inverse_transform(yPred.reshape(1, -1))), \" Original \",np.mean(sc_y.inverse_transform(yieldTest.reshape(1, -1))))\n",
    "    randomForestSimple.append(np.mean(sc_y.inverse_transform(yPred.reshape(1, -1))))\n",
    "\n",
    "\n",
    "    model= RandomForestRegressor()\n",
    "    model.fit(X_multipleTrain ,yieldTrain.ravel())\n",
    "    yPred=model.predict(X_multipleTest)\n",
    "    print( \"Multi Regressor Random Forest\",np.mean(sc_y.inverse_transform(yPred.reshape(1, -1))), \" Original \",np.mean(sc_y.inverse_transform(yieldTest.reshape(1, -1))))\n",
    "    randomForestMultiple.append(np.mean(sc_y.inverse_transform(yPred.reshape(1, -1))))\n",
    "\n",
    "    model= tree.DecisionTreeRegressor()\n",
    "    model.fit(X_volumenNoScaledTrain ,yieldNoScaledTrain)\n",
    "    yPred=model.predict(X_volumenNoScaledTest)\n",
    "    print( \"Decision Tree Simple Regressor \",np.mean(yPred), \" Original \",np.mean(yieldNoScaledTest))\n",
    "    decisionTreeSimple.append(np.mean(yPred))\n",
    "\n",
    "    model= tree.DecisionTreeRegressor()\n",
    "    model.fit(X_multipleNoScaledTrain ,yieldNoScaledTrain)\n",
    "    yPred=model.predict(X_multipleNoScaledTest)\n",
    "    print( \"Decision Tree Multi Regressor\",np.mean(yPred), \" Original \",np.mean(yieldNoScaledTest))\n",
    "    decisionTreeMultiple.append(np.mean(yPred))\n",
    "\n",
    "\n",
    "    model= linear_model.Lasso()\n",
    "    model.fit(X_volumenNoScaledTrain ,yieldNoScaledTrain)\n",
    "    yPred=model.predict(X_volumenNoScaledTest)\n",
    "    print( \"Lasso Regression Simple Predicted \",np.mean(yPred), \" Original \",np.mean(yieldNoScaledTest))\n",
    "    lassoSimple.append(np.mean(yPred))\n",
    "\n",
    "\n",
    "    model= linear_model.Lasso()\n",
    "    model.fit(X_multipleNoScaledTrain ,yieldNoScaledTrain)\n",
    "    yPred=model.predict(X_multipleNoScaledTest)\n",
    "    print( \"Lasso Regression Multiple \",np.mean(yPred), \" Original \",np.mean(yieldNoScaledTest))\n",
    "    lassoMultiple.append(np.mean(yPred))\n",
    "\n",
    "    model= ensemble.BaggingRegressor()\n",
    "    model.fit(X_volumenNoScaledTrain ,yieldNoScaledTrain)\n",
    "    yPred=model.predict(X_volumenNoScaledTest)\n",
    "    print( \"BaggingRegressor  Simple Predicted \",np.mean(yPred), \" Original \",np.mean(yieldNoScaledTest))\n",
    "    baggingSimple.append(np.mean(yPred))\n",
    "\n",
    "\n",
    "    model= ensemble.BaggingRegressor()\n",
    "    model.fit(X_multipleNoScaledTrain ,yieldNoScaledTrain)\n",
    "    yPred=model.predict(X_multipleNoScaledTest)\n",
    "    print( \"BaggingRegressor Multiple \",np.mean(yPred), \" Original \",np.mean(yieldNoScaledTest))\n",
    "    baggingMultiple.append(np.mean(yPred))\n",
    "\n",
    "\n",
    "    model= ensemble.AdaBoostRegressor(loss=\"square\")\n",
    "    model.fit(X_volumenNoScaledTrain ,yieldNoScaledTrain)\n",
    "    yPred=model.predict(X_volumenNoScaledTest)\n",
    "    print( \"AdaBoostRegressor  Simple Predicted \",np.mean(yPred), \" Original \",np.mean(yieldNoScaledTest))\n",
    "    addaBostSimple.append(np.mean(yPred))\n",
    "\n",
    "\n",
    "    model= ensemble.AdaBoostRegressor(loss=\"square\")\n",
    "    model.fit(X_multipleNoScaledTrain ,yieldNoScaledTrain)\n",
    "    yPred=model.predict(X_multipleNoScaledTest)\n",
    "    print( \"AdaBoostRegressor Multiple \",np.mean(yPred), \" Original \",np.mean(yieldNoScaledTest))\n",
    "    addaBostMultiple.append(np.mean(yPred))\n",
    "\n",
    "print(\"Yield \", np.mean(valuesYeld))\n",
    "print(\"linearSimple \", np.mean(linearSimple))\n",
    "print(\"linearMultiple \", np.mean(linearMultiple))\n",
    "print(\"svrSimple \", np.mean(svrSimple))\n",
    "print(\"svrMultiple \", np.mean(svrMultiple))\n",
    "print(\"sdgSimple \", np.mean(sdgSimple))\n",
    "print(\"sdgMultiple \", np.mean(sdgMultiple))\n",
    "print(\"randomForestSimple \", np.mean(randomForestSimple))\n",
    "print(\"randomForestMultiple \", np.mean(randomForestMultiple))\n",
    "print(\"decisionTreeSimple \", np.mean(decisionTreeSimple))\n",
    "print(\"decisionTreeMultiple \", np.mean(decisionTreeMultiple))\n",
    "print(\"lassoSimple \", np.mean(lassoSimple))\n",
    "print(\"lassoMultiple \", np.mean(lassoMultiple))\n",
    "print(\"baggingSimple \", np.mean(baggingSimple))\n",
    "print(\"baggingMultiple \", np.mean(baggingMultiple))\n",
    "print(\"addaBostSimple \", np.mean(addaBostSimple))\n",
    "print(\"addaBostMultiple \", np.mean(addaBostMultiple))"
   ]
  },
  {
   "cell_type": "markdown",
   "metadata": {},
   "source": []
  }
 ],
 "metadata": {
  "kernelspec": {
   "display_name": "Python 3.7.7 64-bit",
   "language": "python",
   "name": "python3"
  },
  "language_info": {
   "codemirror_mode": {
    "name": "ipython",
    "version": 3
   },
   "file_extension": ".py",
   "mimetype": "text/x-python",
   "name": "python",
   "nbconvert_exporter": "python",
   "pygments_lexer": "ipython3",
   "version": "3.7.7"
  },
  "orig_nbformat": 4,
  "vscode": {
   "interpreter": {
    "hash": "fab46d772d21f764a59cf4f13946263a2b97144f4b3a26e55c5a66f62bca7d32"
   }
  }
 },
 "nbformat": 4,
 "nbformat_minor": 2
}
