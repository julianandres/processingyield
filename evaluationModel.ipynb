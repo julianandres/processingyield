{
 "cells": [
  {
   "cell_type": "markdown",
   "metadata": {},
   "source": [
    "<b>1</b> OBTENCIÓN DE DATOS"
   ]
  },
  {
   "cell_type": "code",
   "execution_count": 1,
   "metadata": {},
   "outputs": [],
   "source": [
    "import definirCorrelacionVariables\n",
    "from matplotlib import pyplot\n",
    "from sklearn.metrics import r2_score\n",
    "from scipy.optimize import curve_fit\n",
    "import seaborn as sns\n",
    "import pandas as pd\n",
    "import numpy as np\n",
    "import pylab as pl\n",
    "import math\n",
    "\n",
    "data= definirCorrelacionVariables.getDataFromDataBase()\n",
    "dataframeTrain,datosTrain,dictGeneralTrain = definirCorrelacionVariables.generarMatrizDatos(data,True)\n",
    "\n",
    "data= definirCorrelacionVariables.getDataFromDataBaseTest()\n",
    "dataframeTest,datosTest,dictGeneralTest = definirCorrelacionVariables.generarMatrizDatos(data,False)"
   ]
  },
  {
   "cell_type": "markdown",
   "metadata": {},
   "source": [
    "<b>2</b> pre PROCESAMIENTO DE DATA"
   ]
  },
  {
   "cell_type": "code",
   "execution_count": null,
   "metadata": {},
   "outputs": [],
   "source": []
  },
  {
   "cell_type": "markdown",
   "metadata": {},
   "source": [
    "3. OBTENCIÓN DE CORRELACIÓN MÚLTIPLE"
   ]
  },
  {
   "cell_type": "markdown",
   "metadata": {},
   "source": [
    "SE CALCULA LA VARIABLE EL IAF\n",
    "$Ac = \\pi*r*g $\n",
    "\n",
    "$g = \\sqrt(h^2 + r^2) $\n",
    "\n",
    "Se tiene que $r = Di/2$\n",
    "\n",
    "$Ac = \\pi*r*\\sqrt(h^2 + r^2)$\n",
    "\n",
    "$Ac = \\pi*\\frac{Di}{4}*\\sqrt(4*h^2 + Di^2)$\n",
    "\n",
    "Diametro\n",
    "\n",
    "$diameter = 2*\\sqrt(\\frac{area}{\\pi})$"
   ]
  },
  {
   "cell_type": "code",
   "execution_count": 2,
   "metadata": {},
   "outputs": [],
   "source": [
    "\n",
    "\n",
    "areaLateralTrain = []\n",
    "volumeFromDiameterTrain= []\n",
    "diametrosTrain=[]\n",
    "for index,x in enumerate(datosTrain.datosArea):\n",
    "    diametro = 2*math.sqrt(x/math.pi)\n",
    "    diametrosTrain.append(diametro)\n",
    "    altura= datosTrain.datosAlturaCalculada[index]/100\n",
    "    valueAreaLateral=diametro*math.sqrt((diametro*diametro)+4*(altura*altura))\n",
    "    valueVolume = math.pi*diametro*diametro*altura*(1/6)\n",
    "    volumeFromDiameterTrain.append(valueVolume)\n",
    "    areaLateralTrain.append(valueAreaLateral)\n",
    "areaLateralTest = []\n",
    "volumeFromDiameterTest = []\n",
    "diametrosTest=[]\n",
    "for index,x in enumerate(datosTest.datosArea):\n",
    "    diametro = 2*math.sqrt(x/math.pi)\n",
    "    diametrosTest.append(diametro)\n",
    "    altura= datosTest.datosAlturaCalculada[index]/100\n",
    "    valueAreaLateral=diametro*math.sqrt((diametro*diametro)+4*(altura*altura))\n",
    "    valueVolume = math.pi*diametro*diametro*altura*(1/6)\n",
    "    volumeFromDiameterTest.append(valueVolume)\n",
    "    areaLateralTest.append(valueAreaLateral)\n"
   ]
  },
  {
   "cell_type": "markdown",
   "metadata": {},
   "source": [
    "<b style=\"color:orange;\">LAI CALCULATED FROM EQUATION BASED ON VOLUME and AREA</b>\n",
    "\n",
    "Se calcula el IAF usando Volumen Imagen y Yield\n",
    "\n",
    "$IAF =  0.0134 + 2.7791 Vc$\n",
    "\n",
    "Se calcula IAF usando Area Lateral y Yield\n",
    "\n",
    "$IAF =  -0.5786 + 0.7896 Alat $\n"
   ]
  },
  {
   "cell_type": "code",
   "execution_count": 3,
   "metadata": {},
   "outputs": [],
   "source": [
    "\n",
    "IAF_from_volumeTrain = definirCorrelacionVariables.objective(datosTrain.datosVolumenImagen, 2.7791,0.0134)\n",
    "IAF_from_areaTrain = definirCorrelacionVariables.objective(areaLateralTrain, 0.7896,-0.5786)\n",
    "d = {\"latArea\":areaLateralTrain, \"IAF_VOL\":IAF_from_volumeTrain, \"IAF_AREA\":IAF_from_areaTrain}\n",
    "dictGeneralTrain.update(d)\n",
    "dframeFinalTrain = pd.DataFrame(data=dictGeneralTrain)\n",
    "\n",
    "IAF_from_volumeTest = definirCorrelacionVariables.objective(datosTest.datosVolumenImagen, 2.7791,0.0134)\n",
    "IAF_from_areaTest = definirCorrelacionVariables.objective(areaLateralTest, 0.7896,-0.5786)\n",
    "d = {\"latArea\":areaLateralTest, \"IAF_VOL\":IAF_from_volumeTest, \"IAF_AREA\":IAF_from_areaTest}\n",
    "dictGeneralTest.update(d)\n",
    "dframeFinal = pd.DataFrame(data=dictGeneralTest)\n",
    "\n"
   ]
  },
  {
   "cell_type": "markdown",
   "metadata": {},
   "source": []
  }
 ],
 "metadata": {
  "interpreter": {
   "hash": "fab46d772d21f764a59cf4f13946263a2b97144f4b3a26e55c5a66f62bca7d32"
  },
  "kernelspec": {
   "display_name": "Python 3.7.7 64-bit",
   "language": "python",
   "name": "python3"
  },
  "language_info": {
   "codemirror_mode": {
    "name": "ipython",
    "version": 3
   },
   "file_extension": ".py",
   "mimetype": "text/x-python",
   "name": "python",
   "nbconvert_exporter": "python",
   "pygments_lexer": "ipython3",
   "version": "3.7.7"
  },
  "orig_nbformat": 4
 },
 "nbformat": 4,
 "nbformat_minor": 2
}
